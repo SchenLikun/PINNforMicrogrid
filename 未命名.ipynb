{
 "cells": [
  {
   "cell_type": "code",
   "execution_count": 45,
   "id": "9e87d1c3",
   "metadata": {
    "ExecuteTime": {
     "end_time": "2024-02-26T15:50:37.737316Z",
     "start_time": "2024-02-26T15:50:29.899587300Z"
    },
    "scrolled": true
   },
   "outputs": [],
   "source": [
    "from PID_MAIN import *"
   ]
  },
  {
   "cell_type": "code",
   "execution_count": 46,
   "id": "27b1adce",
   "metadata": {
    "ExecuteTime": {
     "end_time": "2024-02-26T15:50:37.746011600Z",
     "start_time": "2024-02-26T15:50:37.737316Z"
    }
   },
   "outputs": [],
   "source": [
    "import pandas as pd"
   ]
  },
  {
   "cell_type": "code",
   "execution_count": 47,
   "id": "d08e9a66",
   "metadata": {
    "ExecuteTime": {
     "end_time": "2024-02-26T15:50:50.381482400Z",
     "start_time": "2024-02-26T15:50:50.317358700Z"
    }
   },
   "outputs": [],
   "source": [
    "input_data_path = 'data/pi/0122IslandQControl.csv'\n",
    "pid = PID(path=input_data_path)\n",
    "# pid.build()"
   ]
  },
  {
   "cell_type": "code",
   "execution_count": 48,
   "id": "07f6d581",
   "metadata": {
    "ExecuteTime": {
     "start_time": "2024-02-26T15:50:40.850326100Z"
    },
    "scrolled": true
   },
   "outputs": [
    {
     "data": {
      "text/html": [
       "<div>\n",
       "<style scoped>\n",
       "    .dataframe tbody tr th:only-of-type {\n",
       "        vertical-align: middle;\n",
       "    }\n",
       "\n",
       "    .dataframe tbody tr th {\n",
       "        vertical-align: top;\n",
       "    }\n",
       "\n",
       "    .dataframe thead th {\n",
       "        text-align: right;\n",
       "    }\n",
       "</style>\n",
       "<table border=\"1\" class=\"dataframe\">\n",
       "  <thead>\n",
       "    <tr style=\"text-align: right;\">\n",
       "      <th></th>\n",
       "      <th>DeltaQ</th>\n",
       "      <th>Iqref</th>\n",
       "      <th>Iq</th>\n",
       "      <th>DeltaIq</th>\n",
       "      <th>DeltaUq</th>\n",
       "    </tr>\n",
       "    <tr>\n",
       "      <th>Time</th>\n",
       "      <th></th>\n",
       "      <th></th>\n",
       "      <th></th>\n",
       "      <th></th>\n",
       "      <th></th>\n",
       "    </tr>\n",
       "  </thead>\n",
       "  <tbody>\n",
       "    <tr>\n",
       "      <th>0.00000</th>\n",
       "      <td>-0.000143</td>\n",
       "      <td>-0.021431</td>\n",
       "      <td>-0.021464</td>\n",
       "      <td>0.000032</td>\n",
       "      <td>0.014657</td>\n",
       "    </tr>\n",
       "    <tr>\n",
       "      <th>0.00005</th>\n",
       "      <td>-0.000152</td>\n",
       "      <td>-0.021431</td>\n",
       "      <td>-0.021475</td>\n",
       "      <td>0.000044</td>\n",
       "      <td>0.014657</td>\n",
       "    </tr>\n",
       "    <tr>\n",
       "      <th>0.00010</th>\n",
       "      <td>-0.000161</td>\n",
       "      <td>-0.021431</td>\n",
       "      <td>-0.021486</td>\n",
       "      <td>0.000055</td>\n",
       "      <td>0.014658</td>\n",
       "    </tr>\n",
       "    <tr>\n",
       "      <th>0.00015</th>\n",
       "      <td>-0.000169</td>\n",
       "      <td>-0.021431</td>\n",
       "      <td>-0.021497</td>\n",
       "      <td>0.000067</td>\n",
       "      <td>0.014658</td>\n",
       "    </tr>\n",
       "    <tr>\n",
       "      <th>0.00020</th>\n",
       "      <td>-0.000178</td>\n",
       "      <td>-0.021430</td>\n",
       "      <td>-0.021509</td>\n",
       "      <td>0.000078</td>\n",
       "      <td>0.014658</td>\n",
       "    </tr>\n",
       "    <tr>\n",
       "      <th>...</th>\n",
       "      <td>...</td>\n",
       "      <td>...</td>\n",
       "      <td>...</td>\n",
       "      <td>...</td>\n",
       "      <td>...</td>\n",
       "    </tr>\n",
       "    <tr>\n",
       "      <th>0.09975</th>\n",
       "      <td>-0.003551</td>\n",
       "      <td>-0.017704</td>\n",
       "      <td>-0.026744</td>\n",
       "      <td>0.009040</td>\n",
       "      <td>0.015658</td>\n",
       "    </tr>\n",
       "    <tr>\n",
       "      <th>0.09980</th>\n",
       "      <td>-0.003559</td>\n",
       "      <td>-0.017703</td>\n",
       "      <td>-0.026752</td>\n",
       "      <td>0.009049</td>\n",
       "      <td>0.015659</td>\n",
       "    </tr>\n",
       "    <tr>\n",
       "      <th>0.09985</th>\n",
       "      <td>-0.003567</td>\n",
       "      <td>-0.017702</td>\n",
       "      <td>-0.026759</td>\n",
       "      <td>0.009057</td>\n",
       "      <td>0.015659</td>\n",
       "    </tr>\n",
       "    <tr>\n",
       "      <th>0.09990</th>\n",
       "      <td>-0.003575</td>\n",
       "      <td>-0.017701</td>\n",
       "      <td>-0.026766</td>\n",
       "      <td>0.009066</td>\n",
       "      <td>0.015660</td>\n",
       "    </tr>\n",
       "    <tr>\n",
       "      <th>0.09995</th>\n",
       "      <td>-0.003583</td>\n",
       "      <td>-0.017700</td>\n",
       "      <td>-0.026773</td>\n",
       "      <td>0.009074</td>\n",
       "      <td>0.015660</td>\n",
       "    </tr>\n",
       "  </tbody>\n",
       "</table>\n",
       "<p>2000 rows × 5 columns</p>\n",
       "</div>"
      ],
      "text/plain": [
       "           DeltaQ     Iqref        Iq   DeltaIq   DeltaUq\n",
       "Time                                                     \n",
       "0.00000 -0.000143 -0.021431 -0.021464  0.000032  0.014657\n",
       "0.00005 -0.000152 -0.021431 -0.021475  0.000044  0.014657\n",
       "0.00010 -0.000161 -0.021431 -0.021486  0.000055  0.014658\n",
       "0.00015 -0.000169 -0.021431 -0.021497  0.000067  0.014658\n",
       "0.00020 -0.000178 -0.021430 -0.021509  0.000078  0.014658\n",
       "...           ...       ...       ...       ...       ...\n",
       "0.09975 -0.003551 -0.017704 -0.026744  0.009040  0.015658\n",
       "0.09980 -0.003559 -0.017703 -0.026752  0.009049  0.015659\n",
       "0.09985 -0.003567 -0.017702 -0.026759  0.009057  0.015659\n",
       "0.09990 -0.003575 -0.017701 -0.026766  0.009066  0.015660\n",
       "0.09995 -0.003583 -0.017700 -0.026773  0.009074  0.015660\n",
       "\n",
       "[2000 rows x 5 columns]"
      ]
     },
     "execution_count": 48,
     "metadata": {},
     "output_type": "execute_result"
    }
   ],
   "source": [
    "data = pid.input_data\n",
    "data"
   ]
  },
  {
   "cell_type": "code",
   "execution_count": 49,
   "id": "d4941f1b",
   "metadata": {
    "ExecuteTime": {
     "start_time": "2024-02-26T15:50:40.853835Z"
    }
   },
   "outputs": [],
   "source": [
    "time_step = data.index[1] - data.index[0]"
   ]
  },
  {
   "cell_type": "code",
   "execution_count": 50,
   "id": "aebb9381",
   "metadata": {
    "ExecuteTime": {
     "end_time": "2024-02-26T15:50:40.855834800Z",
     "start_time": "2024-02-26T15:50:40.854834800Z"
    }
   },
   "outputs": [],
   "source": [
    "I_t = (data.DeltaQ.to_numpy()[2:] - data.DeltaQ.to_numpy()[:-2]) / (2 * time_step)"
   ]
  },
  {
   "cell_type": "code",
   "execution_count": 51,
   "id": "bee7acec",
   "metadata": {
    "ExecuteTime": {
     "start_time": "2024-02-26T15:50:40.856834600Z"
    }
   },
   "outputs": [],
   "source": [
    "O_t = (data.Iqref.to_numpy()[2:] - data.Iqref.to_numpy()[:-2]) / (2 * time_step)"
   ]
  },
  {
   "cell_type": "code",
   "execution_count": 52,
   "id": "41652bd6",
   "metadata": {
    "ExecuteTime": {
     "end_time": "2024-02-01T12:14:51.935197500Z",
     "start_time": "2024-02-01T12:14:51.761951900Z"
    }
   },
   "outputs": [
    {
     "data": {
      "text/plain": [
       "<Axes: >"
      ]
     },
     "execution_count": 52,
     "metadata": {},
     "output_type": "execute_result"
    },
    {
     "data": {
      "image/png": "[encoded data removed]",
      "text/plain": [
       "<Figure size 640x480 with 1 Axes>"
      ]
     },
     "metadata": {},
     "output_type": "display_data"
    }
   ],
   "source": [
    "pd.DataFrame([I_t*(-0.025)+data.DeltaQ.to_numpy()[1:-1]*(-5), O_t]).T.plot()"
   ]
  },
  {
   "cell_type": "code",
   "execution_count": 53,
   "id": "6bdcfe12",
   "metadata": {
    "ExecuteTime": {
     "end_time": "2024-02-01T12:14:59.322611400Z",
     "start_time": "2024-02-01T12:14:59.306304Z"
    }
   },
   "outputs": [],
   "source": [
    "I_t = (data.DeltaIq.to_numpy()[2:] - data.DeltaIq.to_numpy()[:-2]) / (2 * time_step)"
   ]
  },
  {
   "cell_type": "code",
   "execution_count": 10,
   "id": "c0ca2a15",
   "metadata": {
    "ExecuteTime": {
     "end_time": "2024-02-01T12:15:00.030897400Z",
     "start_time": "2024-02-01T12:15:00.021887300Z"
    }
   },
   "outputs": [],
   "source": [
    "O_t = (data.DeltaUq.to_numpy()[2:] - data.DeltaUq.to_numpy()[:-2]) / (2 * time_step)"
   ]
  },
  {
   "cell_type": "code",
   "execution_count": 11,
   "id": "f4b62943",
   "metadata": {
    "ExecuteTime": {
     "end_time": "2024-02-01T12:15:01.153045200Z",
     "start_time": "2024-02-01T12:15:01.059381600Z"
    }
   },
   "outputs": [
    {
     "name": "stdout",
     "output_type": "stream",
     "text": [
      "Axes(0.125,0.11;0.775x0.77)\n"
     ]
    },
    {
     "data": {
      "image/png": "[encoded data removed]",
      "text/plain": [
       "<Figure size 640x480 with 1 Axes>"
      ]
     },
     "metadata": {},
     "output_type": "display_data"
    }
   ],
   "source": [
    "print(pd.DataFrame([I_t*(0.025)+data.DeltaIq.to_numpy()[1:-1]*(.5), O_t]).T.plot())"
   ]
  },
  {
   "cell_type": "code",
   "execution_count": 12,
   "id": "6727d389",
   "metadata": {
    "ExecuteTime": {
     "end_time": "2024-02-01T12:15:08.528022100Z",
     "start_time": "2024-02-01T12:15:08.516493300Z"
    }
   },
   "outputs": [],
   "source": [
    "def data_plot(data, I, O, kp, ki):\n",
    "    I_t = (data[I].to_numpy()[2:] - data[I].to_numpy()[:-2]) / (2 * time_step)\n",
    "    O_t = (data[O].to_numpy()[2:] - data[O].to_numpy()[:-2]) / (2 * time_step)\n",
    "    print(pd.DataFrame([I_t*kp+data[I].to_numpy()[1:-1]*ki, O_t]).T.plot())"
   ]
  },
  {
   "cell_type": "code",
   "execution_count": 13,
   "id": "3362fa97",
   "metadata": {
    "ExecuteTime": {
     "end_time": "2024-02-01T12:15:11.161340500Z",
     "start_time": "2024-02-01T12:15:11.156827600Z"
    }
   },
   "outputs": [],
   "source": [
    "data_path = 'data/pi/0122OngridDControl.csv'"
   ]
  },
  {
   "cell_type": "code",
   "execution_count": 14,
   "id": "2f0fb00e",
   "metadata": {
    "ExecuteTime": {
     "end_time": "2024-02-01T12:15:11.885752900Z",
     "start_time": "2024-02-01T12:15:11.879537600Z"
    }
   },
   "outputs": [],
   "source": [
    "data = pd.read_csv(data_path)"
   ]
  },
  {
   "cell_type": "code",
   "execution_count": 15,
   "id": "ac460bbd",
   "metadata": {
    "ExecuteTime": {
     "end_time": "2024-02-01T12:15:13.286982400Z",
     "start_time": "2024-02-01T12:15:13.279967500Z"
    }
   },
   "outputs": [
    {
     "data": {
      "text/html": [
       "<div>\n",
       "<style scoped>\n",
       "    .dataframe tbody tr th:only-of-type {\n",
       "        vertical-align: middle;\n",
       "    }\n",
       "\n",
       "    .dataframe tbody tr th {\n",
       "        vertical-align: top;\n",
       "    }\n",
       "\n",
       "    .dataframe thead th {\n",
       "        text-align: right;\n",
       "    }\n",
       "</style>\n",
       "<table border=\"1\" class=\"dataframe\">\n",
       "  <thead>\n",
       "    <tr style=\"text-align: right;\">\n",
       "      <th></th>\n",
       "      <th>Time</th>\n",
       "      <th>Subsystem #1|CTLs|Vars|Isderr8</th>\n",
       "      <th>Subsystem #1|CTLs|Vars|Isdrefongrid8</th>\n",
       "      <th>Subsystem #1|CTLs|Vars|PrefPV</th>\n",
       "      <th>Subsystem #1|CTLs|Vars|VDCerr</th>\n",
       "      <th>Subsystem #1|CTLs|Vars|udA8</th>\n",
       "    </tr>\n",
       "  </thead>\n",
       "  <tbody>\n",
       "    <tr>\n",
       "      <th>0</th>\n",
       "      <td>0.00000</td>\n",
       "      <td>0.000195</td>\n",
       "      <td>0.681867</td>\n",
       "      <td>0.317343</td>\n",
       "      <td>0.000069</td>\n",
       "      <td>-0.000092</td>\n",
       "    </tr>\n",
       "    <tr>\n",
       "      <th>1</th>\n",
       "      <td>0.00005</td>\n",
       "      <td>0.000202</td>\n",
       "      <td>0.681869</td>\n",
       "      <td>0.317344</td>\n",
       "      <td>0.000071</td>\n",
       "      <td>-0.000091</td>\n",
       "    </tr>\n",
       "    <tr>\n",
       "      <th>2</th>\n",
       "      <td>0.00010</td>\n",
       "      <td>0.000208</td>\n",
       "      <td>0.681871</td>\n",
       "      <td>0.317345</td>\n",
       "      <td>0.000072</td>\n",
       "      <td>-0.000091</td>\n",
       "    </tr>\n",
       "    <tr>\n",
       "      <th>3</th>\n",
       "      <td>0.00015</td>\n",
       "      <td>0.000215</td>\n",
       "      <td>0.681872</td>\n",
       "      <td>0.317345</td>\n",
       "      <td>0.000073</td>\n",
       "      <td>-0.000091</td>\n",
       "    </tr>\n",
       "    <tr>\n",
       "      <th>4</th>\n",
       "      <td>0.00020</td>\n",
       "      <td>0.000221</td>\n",
       "      <td>0.681874</td>\n",
       "      <td>0.317346</td>\n",
       "      <td>0.000074</td>\n",
       "      <td>-0.000091</td>\n",
       "    </tr>\n",
       "    <tr>\n",
       "      <th>...</th>\n",
       "      <td>...</td>\n",
       "      <td>...</td>\n",
       "      <td>...</td>\n",
       "      <td>...</td>\n",
       "      <td>...</td>\n",
       "      <td>...</td>\n",
       "    </tr>\n",
       "    <tr>\n",
       "      <th>1995</th>\n",
       "      <td>0.09975</td>\n",
       "      <td>-0.000307</td>\n",
       "      <td>0.680261</td>\n",
       "      <td>0.316595</td>\n",
       "      <td>-0.001299</td>\n",
       "      <td>-0.000102</td>\n",
       "    </tr>\n",
       "    <tr>\n",
       "      <th>1996</th>\n",
       "      <td>0.09980</td>\n",
       "      <td>-0.000299</td>\n",
       "      <td>0.680263</td>\n",
       "      <td>0.316596</td>\n",
       "      <td>-0.001296</td>\n",
       "      <td>-0.000102</td>\n",
       "    </tr>\n",
       "    <tr>\n",
       "      <th>1997</th>\n",
       "      <td>0.09985</td>\n",
       "      <td>-0.000291</td>\n",
       "      <td>0.680265</td>\n",
       "      <td>0.316597</td>\n",
       "      <td>-0.001294</td>\n",
       "      <td>-0.000102</td>\n",
       "    </tr>\n",
       "    <tr>\n",
       "      <th>1998</th>\n",
       "      <td>0.09990</td>\n",
       "      <td>-0.000283</td>\n",
       "      <td>0.680267</td>\n",
       "      <td>0.316598</td>\n",
       "      <td>-0.001291</td>\n",
       "      <td>-0.000102</td>\n",
       "    </tr>\n",
       "    <tr>\n",
       "      <th>1999</th>\n",
       "      <td>0.09995</td>\n",
       "      <td>-0.000275</td>\n",
       "      <td>0.680269</td>\n",
       "      <td>0.316599</td>\n",
       "      <td>-0.001289</td>\n",
       "      <td>-0.000102</td>\n",
       "    </tr>\n",
       "  </tbody>\n",
       "</table>\n",
       "<p>2000 rows × 6 columns</p>\n",
       "</div>"
      ],
      "text/plain": [
       "         Time  Subsystem #1|CTLs|Vars|Isderr8  \\\n",
       "0     0.00000                        0.000195   \n",
       "1     0.00005                        0.000202   \n",
       "2     0.00010                        0.000208   \n",
       "3     0.00015                        0.000215   \n",
       "4     0.00020                        0.000221   \n",
       "...       ...                             ...   \n",
       "1995  0.09975                       -0.000307   \n",
       "1996  0.09980                       -0.000299   \n",
       "1997  0.09985                       -0.000291   \n",
       "1998  0.09990                       -0.000283   \n",
       "1999  0.09995                       -0.000275   \n",
       "\n",
       "      Subsystem #1|CTLs|Vars|Isdrefongrid8  Subsystem #1|CTLs|Vars|PrefPV  \\\n",
       "0                                 0.681867                       0.317343   \n",
       "1                                 0.681869                       0.317344   \n",
       "2                                 0.681871                       0.317345   \n",
       "3                                 0.681872                       0.317345   \n",
       "4                                 0.681874                       0.317346   \n",
       "...                                    ...                            ...   \n",
       "1995                              0.680261                       0.316595   \n",
       "1996                              0.680263                       0.316596   \n",
       "1997                              0.680265                       0.316597   \n",
       "1998                              0.680267                       0.316598   \n",
       "1999                              0.680269                       0.316599   \n",
       "\n",
       "      Subsystem #1|CTLs|Vars|VDCerr  Subsystem #1|CTLs|Vars|udA8  \n",
       "0                          0.000069                    -0.000092  \n",
       "1                          0.000071                    -0.000091  \n",
       "2                          0.000072                    -0.000091  \n",
       "3                          0.000073                    -0.000091  \n",
       "4                          0.000074                    -0.000091  \n",
       "...                             ...                          ...  \n",
       "1995                      -0.001299                    -0.000102  \n",
       "1996                      -0.001296                    -0.000102  \n",
       "1997                      -0.001294                    -0.000102  \n",
       "1998                      -0.001291                    -0.000102  \n",
       "1999                      -0.001289                    -0.000102  \n",
       "\n",
       "[2000 rows x 6 columns]"
      ]
     },
     "execution_count": 15,
     "metadata": {},
     "output_type": "execute_result"
    }
   ],
   "source": [
    "data"
   ]
  },
  {
   "cell_type": "code",
   "execution_count": 16,
   "id": "92936a1c",
   "metadata": {
    "ExecuteTime": {
     "end_time": "2024-02-01T17:13:27.027640200Z",
     "start_time": "2024-02-01T17:13:26.931860700Z"
    },
    "scrolled": true
   },
   "outputs": [
    {
     "name": "stdout",
     "output_type": "stream",
     "text": [
      "Axes(0.125,0.11;0.775x0.77)\n"
     ]
    },
    {
     "data": {
      "image/png": "[encoded data removed]",
      "text/plain": [
       "<Figure size 640x480 with 1 Axes>"
      ]
     },
     "metadata": {},
     "output_type": "display_data"
    }
   ],
   "source": [
    "data_plot(data, 'Subsystem #1|CTLs|Vars|VDCerr', 'Subsystem #1|CTLs|Vars|PrefPV', 0.6,5.99)"
   ]
  },
  {
   "cell_type": "code",
   "execution_count": 17,
   "id": "bf0e60ef",
   "metadata": {
    "ExecuteTime": {
     "end_time": "2024-02-01T17:13:28.946726700Z",
     "start_time": "2024-02-01T17:13:28.853091Z"
    },
    "scrolled": true
   },
   "outputs": [
    {
     "name": "stdout",
     "output_type": "stream",
     "text": [
      "Axes(0.125,0.11;0.775x0.77)\n"
     ]
    },
    {
     "data": {
      "image/png": "[encoded data removed]",
      "text/plain": [
       "<Figure size 640x480 with 1 Axes>"
      ]
     },
     "metadata": {},
     "output_type": "display_data"
    }
   ],
   "source": [
    "data_plot(data, 'Subsystem #1|CTLs|Vars|Isderr8', 'Subsystem #1|CTLs|Vars|udA8', 0.0268, 0.16)"
   ]
  },
  {
   "cell_type": "code",
   "execution_count": null,
   "id": "c2eab59d",
   "metadata": {},
   "outputs": [],
   "source": []
  },
  {
   "cell_type": "code",
   "execution_count": 18,
   "id": "d8c84df6",
   "metadata": {},
   "outputs": [
    {
     "data": {
      "text/html": [
       "<div>\n",
       "<style scoped>\n",
       "    .dataframe tbody tr th:only-of-type {\n",
       "        vertical-align: middle;\n",
       "    }\n",
       "\n",
       "    .dataframe tbody tr th {\n",
       "        vertical-align: top;\n",
       "    }\n",
       "\n",
       "    .dataframe thead th {\n",
       "        text-align: right;\n",
       "    }\n",
       "</style>\n",
       "<table border=\"1\" class=\"dataframe\">\n",
       "  <thead>\n",
       "    <tr style=\"text-align: right;\">\n",
       "      <th></th>\n",
       "      <th>DeltaQ</th>\n",
       "      <th>Iqref</th>\n",
       "      <th>Iq</th>\n",
       "      <th>DeltaIq</th>\n",
       "      <th>DeltaUq</th>\n",
       "    </tr>\n",
       "    <tr>\n",
       "      <th>Time</th>\n",
       "      <th></th>\n",
       "      <th></th>\n",
       "      <th></th>\n",
       "      <th></th>\n",
       "      <th></th>\n",
       "    </tr>\n",
       "  </thead>\n",
       "  <tbody>\n",
       "    <tr>\n",
       "      <th>0.00000</th>\n",
       "      <td>0.000045</td>\n",
       "      <td>-0.021436</td>\n",
       "      <td>-0.021258</td>\n",
       "      <td>-0.000179</td>\n",
       "      <td>0.014652</td>\n",
       "    </tr>\n",
       "    <tr>\n",
       "      <th>0.00005</th>\n",
       "      <td>0.000035</td>\n",
       "      <td>-0.021436</td>\n",
       "      <td>-0.021268</td>\n",
       "      <td>-0.000168</td>\n",
       "      <td>0.014652</td>\n",
       "    </tr>\n",
       "    <tr>\n",
       "      <th>0.00010</th>\n",
       "      <td>0.000025</td>\n",
       "      <td>-0.021436</td>\n",
       "      <td>-0.021278</td>\n",
       "      <td>-0.000158</td>\n",
       "      <td>0.014652</td>\n",
       "    </tr>\n",
       "    <tr>\n",
       "      <th>0.00015</th>\n",
       "      <td>0.000014</td>\n",
       "      <td>-0.021436</td>\n",
       "      <td>-0.021288</td>\n",
       "      <td>-0.000148</td>\n",
       "      <td>0.014653</td>\n",
       "    </tr>\n",
       "    <tr>\n",
       "      <th>0.00020</th>\n",
       "      <td>0.000004</td>\n",
       "      <td>-0.021435</td>\n",
       "      <td>-0.021298</td>\n",
       "      <td>-0.000137</td>\n",
       "      <td>0.014653</td>\n",
       "    </tr>\n",
       "    <tr>\n",
       "      <th>...</th>\n",
       "      <td>...</td>\n",
       "      <td>...</td>\n",
       "      <td>...</td>\n",
       "      <td>...</td>\n",
       "      <td>...</td>\n",
       "    </tr>\n",
       "    <tr>\n",
       "      <th>0.09975</th>\n",
       "      <td>0.047324</td>\n",
       "      <td>-0.033827</td>\n",
       "      <td>0.108044</td>\n",
       "      <td>-0.141872</td>\n",
       "      <td>-0.004037</td>\n",
       "    </tr>\n",
       "    <tr>\n",
       "      <th>0.09980</th>\n",
       "      <td>0.047709</td>\n",
       "      <td>-0.033849</td>\n",
       "      <td>0.109032</td>\n",
       "      <td>-0.142880</td>\n",
       "      <td>-0.004066</td>\n",
       "    </tr>\n",
       "    <tr>\n",
       "      <th>0.09985</th>\n",
       "      <td>0.048081</td>\n",
       "      <td>-0.033870</td>\n",
       "      <td>0.110019</td>\n",
       "      <td>-0.143889</td>\n",
       "      <td>-0.004094</td>\n",
       "    </tr>\n",
       "    <tr>\n",
       "      <th>0.09990</th>\n",
       "      <td>0.048440</td>\n",
       "      <td>-0.033891</td>\n",
       "      <td>0.111005</td>\n",
       "      <td>-0.144896</td>\n",
       "      <td>-0.004123</td>\n",
       "    </tr>\n",
       "    <tr>\n",
       "      <th>0.09995</th>\n",
       "      <td>0.048787</td>\n",
       "      <td>-0.033912</td>\n",
       "      <td>0.111990</td>\n",
       "      <td>-0.145902</td>\n",
       "      <td>-0.004152</td>\n",
       "    </tr>\n",
       "  </tbody>\n",
       "</table>\n",
       "<p>2000 rows × 5 columns</p>\n",
       "</div>"
      ],
      "text/plain": [
       "           DeltaQ     Iqref        Iq   DeltaIq   DeltaUq\n",
       "Time                                                     \n",
       "0.00000  0.000045 -0.021436 -0.021258 -0.000179  0.014652\n",
       "0.00005  0.000035 -0.021436 -0.021268 -0.000168  0.014652\n",
       "0.00010  0.000025 -0.021436 -0.021278 -0.000158  0.014652\n",
       "0.00015  0.000014 -0.021436 -0.021288 -0.000148  0.014653\n",
       "0.00020  0.000004 -0.021435 -0.021298 -0.000137  0.014653\n",
       "...           ...       ...       ...       ...       ...\n",
       "0.09975  0.047324 -0.033827  0.108044 -0.141872 -0.004037\n",
       "0.09980  0.047709 -0.033849  0.109032 -0.142880 -0.004066\n",
       "0.09985  0.048081 -0.033870  0.110019 -0.143889 -0.004094\n",
       "0.09990  0.048440 -0.033891  0.111005 -0.144896 -0.004123\n",
       "0.09995  0.048787 -0.033912  0.111990 -0.145902 -0.004152\n",
       "\n",
       "[2000 rows x 5 columns]"
      ]
     },
     "execution_count": 18,
     "metadata": {},
     "output_type": "execute_result"
    }
   ],
   "source": [
    "pid.input_data"
   ]
  },
  {
   "cell_type": "code",
   "execution_count": 19,
   "id": "6a44fb3a",
   "metadata": {},
   "outputs": [
    {
     "data": {
      "text/plain": [
       "5e-05"
      ]
     },
     "execution_count": 19,
     "metadata": {},
     "output_type": "execute_result"
    }
   ],
   "source": [
    "time_step = pid.input_data.index[1] - pid.input_data.index[0]\n",
    "time_step"
   ]
  },
  {
   "cell_type": "code",
   "execution_count": 20,
   "id": "becb8fef",
   "metadata": {},
   "outputs": [],
   "source": [
    "k_p1 = 0.199\n",
    "k_i1 = -0.0125\n",
    "k_p2 = 0.0232\n",
    "k_i2 = 0.498\n",
    "# k_p1 = 0.025\n",
    "# k_i1 = 5\n",
    "# k_p2 = 0.025\n",
    "# k_i2 = 0.5"
   ]
  },
  {
   "cell_type": "code",
   "execution_count": 21,
   "id": "d4766212",
   "metadata": {},
   "outputs": [],
   "source": [
    "I_t = (pid.input_data['DeltaQ'].to_numpy()[2:] - pid.input_data['DeltaQ'].to_numpy()[:-2]) / (2 * time_step)"
   ]
  },
  {
   "cell_type": "code",
   "execution_count": 22,
   "id": "8315c301",
   "metadata": {},
   "outputs": [],
   "source": [
    "O_t = I_t*k_p1+pid.input_data['DeltaQ'].to_numpy()[1:-1]*k_i1"
   ]
  },
  {
   "cell_type": "code",
   "execution_count": 23,
   "id": "e919fd55",
   "metadata": {},
   "outputs": [
    {
     "data": {
      "text/plain": [
       "-0.0214362561"
      ]
     },
     "execution_count": 23,
     "metadata": {},
     "output_type": "execute_result"
    }
   ],
   "source": [
    "O_0 = pid.input_data['Iqref'][0]\n",
    "O_0"
   ]
  },
  {
   "cell_type": "code",
   "execution_count": 24,
   "id": "24eab609",
   "metadata": {},
   "outputs": [],
   "source": [
    "O_list = []\n",
    "O_list.append(O_0)\n",
    "for _ in range(O_t.shape[0]):\n",
    "    O_list.append(O_list[-1]+time_step*O_t[_])"
   ]
  },
  {
   "cell_type": "code",
   "execution_count": 25,
   "id": "27b24f25",
   "metadata": {},
   "outputs": [],
   "source": [
    "I2 = O_list[1:] - pid.input_data['Iq'].to_numpy()[1:-1]"
   ]
  },
  {
   "cell_type": "code",
   "execution_count": 26,
   "id": "6e97ccfd",
   "metadata": {},
   "outputs": [],
   "source": [
    "I2_t = (I2[2:] - I2[:-2]) / (2 * time_step)"
   ]
  },
  {
   "cell_type": "code",
   "execution_count": 27,
   "id": "4c855b46",
   "metadata": {},
   "outputs": [],
   "source": [
    "O_t = (pid.input_data['DeltaUq'].to_numpy()[2:] - pid.input_data['DeltaUq'].to_numpy()[:-2]) / (2 * time_step)"
   ]
  },
  {
   "cell_type": "code",
   "execution_count": 34,
   "id": "537067d7",
   "metadata": {},
   "outputs": [
    {
     "data": {
      "text/plain": [
       "array([ 0.0050697 ,  0.0051558 ,  0.0052366 , ..., -0.57567271,\n",
       "       -0.57585304, -0.57573194])"
      ]
     },
     "execution_count": 34,
     "metadata": {},
     "output_type": "execute_result"
    }
   ],
   "source": [
    "O_t"
   ]
  },
  {
   "cell_type": "code",
   "execution_count": 31,
   "id": "d15aebf3",
   "metadata": {},
   "outputs": [
    {
     "name": "stdout",
     "output_type": "stream",
     "text": [
      "Axes(0.125,0.11;0.775x0.77)\n"
     ]
    },
    {
     "data": {
      "image/png": "[encoded data removed]",
      "text/plain": [
       "<Figure size 640x480 with 1 Axes>"
      ]
     },
     "metadata": {},
     "output_type": "display_data"
    }
   ],
   "source": [
    "print(pd.DataFrame([I2_t*k_p2+I2[1:-1]*k_i2, O_t[1:-1]]).T.plot())"
   ]
  },
  {
   "cell_type": "code",
   "execution_count": 44,
   "id": "3184df9e",
   "metadata": {},
   "outputs": [
    {
     "data": {
      "text/plain": [
       "(-1.0, 0.0)"
      ]
     },
     "execution_count": 44,
     "metadata": {},
     "output_type": "execute_result"
    },
    {
     "data": {
      "image/png": "[encoded data removed]",
      "text/plain": [
       "<Figure size 640x480 with 1 Axes>"
      ]
     },
     "metadata": {},
     "output_type": "display_data"
    }
   ],
   "source": [
    "plt.figure()\n",
    "plt.plot([_ for _ in range(len(O_t[1:-1]))], I2_t*k_p2+I2[1:-1]*k_i2)\n",
    "plt.plot([_ for _ in range(len(O_t[1:-1]))], O_t[1:-1])\n",
    "plt.xlim((390,410))\n",
    "plt.ylim((-1,0))"
   ]
  },
  {
   "cell_type": "code",
   "execution_count": 37,
   "id": "10c16f6e",
   "metadata": {},
   "outputs": [
    {
     "data": {
      "text/plain": [
       "(1996,)"
      ]
     },
     "execution_count": 37,
     "metadata": {},
     "output_type": "execute_result"
    }
   ],
   "source": [
    "O_t[1:-1].shape"
   ]
  },
  {
   "cell_type": "code",
   "execution_count": null,
   "id": "f1ae3bd4",
   "metadata": {},
   "outputs": [],
   "source": []
  }
 ],
 "metadata": {
  "kernelspec": {
   "display_name": "Python 3 (ipykernel)",
   "language": "python",
   "name": "python3"
  },
  "language_info": {
   "codemirror_mode": {
    "name": "ipython",
    "version": 3
   },
   "file_extension": ".py",
   "mimetype": "text/x-python",
   "name": "python",
   "nbconvert_exporter": "python",
   "pygments_lexer": "ipython3",
   "version": "3.11.5"
  }
 },
 "nbformat": 4,
 "nbformat_minor": 5
}
