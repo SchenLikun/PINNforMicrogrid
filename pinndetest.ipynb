{
 "cells": [
  {
   "cell_type": "code",
   "execution_count": 1,
   "id": "initial_id",
   "metadata": {
    "collapsed": true,
    "ExecuteTime": {
     "end_time": "2024-11-05T11:39:29.541857Z",
     "start_time": "2024-11-05T11:38:32.597696Z"
    }
   },
   "outputs": [
    {
     "name": "stdout",
     "output_type": "stream",
     "text": [
      "Loss in epoch 0: 0.02782072028253134\n",
      "Loss in epoch 100: 0.00013136122764871878\n",
      "Loss in epoch 200: 6.392775981839756e-05\n",
      "Loss in epoch 300: 2.2583141874153736e-05\n",
      "Loss in epoch 400: 1.0458277715479454e-05\n",
      "Loss in epoch 500: 7.794076148907863e-06\n",
      "Loss in epoch 600: 6.472758218819861e-06\n",
      "Loss in epoch 700: 5.548869009768033e-06\n",
      "Loss in epoch 800: 4.810255309649143e-06\n",
      "Loss in epoch 900: 4.191151505377793e-06\n",
      "Loss in epoch 1000: 3.664605870242003e-06\n",
      "Loss in epoch 1100: 3.2145368387484903e-06\n",
      "Loss in epoch 1200: 2.8288591982453814e-06\n",
      "Loss in epoch 1300: 2.4977809297569597e-06\n",
      "Loss in epoch 1400: 2.2781346902365802e-05\n"
     ]
    },
    {
     "data": {
      "text/plain": "<Figure size 640x480 with 0 Axes>"
     },
     "metadata": {},
     "output_type": "display_data"
    }
   ],
   "source": [
    "# import pinnde.ode_Solvers as ode_Solvers\n",
    "# import numpy as np\n",
    "#\n",
    "# eqn = \"utt + 4*u\"\n",
    "# order = 2\n",
    "# inits = [-2, 10]\n",
    "# t_bdry = [0,np.pi/4]\n",
    "# N_pde = 100\n",
    "# epochs = 1000\n",
    "#\n",
    "# mymodel = ode_Solvers.solveODE_BVP(eqn, order, inits, t_bdry, N_pde, epochs)\n",
    "#\n",
    "# mymodel.plot_epoch_loss()\n",
    "#\n",
    "# mymodel.plot_solution_prediction()\n",
    "import pinnde.ode_Solvers as ode_Solvers\n",
    "import numpy as np\n",
    "\n",
    "eqn = \"utt + 4*u\"\n",
    "order = 2\n",
    "inits = [-2, 10]\n",
    "t_bdry = [0,np.pi/4]\n",
    "N_pde = 100\n",
    "sensor_range = [-2, 2]\n",
    "num_sensors = 3000\n",
    "epochs = 1500\n",
    "\n",
    "mymodel = ode_Solvers.solveODE_DeepONet_BVP(eqn, order, inits, t_bdry, N_pde, sensor_range,\n",
    "                                            num_sensors, epochs, constraint = \"hard\")\n",
    "\n",
    "mymodel.plot_epoch_loss()\n",
    "\n",
    "mymodel.plot_solution_prediction()"
   ]
  },
  {
   "cell_type": "code",
   "outputs": [],
   "source": [],
   "metadata": {
    "collapsed": false
   },
   "id": "774e995a36c76edd"
  }
 ],
 "metadata": {
  "kernelspec": {
   "display_name": "Python 3",
   "language": "python",
   "name": "python3"
  },
  "language_info": {
   "codemirror_mode": {
    "name": "ipython",
    "version": 2
   },
   "file_extension": ".py",
   "mimetype": "text/x-python",
   "name": "python",
   "nbconvert_exporter": "python",
   "pygments_lexer": "ipython2",
   "version": "2.7.6"
  }
 },
 "nbformat": 4,
 "nbformat_minor": 5
}
