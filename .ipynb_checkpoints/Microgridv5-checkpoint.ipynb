{
 "cells": [
  {
   "cell_type": "code",
   "execution_count": 1,
   "id": "3db7db65",
   "metadata": {
    "ExecuteTime": {
     "end_time": "2023-09-28T17:00:27.619868Z",
     "start_time": "2023-09-28T17:00:27.588781Z"
    }
   },
   "outputs": [
    {
     "name": "stderr",
     "output_type": "stream",
     "text": [
      "Using backend: tensorflow.compat.v1\n",
      "\n"
     ]
    },
    {
     "name": "stdout",
     "output_type": "stream",
     "text": [
      "WARNING:tensorflow:From D:\\anaconda3\\lib\\site-packages\\tensorflow\\python\\compat\\v2_compat.py:108: disable_resource_variables (from tensorflow.python.ops.variable_scope) is deprecated and will be removed in a future version.\n",
      "Instructions for updating:\n",
      "non-resource variables are not supported in the long term\n"
     ]
    }
   ],
   "source": [
    "import pandas as pd\n",
    "import deepxde as dde\n",
    "import numpy as np\n",
    "import re\n",
    "import matplotlib.pyplot as plt\n",
    "from deepxde.backend import tf"
   ]
  },
  {
   "cell_type": "code",
   "execution_count": 2,
   "id": "c5d0d028",
   "metadata": {
    "ExecuteTime": {
     "end_time": "2023-09-28T17:00:27.865917700Z",
     "start_time": "2023-09-28T17:00:27.841603100Z"
    }
   },
   "outputs": [],
   "source": [
    "Kt = dde.Variable(1.0)\n",
    "Rs = dde.Variable(1.0)\n",
    "Rsh = dde.Variable(1.0)\n",
    "Iso = dde.Variable(1.0)"
   ]
  },
  {
   "cell_type": "code",
   "execution_count": 3,
   "id": "bdc5e241-3786-4ec8-8ac8-7c30960dbbb2",
   "metadata": {},
   "outputs": [],
   "source": [
    "Var_list = [Kt, Rs, Rsh, Iso]"
   ]
  },
  {
   "cell_type": "code",
   "execution_count": 4,
   "id": "16f1c90d",
   "metadata": {
    "ExecuteTime": {
     "end_time": "2023-09-28T17:00:28.113900900Z",
     "start_time": "2023-09-28T17:00:28.088347300Z"
    },
    "collapsed": false,
    "jupyter": {
     "outputs_hidden": false
    }
   },
   "outputs": [],
   "source": [
    "# '''\n",
    "# 24th July, 2023 created by Likun Chen, Wuhan University\n",
    "# This is for testing the PINN parameter estimation, object: syn-machine\n",
    "# EXT Parameters:\n",
    "#     Vi , initial terminal voltage : 1.0 pu\n",
    "#     Ta , voltage regulator time constant : 0.4 sec\n",
    "#     Kf , rate feedback gain : 0.03\n",
    "# SYN Parameters:\n",
    "#     H , inertia constant : 1.7 MWs/MVA\n",
    "#     D , synchronous mechanical damping : 0.12 pu/pu\n",
    "#     Xa , stator leakage reactance : 0.130 pu\n",
    "#     Xd , d-axis unsaturated reactance : 1.79 pu\n",
    "#     Xd' , d-axis unsaturated transient reactance : 0.169 pu\n",
    "#     Xd'' , d-axis unsaturated Sub-Trans reactance : 0.135 pu\n",
    "#     Xq , q-axis unsaturated reactance : 1.71 pu\n",
    "#     Xq' , q-axis unsaturated transient reactance : 0.228 pu\n",
    "#     Xq'' , q-axis unsaturated Sub-Trans reactance : 0.2 pu\n",
    "# For 2-order equation, the state variables are rev (w) and phase angle (delta), \n",
    "# parameters waiting estimated are H , D , Eq' = Ed' = const\n",
    "#     H * d2_delta/dt2 (This is dw/dt) + D * d_delta/dt + P_ex - P_mach = 0\n",
    "#     P_ex is external power balance and P_mach is the mechanical power\n",
    "#     time， P_ex, delta, P_mach, dw\n",
    "# '''"
   ]
  },
  {
   "cell_type": "code",
   "execution_count": 5,
   "id": "75332442",
   "metadata": {
    "ExecuteTime": {
     "end_time": "2023-09-28T17:00:28.362246200Z",
     "start_time": "2023-09-28T17:00:28.331626200Z"
    },
    "scrolled": true
   },
   "outputs": [
    {
     "data": {
      "text/html": [
       "<div>\n",
       "<style scoped>\n",
       "    .dataframe tbody tr th:only-of-type {\n",
       "        vertical-align: middle;\n",
       "    }\n",
       "\n",
       "    .dataframe tbody tr th {\n",
       "        vertical-align: top;\n",
       "    }\n",
       "\n",
       "    .dataframe thead th {\n",
       "        text-align: right;\n",
       "    }\n",
       "</style>\n",
       "<table border=\"1\" class=\"dataframe\">\n",
       "  <thead>\n",
       "    <tr style=\"text-align: right;\">\n",
       "      <th></th>\n",
       "      <th>Time</th>\n",
       "      <th>Subsystem #1|Node Voltages|S1) VDCpA8</th>\n",
       "      <th>Subsystem #1|PV|Array1A|IPVAxxx</th>\n",
       "      <th>Subsystem #1|PV|Array1A|Io1PV</th>\n",
       "    </tr>\n",
       "  </thead>\n",
       "  <tbody>\n",
       "    <tr>\n",
       "      <th>0</th>\n",
       "      <td>0.00000</td>\n",
       "      <td>2.462654</td>\n",
       "      <td>0.001231</td>\n",
       "      <td>5.109490e-12</td>\n",
       "    </tr>\n",
       "    <tr>\n",
       "      <th>1</th>\n",
       "      <td>0.00005</td>\n",
       "      <td>2.462654</td>\n",
       "      <td>0.001231</td>\n",
       "      <td>5.109490e-12</td>\n",
       "    </tr>\n",
       "    <tr>\n",
       "      <th>2</th>\n",
       "      <td>0.00010</td>\n",
       "      <td>2.462654</td>\n",
       "      <td>0.001231</td>\n",
       "      <td>5.109490e-12</td>\n",
       "    </tr>\n",
       "    <tr>\n",
       "      <th>3</th>\n",
       "      <td>0.00015</td>\n",
       "      <td>2.462654</td>\n",
       "      <td>0.001231</td>\n",
       "      <td>5.109490e-12</td>\n",
       "    </tr>\n",
       "    <tr>\n",
       "      <th>4</th>\n",
       "      <td>0.00020</td>\n",
       "      <td>2.462654</td>\n",
       "      <td>0.001231</td>\n",
       "      <td>5.109490e-12</td>\n",
       "    </tr>\n",
       "    <tr>\n",
       "      <th>...</th>\n",
       "      <td>...</td>\n",
       "      <td>...</td>\n",
       "      <td>...</td>\n",
       "      <td>...</td>\n",
       "    </tr>\n",
       "    <tr>\n",
       "      <th>7995</th>\n",
       "      <td>0.39975</td>\n",
       "      <td>2.027442</td>\n",
       "      <td>0.157634</td>\n",
       "      <td>5.109490e-12</td>\n",
       "    </tr>\n",
       "    <tr>\n",
       "      <th>7996</th>\n",
       "      <td>0.39980</td>\n",
       "      <td>2.027442</td>\n",
       "      <td>0.157634</td>\n",
       "      <td>5.109490e-12</td>\n",
       "    </tr>\n",
       "    <tr>\n",
       "      <th>7997</th>\n",
       "      <td>0.39985</td>\n",
       "      <td>2.027440</td>\n",
       "      <td>0.157634</td>\n",
       "      <td>5.109490e-12</td>\n",
       "    </tr>\n",
       "    <tr>\n",
       "      <th>7998</th>\n",
       "      <td>0.39990</td>\n",
       "      <td>2.027438</td>\n",
       "      <td>0.157634</td>\n",
       "      <td>5.109490e-12</td>\n",
       "    </tr>\n",
       "    <tr>\n",
       "      <th>7999</th>\n",
       "      <td>0.39995</td>\n",
       "      <td>2.027434</td>\n",
       "      <td>0.157634</td>\n",
       "      <td>5.109490e-12</td>\n",
       "    </tr>\n",
       "  </tbody>\n",
       "</table>\n",
       "<p>8000 rows × 4 columns</p>\n",
       "</div>"
      ],
      "text/plain": [
       "         Time  Subsystem #1|Node Voltages|S1) VDCpA8  \\\n",
       "0     0.00000                               2.462654   \n",
       "1     0.00005                               2.462654   \n",
       "2     0.00010                               2.462654   \n",
       "3     0.00015                               2.462654   \n",
       "4     0.00020                               2.462654   \n",
       "...       ...                                    ...   \n",
       "7995  0.39975                               2.027442   \n",
       "7996  0.39980                               2.027442   \n",
       "7997  0.39985                               2.027440   \n",
       "7998  0.39990                               2.027438   \n",
       "7999  0.39995                               2.027434   \n",
       "\n",
       "      Subsystem #1|PV|Array1A|IPVAxxx  Subsystem #1|PV|Array1A|Io1PV  \n",
       "0                            0.001231                   5.109490e-12  \n",
       "1                            0.001231                   5.109490e-12  \n",
       "2                            0.001231                   5.109490e-12  \n",
       "3                            0.001231                   5.109490e-12  \n",
       "4                            0.001231                   5.109490e-12  \n",
       "...                               ...                            ...  \n",
       "7995                         0.157634                   5.109490e-12  \n",
       "7996                         0.157634                   5.109490e-12  \n",
       "7997                         0.157634                   5.109490e-12  \n",
       "7998                         0.157634                   5.109490e-12  \n",
       "7999                         0.157634                   5.109490e-12  \n",
       "\n",
       "[8000 rows x 4 columns]"
      ]
     },
     "execution_count": 5,
     "metadata": {},
     "output_type": "execute_result"
    }
   ],
   "source": [
    "input_data = pd.read_csv('data/1011PVtest.csv')\n",
    "input_data"
   ]
  },
  {
   "cell_type": "code",
   "execution_count": 6,
   "id": "ed10edc0-5631-4403-8766-1332cb257695",
   "metadata": {},
   "outputs": [],
   "source": [
    "step_time = input_data.Time[1] - input_data.Time[0]\n",
    "st = 0.4 # start time (10% proportion)\n",
    "et = 0.6 # end time\n",
    "input_data.Time -= step_time * int(input_data.shape[0] * st)\n",
    "input_data = input_data[int(input_data.shape[0]*st): int(input_data.shape[0]*et)]"
   ]
  },
  {
   "cell_type": "code",
   "execution_count": 6,
   "id": "58d4c381-5053-41fc-90b9-a688eba7fad9",
   "metadata": {},
   "outputs": [
    {
     "data": {
      "text/html": [
       "<div>\n",
       "<style scoped>\n",
       "    .dataframe tbody tr th:only-of-type {\n",
       "        vertical-align: middle;\n",
       "    }\n",
       "\n",
       "    .dataframe tbody tr th {\n",
       "        vertical-align: top;\n",
       "    }\n",
       "\n",
       "    .dataframe thead th {\n",
       "        text-align: right;\n",
       "    }\n",
       "</style>\n",
       "<table border=\"1\" class=\"dataframe\">\n",
       "  <thead>\n",
       "    <tr style=\"text-align: right;\">\n",
       "      <th></th>\n",
       "      <th>V</th>\n",
       "      <th>I</th>\n",
       "    </tr>\n",
       "    <tr>\n",
       "      <th>Time</th>\n",
       "      <th></th>\n",
       "      <th></th>\n",
       "    </tr>\n",
       "  </thead>\n",
       "  <tbody>\n",
       "    <tr>\n",
       "      <th>0.00000</th>\n",
       "      <td>2.462654</td>\n",
       "      <td>0.001231</td>\n",
       "    </tr>\n",
       "    <tr>\n",
       "      <th>0.00005</th>\n",
       "      <td>2.462654</td>\n",
       "      <td>0.001231</td>\n",
       "    </tr>\n",
       "    <tr>\n",
       "      <th>0.00010</th>\n",
       "      <td>2.462654</td>\n",
       "      <td>0.001231</td>\n",
       "    </tr>\n",
       "    <tr>\n",
       "      <th>0.00015</th>\n",
       "      <td>2.462654</td>\n",
       "      <td>0.001231</td>\n",
       "    </tr>\n",
       "    <tr>\n",
       "      <th>0.00020</th>\n",
       "      <td>2.462654</td>\n",
       "      <td>0.001231</td>\n",
       "    </tr>\n",
       "    <tr>\n",
       "      <th>...</th>\n",
       "      <td>...</td>\n",
       "      <td>...</td>\n",
       "    </tr>\n",
       "    <tr>\n",
       "      <th>0.39975</th>\n",
       "      <td>2.027442</td>\n",
       "      <td>0.157634</td>\n",
       "    </tr>\n",
       "    <tr>\n",
       "      <th>0.39980</th>\n",
       "      <td>2.027442</td>\n",
       "      <td>0.157634</td>\n",
       "    </tr>\n",
       "    <tr>\n",
       "      <th>0.39985</th>\n",
       "      <td>2.027440</td>\n",
       "      <td>0.157634</td>\n",
       "    </tr>\n",
       "    <tr>\n",
       "      <th>0.39990</th>\n",
       "      <td>2.027438</td>\n",
       "      <td>0.157634</td>\n",
       "    </tr>\n",
       "    <tr>\n",
       "      <th>0.39995</th>\n",
       "      <td>2.027434</td>\n",
       "      <td>0.157634</td>\n",
       "    </tr>\n",
       "  </tbody>\n",
       "</table>\n",
       "<p>8000 rows × 2 columns</p>\n",
       "</div>"
      ],
      "text/plain": [
       "                V         I\n",
       "Time                       \n",
       "0.00000  2.462654  0.001231\n",
       "0.00005  2.462654  0.001231\n",
       "0.00010  2.462654  0.001231\n",
       "0.00015  2.462654  0.001231\n",
       "0.00020  2.462654  0.001231\n",
       "...           ...       ...\n",
       "0.39975  2.027442  0.157634\n",
       "0.39980  2.027442  0.157634\n",
       "0.39985  2.027440  0.157634\n",
       "0.39990  2.027438  0.157634\n",
       "0.39995  2.027434  0.157634\n",
       "\n",
       "[8000 rows x 2 columns]"
      ]
     },
     "execution_count": 6,
     "metadata": {},
     "output_type": "execute_result"
    }
   ],
   "source": [
    "input_data.columns = ['Time', 'V', 'I', 'Is']\n",
    "input_data.drop(columns='Is', inplace=True)\n",
    "input_data.set_index('Time', inplace=True)\n",
    "input_data"
   ]
  },
  {
   "cell_type": "code",
   "execution_count": 7,
   "id": "c215aa7c-f07e-4ef9-9f20-20747155ea2f",
   "metadata": {},
   "outputs": [],
   "source": [
    "step_time = input_data.index[1] - input_data.index[0]"
   ]
  },
  {
   "cell_type": "code",
   "execution_count": 8,
   "id": "966623c4-6eca-4055-b286-d5d3a651c1cd",
   "metadata": {},
   "outputs": [
    {
     "data": {
      "text/plain": [
       "5e-05"
      ]
     },
     "execution_count": 8,
     "metadata": {},
     "output_type": "execute_result"
    }
   ],
   "source": [
    "step_time"
   ]
  },
  {
   "cell_type": "code",
   "execution_count": 9,
   "id": "13a5481e-bad2-47c6-93fe-e4a3c8a1e2a6",
   "metadata": {},
   "outputs": [],
   "source": [
    "dI_dt = (input_data.I.to_numpy()[2:] - input_data.I.to_numpy()[:-2]) / step_time / 2"
   ]
  },
  {
   "cell_type": "code",
   "execution_count": 12,
   "id": "fac0b486-db42-43f4-87cc-6d150fffd1b2",
   "metadata": {},
   "outputs": [],
   "source": [
    "dV_dt = (input_data.V.to_numpy()[2:] - input_data.V.to_numpy()[:-2]) / step_time / 2"
   ]
  },
  {
   "cell_type": "code",
   "execution_count": 45,
   "id": "68e0fbce-9b35-4794-93d7-d78fd9cc929a",
   "metadata": {},
   "outputs": [],
   "source": [
    "# Kt, Rs, Rsh, Iso\n",
    "Kt = 24.5\n",
    "Rs = -13.7\n",
    "Rsh = -28.3\n",
    "Iso = 1.76"
   ]
  },
  {
   "cell_type": "code",
   "execution_count": 46,
   "id": "148828e6-7006-48b0-a79e-74d61853fb36",
   "metadata": {},
   "outputs": [
    {
     "data": {
      "text/plain": [
       "array([ 0.        ,  0.        ,  0.        , ..., -0.00034709,\n",
       "        0.00047188,  0.00139949])"
      ]
     },
     "execution_count": 46,
     "metadata": {},
     "output_type": "execute_result"
    }
   ],
   "source": [
    "left = 1 + Iso*Rs/Kt*np.exp((input_data.V.to_numpy()[1:-1]+input_data.I.to_numpy()[1:-1]*Rs)/Kt)  + Rs/Rsh\n",
    "left*dI_dt"
   ]
  },
  {
   "cell_type": "code",
   "execution_count": 47,
   "id": "2b248ca1-5a46-46f0-a4e2-bbf70e59fdf4",
   "metadata": {},
   "outputs": [],
   "source": [
    "right = - dV_dt * (Iso/Kt*np.exp((input_data.V.to_numpy()[1:-1]+input_data.I.to_numpy()[1:-1]*Rs)/Kt) + 1/Rsh)"
   ]
  },
  {
   "cell_type": "code",
   "execution_count": 48,
   "id": "3d879296-cf85-4e45-b2b4-e975d3b83327",
   "metadata": {},
   "outputs": [
    {
     "data": {
      "text/plain": [
       "[<matplotlib.lines.Line2D at 0x23fd94d92b0>]"
      ]
     },
     "execution_count": 48,
     "metadata": {},
     "output_type": "execute_result"
    },
    {
     "data": {
      "image/png": "[encoded data removed]",
      "text/plain": [
       "<Figure size 640x480 with 1 Axes>"
      ]
     },
     "metadata": {},
     "output_type": "display_data"
    }
   ],
   "source": [
    "plt.plot(left*dI_dt - right)"
   ]
  },
  {
   "cell_type": "code",
   "execution_count": 49,
   "id": "89e546db-834c-4213-942d-717f8e4de238",
   "metadata": {},
   "outputs": [
    {
     "data": {
      "image/png": "[encoded data removed]",
      "text/plain": [
       "<Figure size 640x480 with 1 Axes>"
      ]
     },
     "metadata": {},
     "output_type": "display_data"
    }
   ],
   "source": [
    "plt.figure()\n",
    "plt.plot(left*dI_dt - right)\n",
    "plt.ylim((-0.1, 0.1))\n",
    "plt.show()\n",
    "\n"
   ]
  },
  {
   "cell_type": "code",
   "execution_count": null,
   "id": "dadd6043-ceb8-4a12-b1f0-10cb9d16a794",
   "metadata": {},
   "outputs": [],
   "source": []
  },
  {
   "cell_type": "code",
   "execution_count": 8,
   "id": "4138a02a-5779-4393-afc6-3d1116168948",
   "metadata": {},
   "outputs": [
    {
     "data": {
      "text/plain": [
       "[0.480310405769598, 6.546099961178032]"
      ]
     },
     "execution_count": 8,
     "metadata": {},
     "output_type": "execute_result"
    }
   ],
   "source": [
    "weight_list = (1 / input_data.describe().loc['mean']).tolist()\n",
    "weight_list"
   ]
  },
  {
   "cell_type": "code",
   "execution_count": 9,
   "id": "404bafdc-6240-4ddd-8ab9-56a81cf4d806",
   "metadata": {},
   "outputs": [
    {
     "data": {
      "text/plain": [
       "<Axes: xlabel='Time'>"
      ]
     },
     "execution_count": 9,
     "metadata": {},
     "output_type": "execute_result"
    },
    {
     "data": {
      "image/png": "[encoded data removed]",
      "text/plain": [
       "<Figure size 640x480 with 1 Axes>"
      ]
     },
     "metadata": {},
     "output_type": "display_data"
    }
   ],
   "source": [
    "input_data.plot()"
   ]
  },
  {
   "cell_type": "code",
   "execution_count": 10,
   "id": "d25b23cb",
   "metadata": {
    "ExecuteTime": {
     "end_time": "2023-09-28T17:00:32.257632800Z",
     "start_time": "2023-09-28T17:00:32.242385900Z"
    }
   },
   "outputs": [
    {
     "data": {
      "text/plain": [
       "array([0.000e+00, 5.000e-05, 1.000e-04, ..., 7.985e-02, 7.990e-02,\n",
       "       7.995e-02])"
      ]
     },
     "execution_count": 10,
     "metadata": {},
     "output_type": "execute_result"
    }
   ],
   "source": [
    "x = input_data.index.to_numpy()\n",
    "x"
   ]
  },
  {
   "cell_type": "code",
   "execution_count": 11,
   "id": "87c9872e",
   "metadata": {
    "ExecuteTime": {
     "end_time": "2023-09-28T17:00:33.801975700Z",
     "start_time": "2023-09-28T17:00:33.787546300Z"
    }
   },
   "outputs": [],
   "source": [
    "geom = dde.geometry.TimeDomain(0, x[-1])"
   ]
  },
  {
   "cell_type": "code",
   "execution_count": 12,
   "id": "f6cf8e8d",
   "metadata": {
    "ExecuteTime": {
     "end_time": "2023-09-28T17:00:34.156252800Z",
     "start_time": "2023-09-28T17:00:34.143684900Z"
    }
   },
   "outputs": [],
   "source": [
    "# def boundary(_, on_initial):\n",
    "#     return on_initial"
   ]
  },
  {
   "cell_type": "code",
   "execution_count": 13,
   "id": "fc05fefc",
   "metadata": {
    "ExecuteTime": {
     "end_time": "2023-09-28T17:00:34.594954200Z",
     "start_time": "2023-09-28T17:00:34.568365Z"
    }
   },
   "outputs": [],
   "source": [
    "# x0 = input_data.iloc[0].tolist()"
   ]
  },
  {
   "cell_type": "code",
   "execution_count": 14,
   "id": "f2f426af",
   "metadata": {
    "ExecuteTime": {
     "end_time": "2023-09-28T17:00:35.032060400Z",
     "start_time": "2023-09-28T17:00:35.008637400Z"
    }
   },
   "outputs": [],
   "source": [
    "# # Initial conditions\n",
    "# ic1 = dde.icbc.IC(geom, lambda X: x0[0], boundary, component=0)\n",
    "# ic2 = dde.icbc.IC(geom, lambda X: x0[1], boundary, component=1)\n",
    "# ic3 = dde.icbc.IC(geom, lambda X: x0[2], boundary, component=2)"
   ]
  },
  {
   "cell_type": "code",
   "execution_count": 15,
   "id": "ff31b2ce",
   "metadata": {
    "ExecuteTime": {
     "end_time": "2023-09-28T17:00:36.167336400Z",
     "start_time": "2023-09-28T17:00:36.137357Z"
    }
   },
   "outputs": [
    {
     "data": {
      "text/plain": [
       "(1600, 2)"
      ]
     },
     "execution_count": 15,
     "metadata": {},
     "output_type": "execute_result"
    }
   ],
   "source": [
    "y = input_data.to_numpy()\n",
    "y.shape"
   ]
  },
  {
   "cell_type": "code",
   "execution_count": 16,
   "id": "3d0d718a",
   "metadata": {
    "ExecuteTime": {
     "end_time": "2023-09-28T17:00:36.595117100Z",
     "start_time": "2023-09-28T17:00:36.594115300Z"
    }
   },
   "outputs": [],
   "source": [
    "observe_t = x.reshape(-1, 1)"
   ]
  },
  {
   "cell_type": "code",
   "execution_count": 17,
   "id": "788868f6",
   "metadata": {
    "ExecuteTime": {
     "end_time": "2023-09-28T17:00:37.694752500Z",
     "start_time": "2023-09-28T17:00:37.682364Z"
    }
   },
   "outputs": [],
   "source": [
    "# Get the training data\n",
    "observe_y0 = dde.icbc.PointSetBC(observe_t, y[:, 0:1], component=0)\n",
    "observe_y1 = dde.icbc.PointSetBC(observe_t, y[:, 1:2], component=1)\n",
    "# observe_y2 = dde.icbc.PointSetBC(observe_t, y[:, 2:3], component=2)"
   ]
  },
  {
   "cell_type": "code",
   "execution_count": 18,
   "id": "580af80b",
   "metadata": {
    "ExecuteTime": {
     "end_time": "2023-09-28T17:00:38.959669800Z",
     "start_time": "2023-09-28T17:00:38.949659700Z"
    }
   },
   "outputs": [],
   "source": [
    "# Kt = dde.Variable(0.0)\n",
    "# Rs = dde.Variable(0.0)\n",
    "# Rsh = dde.Variable(0.0)\n",
    "def Microgrid_system(x, y):\n",
    "    \"\"\"Modified Lorenz system (with exogenous input).\n",
    "    H * d2_delta/dt2 (This is dw/dt) + D * d_delta/dt + P_ex - P_mach = 0\n",
    "    \"\"\"\n",
    "    V, I = y[:, 0:1], y[:, 1:2]\n",
    "    \n",
    "    \n",
    "    dV_dt = dde.grad.jacobian(y, x, i=0)\n",
    "    dI_dt = dde.grad.jacobian(y, x, i=1)\n",
    "\n",
    "    left = 1 + Iso*Rs/Kt*tf.exp((V+I*Rs)/Kt)  + Rs/Rsh\n",
    "    right = - dV_dt / dI_dt * (Iso/Kt*tf.exp((Rs*I+V)/Kt) + 1/Rsh)\n",
    "    \n",
    "    return [\n",
    "        left - right\n",
    "    ]\n"
   ]
  },
  {
   "cell_type": "code",
   "execution_count": 19,
   "id": "6a9379d0",
   "metadata": {
    "ExecuteTime": {
     "end_time": "2023-09-28T17:00:50.900630600Z",
     "start_time": "2023-09-28T17:00:50.892797400Z"
    }
   },
   "outputs": [],
   "source": [
    "data = dde.data.PDE(\n",
    "    geom,\n",
    "    Microgrid_system,\n",
    "    [observe_y0, observe_y1],\n",
    "    anchors=observe_t,\n",
    ")"
   ]
  },
  {
   "cell_type": "code",
   "execution_count": 20,
   "id": "17e9eee7-4db3-43e1-8664-e39cab056b9c",
   "metadata": {},
   "outputs": [],
   "source": [
    "net = dde.nn.FNN([1] + [128] * 3 + [2], \"swish\", \"Glorot normal\")"
   ]
  },
  {
   "cell_type": "code",
   "execution_count": 21,
   "id": "80db6378-b15e-4172-a4ae-3201da28a72f",
   "metadata": {},
   "outputs": [],
   "source": [
    "data_y = y\n",
    "data_t = x"
   ]
  },
  {
   "cell_type": "code",
   "execution_count": 22,
   "id": "0169f328-9bc1-4540-b55e-18a0b6e775ed",
   "metadata": {},
   "outputs": [
    {
     "data": {
      "text/plain": [
       "(1600, 2)"
      ]
     },
     "execution_count": 22,
     "metadata": {},
     "output_type": "execute_result"
    }
   ],
   "source": [
    "y.shape"
   ]
  },
  {
   "cell_type": "code",
   "execution_count": 23,
   "id": "50ee58bd-fd9b-480a-8050-f4023323888e",
   "metadata": {},
   "outputs": [],
   "source": [
    "def feature_transform(t):\n",
    "    t = 0.01 * t\n",
    "    return tf.concat(\n",
    "        (tf.sin(t), tf.sin(2 * t)),\n",
    "        axis=1,\n",
    "    )\n",
    "\n",
    "net.apply_feature_transform(feature_transform)\n",
    "\n",
    "def output_transform(t, y):\n",
    "    idx = data_y.shape[0]-1\n",
    "    k = (data_y[idx] - data_y[0]) / (data_t[idx] - data_t[0])\n",
    "    b = (data_t[idx] * data_y[0] - data_t[0] * data_y[idx]) / (\n",
    "        data_t[idx] - data_t[0]\n",
    "    )\n",
    "    linear = k * t + b\n",
    "    factor = tf.math.tanh(t) * tf.math.tanh(idx - t)\n",
    "    return linear + factor * tf.constant([1., 1.]) * y\n",
    "\n",
    "net.apply_output_transform(output_transform)"
   ]
  },
  {
   "cell_type": "code",
   "execution_count": 24,
   "id": "4feeb06b",
   "metadata": {
    "ExecuteTime": {
     "end_time": "2023-09-28T17:00:52.807230200Z",
     "start_time": "2023-09-28T17:00:52.535399Z"
    },
    "scrolled": true
   },
   "outputs": [
    {
     "name": "stdout",
     "output_type": "stream",
     "text": [
      "Compiling model...\n",
      "Warning: For the backend tensorflow.compat.v1, `external_trainable_variables` is ignored, and all trainable ``tf.Variable`` objects are automatically collected.\n",
      "Building feed-forward neural network...\n",
      "'build' took 0.065771 s\n",
      "\n"
     ]
    },
    {
     "name": "stderr",
     "output_type": "stream",
     "text": [
      "D:\\anaconda3\\lib\\site-packages\\deepxde\\nn\\tensorflow_compat_v1\\fnn.py:103: UserWarning: `tf.layers.dense` is deprecated and will be removed in a future version. Please use `tf.keras.layers.Dense` instead.\n",
      "  return tf.layers.dense(\n"
     ]
    },
    {
     "name": "stdout",
     "output_type": "stream",
     "text": [
      "'compile' took 1.042545 s\n",
      "\n"
     ]
    }
   ],
   "source": [
    "\n",
    "model = dde.Model(data, net)\n",
    "model.compile(\"adam\", lr=0.001, loss_weights=weight_list + [1e-2], external_trainable_variables=Var_list)\n",
    "\n"
   ]
  },
  {
   "cell_type": "code",
   "execution_count": 25,
   "id": "e72f1ac8",
   "metadata": {
    "ExecuteTime": {
     "end_time": "2023-09-29T11:23:46.425281900Z",
     "start_time": "2023-09-28T17:01:03.432427900Z"
    },
    "scrolled": true
   },
   "outputs": [
    {
     "name": "stdout",
     "output_type": "stream",
     "text": [
      "Initializing variables...\n",
      "Training model...\n",
      "\n",
      "Step      Train loss                        Test loss                         Test metric\n",
      "0         [3.63e+03, 1.49e-03, 2.59e-08]    [3.63e+03, 1.49e-03, 2.59e-08]    []  \n",
      "1000      [4.06e-05, 1.44e-03, 2.24e-06]    [4.06e-05, 1.44e-03, 2.24e-06]    []  \n",
      "2000      [3.86e-05, 1.44e-03, 2.24e-06]    [3.86e-05, 1.44e-03, 2.24e-06]    []  \n",
      "3000      [3.55e-05, 1.44e-03, 2.24e-06]    [3.55e-05, 1.44e-03, 2.24e-06]    []  \n",
      "4000      [3.10e-05, 1.44e-03, 2.24e-06]    [3.10e-05, 1.44e-03, 2.24e-06]    []  \n",
      "5000      [2.55e-05, 1.44e-03, 2.23e-06]    [2.55e-05, 1.44e-03, 2.23e-06]    []  \n",
      "6000      [1.98e-05, 1.44e-03, 2.23e-06]    [1.98e-05, 1.44e-03, 2.23e-06]    []  \n",
      "7000      [1.55e-05, 1.44e-03, 2.22e-06]    [1.55e-05, 1.44e-03, 2.22e-06]    []  \n",
      "8000      [1.35e-05, 1.44e-03, 2.21e-06]    [1.35e-05, 1.44e-03, 2.21e-06]    []  \n",
      "9000      [1.32e-05, 1.44e-03, 2.20e-06]    [1.32e-05, 1.44e-03, 2.20e-06]    []  \n",
      "10000     [1.33e-05, 1.44e-03, 2.18e-06]    [1.33e-05, 1.44e-03, 2.18e-06]    []  \n",
      "11000     [2.37e-05, 1.44e-03, 2.18e-06]    [2.37e-05, 1.44e-03, 2.18e-06]    []  \n",
      "12000     [1.26e-05, 1.44e-03, 2.28e-06]    [1.26e-05, 1.44e-03, 2.28e-06]    []  \n",
      "13000     [1.20e-05, 1.45e-03, 2.38e-06]    [1.20e-05, 1.45e-03, 2.38e-06]    []  \n",
      "14000     [1.11e-05, 1.45e-03, 2.55e-06]    [1.11e-05, 1.45e-03, 2.55e-06]    []  \n",
      "15000     [1.11e-05, 1.46e-03, 2.65e-06]    [1.11e-05, 1.46e-03, 2.65e-06]    []  \n",
      "16000     [9.82e-06, 1.46e-03, 2.68e-06]    [9.82e-06, 1.46e-03, 2.68e-06]    []  \n",
      "17000     [9.17e-06, 1.47e-03, 2.68e-06]    [9.17e-06, 1.47e-03, 2.68e-06]    []  \n",
      "18000     [8.46e-06, 1.46e-03, 2.66e-06]    [8.46e-06, 1.46e-03, 2.66e-06]    []  \n",
      "19000     [2.44e-05, 1.47e-03, 2.70e-06]    [2.44e-05, 1.47e-03, 2.70e-06]    []  \n",
      "20000     [3.44e-04, 1.45e-03, 2.35e-06]    [3.44e-04, 1.45e-03, 2.35e-06]    []  \n",
      "21000     [7.02e-06, 1.44e-03, 2.31e-06]    [7.02e-06, 1.44e-03, 2.31e-06]    []  \n",
      "22000     [6.97e-05, 1.45e-03, 2.45e-06]    [6.97e-05, 1.45e-03, 2.45e-06]    []  \n",
      "23000     [5.85e-06, 1.45e-03, 2.29e-06]    [5.85e-06, 1.45e-03, 2.29e-06]    []  \n",
      "24000     [1.93e-03, 1.44e-03, 2.14e-06]    [1.93e-03, 1.44e-03, 2.14e-06]    []  \n",
      "25000     [6.88e-06, 1.44e-03, 2.05e-06]    [6.88e-06, 1.44e-03, 2.05e-06]    []  \n",
      "26000     [4.98e-05, 1.45e-03, 2.24e-06]    [4.98e-05, 1.45e-03, 2.24e-06]    []  \n",
      "27000     [4.61e-06, 1.44e-03, 2.05e-06]    [4.61e-06, 1.44e-03, 2.05e-06]    []  \n",
      "28000     [4.61e-06, 1.44e-03, 1.96e-06]    [4.61e-06, 1.44e-03, 1.96e-06]    []  \n"
     ]
    },
    {
     "ename": "KeyboardInterrupt",
     "evalue": "",
     "output_type": "error",
     "traceback": [
      "\u001b[1;31m---------------------------------------------------------------------------\u001b[0m",
      "\u001b[1;31mKeyboardInterrupt\u001b[0m                         Traceback (most recent call last)",
      "Cell \u001b[1;32mIn[25], line 3\u001b[0m\n\u001b[0;32m      1\u001b[0m fnamevar \u001b[38;5;241m=\u001b[39m \u001b[38;5;124m\"\u001b[39m\u001b[38;5;124mvariables_testclk1.dat\u001b[39m\u001b[38;5;124m\"\u001b[39m\n\u001b[0;32m      2\u001b[0m variable \u001b[38;5;241m=\u001b[39m dde\u001b[38;5;241m.\u001b[39mcallbacks\u001b[38;5;241m.\u001b[39mVariableValue(Var_list, period\u001b[38;5;241m=\u001b[39m\u001b[38;5;241m1000\u001b[39m, filename\u001b[38;5;241m=\u001b[39mfnamevar)\n\u001b[1;32m----> 3\u001b[0m \u001b[43mmodel\u001b[49m\u001b[38;5;241;43m.\u001b[39;49m\u001b[43mtrain\u001b[49m\u001b[43m(\u001b[49m\u001b[43miterations\u001b[49m\u001b[38;5;241;43m=\u001b[39;49m\u001b[38;5;241;43m100000\u001b[39;49m\u001b[43m,\u001b[49m\u001b[43m \u001b[49m\u001b[43mcallbacks\u001b[49m\u001b[38;5;241;43m=\u001b[39;49m\u001b[43m[\u001b[49m\u001b[43mvariable\u001b[49m\u001b[43m]\u001b[49m\u001b[43m)\u001b[49m\n",
      "File \u001b[1;32mD:\\anaconda3\\lib\\site-packages\\deepxde\\utils\\internal.py:22\u001b[0m, in \u001b[0;36mtiming.<locals>.wrapper\u001b[1;34m(*args, **kwargs)\u001b[0m\n\u001b[0;32m     19\u001b[0m \u001b[38;5;129m@wraps\u001b[39m(f)\n\u001b[0;32m     20\u001b[0m \u001b[38;5;28;01mdef\u001b[39;00m \u001b[38;5;21mwrapper\u001b[39m(\u001b[38;5;241m*\u001b[39margs, \u001b[38;5;241m*\u001b[39m\u001b[38;5;241m*\u001b[39mkwargs):\n\u001b[0;32m     21\u001b[0m     ts \u001b[38;5;241m=\u001b[39m timeit\u001b[38;5;241m.\u001b[39mdefault_timer()\n\u001b[1;32m---> 22\u001b[0m     result \u001b[38;5;241m=\u001b[39m f(\u001b[38;5;241m*\u001b[39margs, \u001b[38;5;241m*\u001b[39m\u001b[38;5;241m*\u001b[39mkwargs)\n\u001b[0;32m     23\u001b[0m     te \u001b[38;5;241m=\u001b[39m timeit\u001b[38;5;241m.\u001b[39mdefault_timer()\n\u001b[0;32m     24\u001b[0m     \u001b[38;5;28mprint\u001b[39m(\u001b[38;5;124m\"\u001b[39m\u001b[38;5;132;01m%r\u001b[39;00m\u001b[38;5;124m took \u001b[39m\u001b[38;5;132;01m%f\u001b[39;00m\u001b[38;5;124m s\u001b[39m\u001b[38;5;130;01m\\n\u001b[39;00m\u001b[38;5;124m\"\u001b[39m \u001b[38;5;241m%\u001b[39m (f\u001b[38;5;241m.\u001b[39m\u001b[38;5;18m__name__\u001b[39m, te \u001b[38;5;241m-\u001b[39m ts))\n",
      "File \u001b[1;32mD:\\anaconda3\\lib\\site-packages\\deepxde\\model.py:594\u001b[0m, in \u001b[0;36mModel.train\u001b[1;34m(self, iterations, batch_size, display_every, disregard_previous_best, callbacks, model_restore_path, model_save_path, epochs)\u001b[0m\n\u001b[0;32m    592\u001b[0m     \u001b[38;5;28;01mif\u001b[39;00m iterations \u001b[38;5;129;01mis\u001b[39;00m \u001b[38;5;28;01mNone\u001b[39;00m:\n\u001b[0;32m    593\u001b[0m         \u001b[38;5;28;01mraise\u001b[39;00m \u001b[38;5;167;01mValueError\u001b[39;00m(\u001b[38;5;124m\"\u001b[39m\u001b[38;5;124mNo iterations for \u001b[39m\u001b[38;5;132;01m{}\u001b[39;00m\u001b[38;5;124m.\u001b[39m\u001b[38;5;124m\"\u001b[39m\u001b[38;5;241m.\u001b[39mformat(\u001b[38;5;28mself\u001b[39m\u001b[38;5;241m.\u001b[39mopt_name))\n\u001b[1;32m--> 594\u001b[0m     \u001b[38;5;28;43mself\u001b[39;49m\u001b[38;5;241;43m.\u001b[39;49m\u001b[43m_train_sgd\u001b[49m\u001b[43m(\u001b[49m\u001b[43miterations\u001b[49m\u001b[43m,\u001b[49m\u001b[43m \u001b[49m\u001b[43mdisplay_every\u001b[49m\u001b[43m)\u001b[49m\n\u001b[0;32m    595\u001b[0m \u001b[38;5;28mself\u001b[39m\u001b[38;5;241m.\u001b[39mcallbacks\u001b[38;5;241m.\u001b[39mon_train_end()\n\u001b[0;32m    597\u001b[0m \u001b[38;5;28mprint\u001b[39m(\u001b[38;5;124m\"\u001b[39m\u001b[38;5;124m\"\u001b[39m)\n",
      "File \u001b[1;32mD:\\anaconda3\\lib\\site-packages\\deepxde\\model.py:611\u001b[0m, in \u001b[0;36mModel._train_sgd\u001b[1;34m(self, iterations, display_every)\u001b[0m\n\u001b[0;32m    606\u001b[0m \u001b[38;5;28mself\u001b[39m\u001b[38;5;241m.\u001b[39mcallbacks\u001b[38;5;241m.\u001b[39mon_batch_begin()\n\u001b[0;32m    608\u001b[0m \u001b[38;5;28mself\u001b[39m\u001b[38;5;241m.\u001b[39mtrain_state\u001b[38;5;241m.\u001b[39mset_data_train(\n\u001b[0;32m    609\u001b[0m     \u001b[38;5;241m*\u001b[39m\u001b[38;5;28mself\u001b[39m\u001b[38;5;241m.\u001b[39mdata\u001b[38;5;241m.\u001b[39mtrain_next_batch(\u001b[38;5;28mself\u001b[39m\u001b[38;5;241m.\u001b[39mbatch_size)\n\u001b[0;32m    610\u001b[0m )\n\u001b[1;32m--> 611\u001b[0m \u001b[38;5;28;43mself\u001b[39;49m\u001b[38;5;241;43m.\u001b[39;49m\u001b[43m_train_step\u001b[49m\u001b[43m(\u001b[49m\n\u001b[0;32m    612\u001b[0m \u001b[43m    \u001b[49m\u001b[38;5;28;43mself\u001b[39;49m\u001b[38;5;241;43m.\u001b[39;49m\u001b[43mtrain_state\u001b[49m\u001b[38;5;241;43m.\u001b[39;49m\u001b[43mX_train\u001b[49m\u001b[43m,\u001b[49m\n\u001b[0;32m    613\u001b[0m \u001b[43m    \u001b[49m\u001b[38;5;28;43mself\u001b[39;49m\u001b[38;5;241;43m.\u001b[39;49m\u001b[43mtrain_state\u001b[49m\u001b[38;5;241;43m.\u001b[39;49m\u001b[43my_train\u001b[49m\u001b[43m,\u001b[49m\n\u001b[0;32m    614\u001b[0m \u001b[43m    \u001b[49m\u001b[38;5;28;43mself\u001b[39;49m\u001b[38;5;241;43m.\u001b[39;49m\u001b[43mtrain_state\u001b[49m\u001b[38;5;241;43m.\u001b[39;49m\u001b[43mtrain_aux_vars\u001b[49m\u001b[43m,\u001b[49m\n\u001b[0;32m    615\u001b[0m \u001b[43m\u001b[49m\u001b[43m)\u001b[49m\n\u001b[0;32m    617\u001b[0m \u001b[38;5;28mself\u001b[39m\u001b[38;5;241m.\u001b[39mtrain_state\u001b[38;5;241m.\u001b[39mepoch \u001b[38;5;241m+\u001b[39m\u001b[38;5;241m=\u001b[39m \u001b[38;5;241m1\u001b[39m\n\u001b[0;32m    618\u001b[0m \u001b[38;5;28mself\u001b[39m\u001b[38;5;241m.\u001b[39mtrain_state\u001b[38;5;241m.\u001b[39mstep \u001b[38;5;241m+\u001b[39m\u001b[38;5;241m=\u001b[39m \u001b[38;5;241m1\u001b[39m\n",
      "File \u001b[1;32mD:\\anaconda3\\lib\\site-packages\\deepxde\\model.py:506\u001b[0m, in \u001b[0;36mModel._train_step\u001b[1;34m(self, inputs, targets, auxiliary_vars)\u001b[0m\n\u001b[0;32m    504\u001b[0m \u001b[38;5;28;01mif\u001b[39;00m backend_name \u001b[38;5;241m==\u001b[39m \u001b[38;5;124m\"\u001b[39m\u001b[38;5;124mtensorflow.compat.v1\u001b[39m\u001b[38;5;124m\"\u001b[39m:\n\u001b[0;32m    505\u001b[0m     feed_dict \u001b[38;5;241m=\u001b[39m \u001b[38;5;28mself\u001b[39m\u001b[38;5;241m.\u001b[39mnet\u001b[38;5;241m.\u001b[39mfeed_dict(\u001b[38;5;28;01mTrue\u001b[39;00m, inputs, targets, auxiliary_vars)\n\u001b[1;32m--> 506\u001b[0m     \u001b[38;5;28;43mself\u001b[39;49m\u001b[38;5;241;43m.\u001b[39;49m\u001b[43msess\u001b[49m\u001b[38;5;241;43m.\u001b[39;49m\u001b[43mrun\u001b[49m\u001b[43m(\u001b[49m\u001b[38;5;28;43mself\u001b[39;49m\u001b[38;5;241;43m.\u001b[39;49m\u001b[43mtrain_step\u001b[49m\u001b[43m,\u001b[49m\u001b[43m \u001b[49m\u001b[43mfeed_dict\u001b[49m\u001b[38;5;241;43m=\u001b[39;49m\u001b[43mfeed_dict\u001b[49m\u001b[43m)\u001b[49m\n\u001b[0;32m    507\u001b[0m \u001b[38;5;28;01melif\u001b[39;00m backend_name \u001b[38;5;241m==\u001b[39m \u001b[38;5;124m\"\u001b[39m\u001b[38;5;124mtensorflow\u001b[39m\u001b[38;5;124m\"\u001b[39m:\n\u001b[0;32m    508\u001b[0m     \u001b[38;5;28mself\u001b[39m\u001b[38;5;241m.\u001b[39mtrain_step(inputs, targets, auxiliary_vars)\n",
      "File \u001b[1;32mD:\\anaconda3\\lib\\site-packages\\tensorflow\\python\\client\\session.py:972\u001b[0m, in \u001b[0;36mBaseSession.run\u001b[1;34m(self, fetches, feed_dict, options, run_metadata)\u001b[0m\n\u001b[0;32m    969\u001b[0m run_metadata_ptr \u001b[38;5;241m=\u001b[39m tf_session\u001b[38;5;241m.\u001b[39mTF_NewBuffer() \u001b[38;5;28;01mif\u001b[39;00m run_metadata \u001b[38;5;28;01melse\u001b[39;00m \u001b[38;5;28;01mNone\u001b[39;00m\n\u001b[0;32m    971\u001b[0m \u001b[38;5;28;01mtry\u001b[39;00m:\n\u001b[1;32m--> 972\u001b[0m   result \u001b[38;5;241m=\u001b[39m \u001b[38;5;28;43mself\u001b[39;49m\u001b[38;5;241;43m.\u001b[39;49m\u001b[43m_run\u001b[49m\u001b[43m(\u001b[49m\u001b[38;5;28;43;01mNone\u001b[39;49;00m\u001b[43m,\u001b[49m\u001b[43m \u001b[49m\u001b[43mfetches\u001b[49m\u001b[43m,\u001b[49m\u001b[43m \u001b[49m\u001b[43mfeed_dict\u001b[49m\u001b[43m,\u001b[49m\u001b[43m \u001b[49m\u001b[43moptions_ptr\u001b[49m\u001b[43m,\u001b[49m\n\u001b[0;32m    973\u001b[0m \u001b[43m                     \u001b[49m\u001b[43mrun_metadata_ptr\u001b[49m\u001b[43m)\u001b[49m\n\u001b[0;32m    974\u001b[0m   \u001b[38;5;28;01mif\u001b[39;00m run_metadata:\n\u001b[0;32m    975\u001b[0m     proto_data \u001b[38;5;241m=\u001b[39m tf_session\u001b[38;5;241m.\u001b[39mTF_GetBuffer(run_metadata_ptr)\n",
      "File \u001b[1;32mD:\\anaconda3\\lib\\site-packages\\tensorflow\\python\\client\\session.py:1215\u001b[0m, in \u001b[0;36mBaseSession._run\u001b[1;34m(self, handle, fetches, feed_dict, options, run_metadata)\u001b[0m\n\u001b[0;32m   1212\u001b[0m \u001b[38;5;66;03m# We only want to really perform the run if fetches or targets are provided,\u001b[39;00m\n\u001b[0;32m   1213\u001b[0m \u001b[38;5;66;03m# or if the call is a partial run that specifies feeds.\u001b[39;00m\n\u001b[0;32m   1214\u001b[0m \u001b[38;5;28;01mif\u001b[39;00m final_fetches \u001b[38;5;129;01mor\u001b[39;00m final_targets \u001b[38;5;129;01mor\u001b[39;00m (handle \u001b[38;5;129;01mand\u001b[39;00m feed_dict_tensor):\n\u001b[1;32m-> 1215\u001b[0m   results \u001b[38;5;241m=\u001b[39m \u001b[38;5;28;43mself\u001b[39;49m\u001b[38;5;241;43m.\u001b[39;49m\u001b[43m_do_run\u001b[49m\u001b[43m(\u001b[49m\u001b[43mhandle\u001b[49m\u001b[43m,\u001b[49m\u001b[43m \u001b[49m\u001b[43mfinal_targets\u001b[49m\u001b[43m,\u001b[49m\u001b[43m \u001b[49m\u001b[43mfinal_fetches\u001b[49m\u001b[43m,\u001b[49m\n\u001b[0;32m   1216\u001b[0m \u001b[43m                         \u001b[49m\u001b[43mfeed_dict_tensor\u001b[49m\u001b[43m,\u001b[49m\u001b[43m \u001b[49m\u001b[43moptions\u001b[49m\u001b[43m,\u001b[49m\u001b[43m \u001b[49m\u001b[43mrun_metadata\u001b[49m\u001b[43m)\u001b[49m\n\u001b[0;32m   1217\u001b[0m \u001b[38;5;28;01melse\u001b[39;00m:\n\u001b[0;32m   1218\u001b[0m   results \u001b[38;5;241m=\u001b[39m []\n",
      "File \u001b[1;32mD:\\anaconda3\\lib\\site-packages\\tensorflow\\python\\client\\session.py:1395\u001b[0m, in \u001b[0;36mBaseSession._do_run\u001b[1;34m(self, handle, target_list, fetch_list, feed_dict, options, run_metadata)\u001b[0m\n\u001b[0;32m   1392\u001b[0m   \u001b[38;5;28;01mreturn\u001b[39;00m \u001b[38;5;28mself\u001b[39m\u001b[38;5;241m.\u001b[39m_call_tf_sessionprun(handle, feed_dict, fetch_list)\n\u001b[0;32m   1394\u001b[0m \u001b[38;5;28;01mif\u001b[39;00m handle \u001b[38;5;129;01mis\u001b[39;00m \u001b[38;5;28;01mNone\u001b[39;00m:\n\u001b[1;32m-> 1395\u001b[0m   \u001b[38;5;28;01mreturn\u001b[39;00m \u001b[38;5;28;43mself\u001b[39;49m\u001b[38;5;241;43m.\u001b[39;49m\u001b[43m_do_call\u001b[49m\u001b[43m(\u001b[49m\u001b[43m_run_fn\u001b[49m\u001b[43m,\u001b[49m\u001b[43m \u001b[49m\u001b[43mfeeds\u001b[49m\u001b[43m,\u001b[49m\u001b[43m \u001b[49m\u001b[43mfetches\u001b[49m\u001b[43m,\u001b[49m\u001b[43m \u001b[49m\u001b[43mtargets\u001b[49m\u001b[43m,\u001b[49m\u001b[43m \u001b[49m\u001b[43moptions\u001b[49m\u001b[43m,\u001b[49m\n\u001b[0;32m   1396\u001b[0m \u001b[43m                       \u001b[49m\u001b[43mrun_metadata\u001b[49m\u001b[43m)\u001b[49m\n\u001b[0;32m   1397\u001b[0m \u001b[38;5;28;01melse\u001b[39;00m:\n\u001b[0;32m   1398\u001b[0m   \u001b[38;5;28;01mreturn\u001b[39;00m \u001b[38;5;28mself\u001b[39m\u001b[38;5;241m.\u001b[39m_do_call(_prun_fn, handle, feeds, fetches)\n",
      "File \u001b[1;32mD:\\anaconda3\\lib\\site-packages\\tensorflow\\python\\client\\session.py:1402\u001b[0m, in \u001b[0;36mBaseSession._do_call\u001b[1;34m(self, fn, *args)\u001b[0m\n\u001b[0;32m   1400\u001b[0m \u001b[38;5;28;01mdef\u001b[39;00m \u001b[38;5;21m_do_call\u001b[39m(\u001b[38;5;28mself\u001b[39m, fn, \u001b[38;5;241m*\u001b[39margs):\n\u001b[0;32m   1401\u001b[0m   \u001b[38;5;28;01mtry\u001b[39;00m:\n\u001b[1;32m-> 1402\u001b[0m     \u001b[38;5;28;01mreturn\u001b[39;00m \u001b[43mfn\u001b[49m\u001b[43m(\u001b[49m\u001b[38;5;241;43m*\u001b[39;49m\u001b[43margs\u001b[49m\u001b[43m)\u001b[49m\n\u001b[0;32m   1403\u001b[0m   \u001b[38;5;28;01mexcept\u001b[39;00m errors\u001b[38;5;241m.\u001b[39mOpError \u001b[38;5;28;01mas\u001b[39;00m e:\n\u001b[0;32m   1404\u001b[0m     message \u001b[38;5;241m=\u001b[39m compat\u001b[38;5;241m.\u001b[39mas_text(e\u001b[38;5;241m.\u001b[39mmessage)\n",
      "File \u001b[1;32mD:\\anaconda3\\lib\\site-packages\\tensorflow\\python\\client\\session.py:1385\u001b[0m, in \u001b[0;36mBaseSession._do_run.<locals>._run_fn\u001b[1;34m(feed_dict, fetch_list, target_list, options, run_metadata)\u001b[0m\n\u001b[0;32m   1382\u001b[0m \u001b[38;5;28;01mdef\u001b[39;00m \u001b[38;5;21m_run_fn\u001b[39m(feed_dict, fetch_list, target_list, options, run_metadata):\n\u001b[0;32m   1383\u001b[0m   \u001b[38;5;66;03m# Ensure any changes to the graph are reflected in the runtime.\u001b[39;00m\n\u001b[0;32m   1384\u001b[0m   \u001b[38;5;28mself\u001b[39m\u001b[38;5;241m.\u001b[39m_extend_graph()\n\u001b[1;32m-> 1385\u001b[0m   \u001b[38;5;28;01mreturn\u001b[39;00m \u001b[38;5;28;43mself\u001b[39;49m\u001b[38;5;241;43m.\u001b[39;49m\u001b[43m_call_tf_sessionrun\u001b[49m\u001b[43m(\u001b[49m\u001b[43moptions\u001b[49m\u001b[43m,\u001b[49m\u001b[43m \u001b[49m\u001b[43mfeed_dict\u001b[49m\u001b[43m,\u001b[49m\u001b[43m \u001b[49m\u001b[43mfetch_list\u001b[49m\u001b[43m,\u001b[49m\n\u001b[0;32m   1386\u001b[0m \u001b[43m                                  \u001b[49m\u001b[43mtarget_list\u001b[49m\u001b[43m,\u001b[49m\u001b[43m \u001b[49m\u001b[43mrun_metadata\u001b[49m\u001b[43m)\u001b[49m\n",
      "File \u001b[1;32mD:\\anaconda3\\lib\\site-packages\\tensorflow\\python\\client\\session.py:1478\u001b[0m, in \u001b[0;36mBaseSession._call_tf_sessionrun\u001b[1;34m(self, options, feed_dict, fetch_list, target_list, run_metadata)\u001b[0m\n\u001b[0;32m   1476\u001b[0m \u001b[38;5;28;01mdef\u001b[39;00m \u001b[38;5;21m_call_tf_sessionrun\u001b[39m(\u001b[38;5;28mself\u001b[39m, options, feed_dict, fetch_list, target_list,\n\u001b[0;32m   1477\u001b[0m                         run_metadata):\n\u001b[1;32m-> 1478\u001b[0m   \u001b[38;5;28;01mreturn\u001b[39;00m \u001b[43mtf_session\u001b[49m\u001b[38;5;241;43m.\u001b[39;49m\u001b[43mTF_SessionRun_wrapper\u001b[49m\u001b[43m(\u001b[49m\u001b[38;5;28;43mself\u001b[39;49m\u001b[38;5;241;43m.\u001b[39;49m\u001b[43m_session\u001b[49m\u001b[43m,\u001b[49m\u001b[43m \u001b[49m\u001b[43moptions\u001b[49m\u001b[43m,\u001b[49m\u001b[43m \u001b[49m\u001b[43mfeed_dict\u001b[49m\u001b[43m,\u001b[49m\n\u001b[0;32m   1479\u001b[0m \u001b[43m                                          \u001b[49m\u001b[43mfetch_list\u001b[49m\u001b[43m,\u001b[49m\u001b[43m \u001b[49m\u001b[43mtarget_list\u001b[49m\u001b[43m,\u001b[49m\n\u001b[0;32m   1480\u001b[0m \u001b[43m                                          \u001b[49m\u001b[43mrun_metadata\u001b[49m\u001b[43m)\u001b[49m\n",
      "\u001b[1;31mKeyboardInterrupt\u001b[0m: "
     ]
    }
   ],
   "source": [
    "fnamevar = \"variables_testclk1.dat\"\n",
    "variable = dde.callbacks.VariableValue(Var_list, period=1000, filename=fnamevar)\n",
    "model.train(iterations=100000, callbacks=[variable])"
   ]
  },
  {
   "cell_type": "code",
   "execution_count": 26,
   "id": "3f965584",
   "metadata": {
    "ExecuteTime": {
     "end_time": "2023-09-29T11:23:50.711001200Z",
     "start_time": "2023-09-29T11:23:50.650660900Z"
    }
   },
   "outputs": [],
   "source": [
    "lines = open(fnamevar, \"r\").readlines()\n",
    "# read output data in fnamevar (this line is a long story...)\n",
    "Chat = np.array(\n",
    "    [\n",
    "        np.fromstring(\n",
    "            min(re.findall(re.escape(\"[\") + \"(.*?)\" + re.escape(\"]\"), line), key=len),\n",
    "            sep=\",\",\n",
    "        )\n",
    "        for line in lines\n",
    "    ]\n",
    ")"
   ]
  },
  {
   "cell_type": "code",
   "execution_count": 27,
   "id": "aebe41ed-20c4-4088-b235-e5243cc47cdc",
   "metadata": {},
   "outputs": [
    {
     "data": {
      "text/plain": [
       "array([[1.06 , 0.975, 1.07 , 0.934],\n",
       "       [1.07 , 0.973, 1.08 , 0.923],\n",
       "       [1.09 , 0.97 , 1.1  , 0.906],\n",
       "       [1.1  , 0.968, 1.11 , 0.889],\n",
       "       [1.12 , 0.965, 1.13 , 0.876],\n",
       "       [1.13 , 0.963, 1.14 , 0.864],\n",
       "       [1.14 , 0.961, 1.15 , 0.852],\n",
       "       [1.15 , 0.959, 1.16 , 0.838],\n",
       "       [1.16 , 0.956, 1.18 , 0.828],\n",
       "       [1.17 , 0.955, 1.18 , 0.819]])"
      ]
     },
     "execution_count": 27,
     "metadata": {},
     "output_type": "execute_result"
    }
   ],
   "source": [
    "Chat[-10:, :]"
   ]
  },
  {
   "cell_type": "code",
   "execution_count": 38,
   "id": "73b0edd2-8823-4c55-8510-19aadd4d57fa",
   "metadata": {},
   "outputs": [],
   "source": [
    "# Var_list = [Kt, Rs, Rsh, Iso]"
   ]
  },
  {
   "cell_type": "code",
   "execution_count": 35,
   "id": "7eb6048a",
   "metadata": {
    "ExecuteTime": {
     "end_time": "2023-09-29T11:23:53.180472900Z",
     "start_time": "2023-09-29T11:23:53.049816400Z"
    }
   },
   "outputs": [
    {
     "data": {
      "text/plain": [
       "Text(0.5, 0, 'Epoch')"
      ]
     },
     "execution_count": 35,
     "metadata": {},
     "output_type": "execute_result"
    },
    {
     "data": {
      "image/png": "[encoded data removed]",
      "text/plain": [
       "<Figure size 640x480 with 1 Axes>"
      ]
     },
     "metadata": {},
     "output_type": "display_data"
    }
   ],
   "source": [
    "l, c = Chat.shape\n",
    "plt.plot(range(l), Chat[:, 0], \"r-\")\n",
    "plt.plot(range(l), Chat[:, 1], \"b-\")\n",
    "plt.plot(range(l), Chat[:, 2], \"y-\")\n",
    "plt.plot(range(l), Chat[:, 3], \"g-\")\n",
    "# plt.plot(range(l), np.ones(Chat[:, 0].shape) * 1.5, \"r--\")\n",
    "# plt.plot(range(l), np.ones(Chat[:, 1].shape) * 0.15, \"b--\")\n",
    "# plt.legend([\"H\",\"D\",\"True H\",\"True D\"], loc=\"right\")\n",
    "plt.xlabel(\"Epoch\")"
   ]
  },
  {
   "cell_type": "code",
   "execution_count": 29,
   "id": "95ffdf6d",
   "metadata": {
    "ExecuteTime": {
     "end_time": "2023-09-29T11:26:18.196022900Z",
     "start_time": "2023-09-29T11:26:18.172986100Z"
    },
    "scrolled": true
   },
   "outputs": [
    {
     "data": {
      "text/plain": [
       "array([[1.06 , 0.975],\n",
       "       [1.07 , 0.973],\n",
       "       [1.09 , 0.97 ],\n",
       "       [1.1  , 0.968],\n",
       "       [1.12 , 0.965],\n",
       "       [1.13 , 0.963],\n",
       "       [1.14 , 0.961],\n",
       "       [1.15 , 0.959],\n",
       "       [1.16 , 0.956],\n",
       "       [1.17 , 0.955]])"
      ]
     },
     "execution_count": 29,
     "metadata": {},
     "output_type": "execute_result"
    }
   ],
   "source": [
    "Chat[-10:, 0:2]"
   ]
  },
  {
   "cell_type": "code",
   "execution_count": 30,
   "id": "82f774b8",
   "metadata": {},
   "outputs": [
    {
     "data": {
      "image/png": "[encoded data removed]",
      "text/plain": [
       "<Figure size 640x480 with 1 Axes>"
      ]
     },
     "metadata": {},
     "output_type": "display_data"
    }
   ],
   "source": [
    "yhat = model.predict(observe_t)\n",
    "plt.figure()\n",
    "plt.plot(observe_t, y, \"-\", observe_t, yhat, \"--\")\n",
    "plt.xlabel(\"Time\")\n",
    "# plt.legend([\"x\", \"y\", \"z\", \"xh\", \"yh\", \"zh\"])\n",
    "# plt.title(\"Training data\")\n",
    "plt.show()"
   ]
  },
  {
   "cell_type": "code",
   "execution_count": null,
   "id": "b5436456",
   "metadata": {},
   "outputs": [],
   "source": []
  },
  {
   "cell_type": "code",
   "execution_count": null,
   "id": "897d78ce-aadb-4322-a9ee-aab0e5a025c3",
   "metadata": {},
   "outputs": [],
   "source": []
  }
 ],
 "metadata": {
  "kernelspec": {
   "display_name": "Python 3 (ipykernel)",
   "language": "python",
   "name": "python3"
  },
  "language_info": {
   "codemirror_mode": {
    "name": "ipython",
    "version": 3
   },
   "file_extension": ".py",
   "mimetype": "text/x-python",
   "name": "python",
   "nbconvert_exporter": "python",
   "pygments_lexer": "ipython3",
   "version": "3.9.18"
  },
  "toc": {
   "base_numbering": 1,
   "nav_menu": {},
   "number_sections": true,
   "sideBar": true,
   "skip_h1_title": false,
   "title_cell": "Table of Contents",
   "title_sidebar": "Contents",
   "toc_cell": false,
   "toc_position": {},
   "toc_section_display": true,
   "toc_window_display": false
  },
  "varInspector": {
   "cols": {
    "lenName": 16,
    "lenType": 16,
    "lenVar": 40
   },
   "kernels_config": {
    "python": {
     "delete_cmd_postfix": "",
     "delete_cmd_prefix": "del ",
     "library": "var_list.py",
     "varRefreshCmd": "print(var_dic_list())"
    },
    "r": {
     "delete_cmd_postfix": ") ",
     "delete_cmd_prefix": "rm(",
     "library": "var_list.r",
     "varRefreshCmd": "cat(var_dic_list()) "
    }
   },
   "types_to_exclude": [
    "module",
    "function",
    "builtin_function_or_method",
    "instance",
    "_Feature"
   ],
   "window_display": false
  }
 },
 "nbformat": 4,
 "nbformat_minor": 5
}
