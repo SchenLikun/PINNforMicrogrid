{
 "cells": [
  {
   "cell_type": "code",
   "execution_count": 1,
   "id": "3db7db65",
   "metadata": {},
   "outputs": [
    {
     "name": "stderr",
     "output_type": "stream",
     "text": [
      "Using backend: tensorflow.compat.v1\n",
      "\n"
     ]
    },
    {
     "name": "stdout",
     "output_type": "stream",
     "text": [
      "WARNING:tensorflow:From C:\\Users\\Yifan\\AppData\\Roaming\\Python\\Python39\\site-packages\\tensorflow\\python\\compat\\v2_compat.py:107: disable_resource_variables (from tensorflow.python.ops.variable_scope) is deprecated and will be removed in a future version.\n",
      "Instructions for updating:\n",
      "non-resource variables are not supported in the long term\n"
     ]
    }
   ],
   "source": [
    "import pandas as pd\n",
    "import deepxde as dde\n",
    "import numpy as np\n",
    "import re\n",
    "import matplotlib.pyplot as plt"
   ]
  },
  {
   "cell_type": "code",
   "execution_count": 2,
   "id": "c5d0d028",
   "metadata": {},
   "outputs": [],
   "source": [
    "H = dde.Variable(0.0)\n",
    "D = dde.Variable(0.0)"
   ]
  },
  {
   "cell_type": "code",
   "execution_count": 3,
   "id": "fd6ca15a",
   "metadata": {},
   "outputs": [],
   "source": [
    "# '''\n",
    "# 24th July, 2023 created by Likun Chen, Wuhan University\n",
    "# This is for testing the PINN parameter estimation, object: syn-machine\n",
    "# EXT Parameters:\n",
    "#     Vi , initial terminal voltage : 1.0 pu\n",
    "#     Ta , voltage regulator time constant : 0.4 sec\n",
    "#     Kf , rate feedback gain : 0.03\n",
    "# SYN Parameters:\n",
    "#     H , inertia constant : 1.7 MWs/MVA\n",
    "#     D , synchronous mechanical damping : 0.12 pu/pu\n",
    "#     Xa , stator leakage reactance : 0.130 pu\n",
    "#     Xd , d-axis unsaturated reactance : 1.79 pu\n",
    "#     Xd' , d-axis unsaturated transient reactance : 0.169 pu\n",
    "#     Xd'' , d-axis unsaturated Sub-Trans reactance : 0.135 pu\n",
    "#     Xq , q-axis unsaturated reactance : 1.71 pu\n",
    "#     Xq' , q-axis unsaturated transient reactance : 0.228 pu\n",
    "#     Xq'' , q-axis unsaturated Sub-Trans reactance : 0.2 pu\n",
    "# For 2-order equation, the state variables are rev (w) and phase angle (delta), \n",
    "# parameters waiting estimated are H , D , Eq' = Ed' = const\n",
    "#     H * d2_delta/dt2 (This is dw/dt) + D * d_delta/dt + P_ex - P_mach = 0\n",
    "#     P_ex is external power balance and P_mach is the mechanical power\n",
    "#     time， P_ex, delta, P_mach, dw\n",
    "# '''"
   ]
  },
  {
   "cell_type": "code",
   "execution_count": 13,
   "id": "75332442",
   "metadata": {
    "scrolled": true
   },
   "outputs": [],
   "source": [
    "input_data = pd.read_csv('data/927test2.csv')"
   ]
  },
  {
   "cell_type": "code",
   "execution_count": 5,
   "id": "718aa794",
   "metadata": {},
   "outputs": [],
   "source": [
    "step_time = input_data.Time[1] - input_data.Time[0]\n",
    "st = 0.1 # start time (10% proportion)\n",
    "et = 0.5 # end time\n",
    "input_data.Time -= step_time * int(input_data.shape[0] * st)\n",
    "input_data = input_data[int(input_data.shape[0]*st): int(input_data.shape[0]*et)]"
   ]
  },
  {
   "cell_type": "code",
   "execution_count": 14,
   "id": "1a815246",
   "metadata": {},
   "outputs": [],
   "source": [
    "input_data.set_index('Time', inplace=True)"
   ]
  },
  {
   "cell_type": "code",
   "execution_count": 15,
   "id": "66dbddb8",
   "metadata": {},
   "outputs": [],
   "source": [
    "input_data.columns=['Te','w', 'Tm']"
   ]
  },
  {
   "cell_type": "code",
   "execution_count": null,
   "id": "7c33608a",
   "metadata": {},
   "outputs": [],
   "source": [
    "input_data.plot()"
   ]
  },
  {
   "cell_type": "code",
   "execution_count": 9,
   "id": "d25b23cb",
   "metadata": {},
   "outputs": [
    {
     "data": {
      "text/plain": [
       "array([0.0000e+00, 5.0000e-05, 1.0000e-04, ..., 1.5985e-01, 1.5990e-01,\n",
       "       1.5995e-01])"
      ]
     },
     "execution_count": 9,
     "metadata": {},
     "output_type": "execute_result"
    }
   ],
   "source": [
    "x = input_data.index.to_numpy()\n",
    "x"
   ]
  },
  {
   "cell_type": "code",
   "execution_count": 10,
   "id": "87c9872e",
   "metadata": {},
   "outputs": [],
   "source": [
    "geom = dde.geometry.TimeDomain(0, x[-1])"
   ]
  },
  {
   "cell_type": "code",
   "execution_count": 11,
   "id": "f6cf8e8d",
   "metadata": {},
   "outputs": [],
   "source": [
    "def boundary(_, on_initial):\n",
    "    return on_initial"
   ]
  },
  {
   "cell_type": "code",
   "execution_count": 12,
   "id": "fc05fefc",
   "metadata": {},
   "outputs": [],
   "source": [
    "x0 = input_data.iloc[0].tolist()"
   ]
  },
  {
   "cell_type": "code",
   "execution_count": 13,
   "id": "f2f426af",
   "metadata": {},
   "outputs": [],
   "source": [
    "# Initial conditions\n",
    "ic1 = dde.icbc.IC(geom, lambda X: x0[0], boundary, component=0)\n",
    "ic2 = dde.icbc.IC(geom, lambda X: x0[1], boundary, component=1)\n",
    "ic3 = dde.icbc.IC(geom, lambda X: x0[2], boundary, component=2)"
   ]
  },
  {
   "cell_type": "code",
   "execution_count": 14,
   "id": "ff31b2ce",
   "metadata": {},
   "outputs": [
    {
     "data": {
      "text/plain": [
       "(3200, 3)"
      ]
     },
     "execution_count": 14,
     "metadata": {},
     "output_type": "execute_result"
    }
   ],
   "source": [
    "y = input_data.to_numpy()\n",
    "y.shape"
   ]
  },
  {
   "cell_type": "code",
   "execution_count": 15,
   "id": "3d0d718a",
   "metadata": {},
   "outputs": [],
   "source": [
    "observe_t = x.reshape(-1, 1)"
   ]
  },
  {
   "cell_type": "code",
   "execution_count": 16,
   "id": "788868f6",
   "metadata": {},
   "outputs": [],
   "source": [
    "# Get the training data\n",
    "observe_y0 = dde.icbc.PointSetBC(observe_t, y[:, 0:1], component=0)\n",
    "observe_y1 = dde.icbc.PointSetBC(observe_t, y[:, 1:2], component=1)\n",
    "observe_y2 = dde.icbc.PointSetBC(observe_t, y[:, 2:3], component=2)"
   ]
  },
  {
   "cell_type": "code",
   "execution_count": 17,
   "id": "580af80b",
   "metadata": {},
   "outputs": [],
   "source": [
    "# H * d2_delta/dt2 (This is dw/dt) + D * d_delta/dt + P_ex - P_mach = 0\n",
    "def Microgrid_system(x, y):\n",
    "    \"\"\"Modified Lorenz system (with exogenous input).\n",
    "    H * d2_delta/dt2 (This is dw/dt) + D * d_delta/dt + P_ex - P_mach = 0\n",
    "    \"\"\"\n",
    "    time = x\n",
    "    Tm, w, Te = y[:, 0:1], y[:, 1:2], y[:, 2:3]\n",
    "    \n",
    "    dw_dt = dde.grad.jacobian(y, x, i=1)\n",
    "    return [\n",
    "        Tm-Te - 2*H*dw_dt - D*(w-1)\n",
    "    ]\n"
   ]
  },
  {
   "cell_type": "code",
   "execution_count": 18,
   "id": "450084ad",
   "metadata": {},
   "outputs": [],
   "source": [
    "# class ex_func2():\n",
    "#     def __init__(self, input_data):\n",
    "#         self.input_data = input_data\n",
    "#     def fun(self, t):\n",
    "#         t = t.reshape(-1, )\n",
    "#         return self.input_data.iloc[t]['Subsystem #1|CTLs|Vars|PGEN'].to_numpy().reshape(-1, 1)"
   ]
  },
  {
   "cell_type": "code",
   "execution_count": 19,
   "id": "6a9379d0",
   "metadata": {},
   "outputs": [],
   "source": [
    "data = dde.data.PDE(\n",
    "    geom,\n",
    "    Microgrid_system,\n",
    "    [ic1, ic2, ic3, observe_y0, observe_y1, observe_y2],\n",
    "    # num_domain=400,\n",
    "    # num_boundary=3,\n",
    "    anchors=observe_t,\n",
    "#     auxiliary_var_function=ex_func2(input_data).fun,\n",
    ")"
   ]
  },
  {
   "cell_type": "code",
   "execution_count": 20,
   "id": "4feeb06b",
   "metadata": {
    "scrolled": true
   },
   "outputs": [
    {
     "name": "stdout",
     "output_type": "stream",
     "text": [
      "Compiling model...\n",
      "Warning: For the backend tensorflow.compat.v1, `external_trainable_variables` is ignored, and all trainable ``tf.Variable`` objects are automatically collected.\n",
      "Building feed-forward neural network...\n",
      "'build' took 0.035734 s\n",
      "\n"
     ]
    },
    {
     "name": "stderr",
     "output_type": "stream",
     "text": [
      "C:\\env\\Lib\\site-packages\\deepxde\\nn\\tensorflow_compat_v1\\fnn.py:114: UserWarning: `tf.layers.dense` is deprecated and will be removed in a future version. Please use `tf.keras.layers.Dense` instead.\n",
      "  return tf.layers.dense(\n"
     ]
    },
    {
     "name": "stdout",
     "output_type": "stream",
     "text": [
      "'compile' took 0.351743 s\n",
      "\n"
     ]
    }
   ],
   "source": [
    "net = dde.nn.FNN([1] + [40] * 3 + [3], \"tanh\", \"Glorot uniform\")\n",
    "model = dde.Model(data, net)\n",
    "model.compile(\"adam\", lr=0.001, external_trainable_variables=[H, D])\n",
    "\n"
   ]
  },
  {
   "cell_type": "code",
   "execution_count": 21,
   "id": "e72f1ac8",
   "metadata": {
    "scrolled": true
   },
   "outputs": [
    {
     "name": "stdout",
     "output_type": "stream",
     "text": [
      "Initializing variables...\n",
      "Training model...\n",
      "\n",
      "Step      Train loss                                                                Test loss                                                                 Test metric\n",
      "0         [6.70e-05, 0.00e+00, 1.00e+00, 1.91e-13, 6.80e-02, 1.02e+00, 4.01e-01]    [6.70e-05, 0.00e+00, 1.00e+00, 1.91e-13, 6.80e-02, 1.02e+00, 4.01e-01]    []  \n",
      "1000      [3.10e-04, 4.54e-04, 7.05e-04, 9.65e-03, 7.72e-03, 2.19e-03, 5.50e-02]    [3.10e-04, 4.54e-04, 7.05e-04, 9.65e-03, 7.72e-03, 2.19e-03, 5.50e-02]    []  \n",
      "2000      [1.49e-03, 1.88e-05, 1.11e-03, 1.50e-04, 5.41e-04, 2.00e-03, 3.52e-03]    [1.49e-03, 1.88e-05, 1.11e-03, 1.50e-04, 5.41e-04, 2.00e-03, 3.52e-03]    []  \n",
      "3000      [1.46e-03, 8.40e-06, 7.56e-04, 3.29e-04, 1.01e-04, 2.07e-03, 2.50e-03]    [1.46e-03, 8.40e-06, 7.56e-04, 3.29e-04, 1.01e-04, 2.07e-03, 2.50e-03]    []  \n",
      "4000      [9.56e-04, 3.60e-08, 6.44e-04, 3.29e-06, 2.40e-05, 1.25e-03, 2.08e-03]    [9.56e-04, 3.60e-08, 6.44e-04, 3.29e-06, 2.40e-05, 1.25e-03, 2.08e-03]    []  \n",
      "5000      [6.81e-05, 2.57e-08, 5.65e-04, 4.33e-06, 1.95e-05, 1.24e-03, 1.93e-03]    [6.81e-05, 2.57e-08, 5.65e-04, 4.33e-06, 1.95e-05, 1.24e-03, 1.93e-03]    []  \n",
      "6000      [4.69e-05, 8.48e-10, 5.14e-04, 3.13e-06, 1.96e-05, 1.12e-03, 1.88e-03]    [4.69e-05, 8.48e-10, 5.14e-04, 3.13e-06, 1.96e-05, 1.12e-03, 1.88e-03]    []  \n",
      "7000      [4.02e-05, 1.40e-08, 4.81e-04, 9.97e-06, 2.00e-05, 1.05e-03, 1.85e-03]    [4.02e-05, 1.40e-08, 4.81e-04, 9.97e-06, 2.00e-05, 1.05e-03, 1.85e-03]    []  \n",
      "8000      [1.41e-02, 8.21e-06, 4.85e-04, 4.22e-05, 3.40e-05, 1.45e-03, 1.88e-03]    [1.41e-02, 8.21e-06, 4.85e-04, 4.22e-05, 3.40e-05, 1.45e-03, 1.88e-03]    []  \n",
      "\n",
      "Best model at step 7000:\n",
      "  train loss: 3.45e-03\n",
      "  test loss: 3.45e-03\n",
      "  test metric: []\n",
      "\n",
      "'train' took 116.552861 s\n",
      "\n"
     ]
    },
    {
     "data": {
      "text/plain": [
       "(<deepxde.model.LossHistory at 0x282e65fa350>,\n",
       " <deepxde.model.TrainState at 0x282e65f87d0>)"
      ]
     },
     "execution_count": 21,
     "metadata": {},
     "output_type": "execute_result"
    }
   ],
   "source": [
    "fnamevar = \"variables_test1.dat\"\n",
    "variable = dde.callbacks.VariableValue([H, D], period=200, filename=fnamevar)\n",
    "model.train(iterations=8000, callbacks=[variable])"
   ]
  },
  {
   "cell_type": "code",
   "execution_count": 22,
   "id": "3f965584",
   "metadata": {},
   "outputs": [],
   "source": [
    "lines = open(fnamevar, \"r\").readlines()\n",
    "# read output data in fnamevar (this line is a long story...)\n",
    "Chat = np.array(\n",
    "    [\n",
    "        np.fromstring(\n",
    "            min(re.findall(re.escape(\"[\") + \"(.*?)\" + re.escape(\"]\"), line), key=len),\n",
    "            sep=\",\",\n",
    "        )\n",
    "        for line in lines\n",
    "    ]\n",
    ")"
   ]
  },
  {
   "cell_type": "code",
   "execution_count": 23,
   "id": "b1a1ba7f-ba6b-4da0-80b2-39083f597388",
   "metadata": {},
   "outputs": [
    {
     "data": {
      "text/plain": [
       "(41, 2)"
      ]
     },
     "execution_count": 23,
     "metadata": {},
     "output_type": "execute_result"
    }
   ],
   "source": [
    "Chat.shape"
   ]
  },
  {
   "cell_type": "code",
   "execution_count": 26,
   "id": "7eb6048a",
   "metadata": {
    "ExecuteTime": {
     "end_time": "2023-09-27T12:48:12.821285100Z",
     "start_time": "2023-09-27T12:48:12.736342300Z"
    }
   },
   "outputs": [
    {
     "data": {
      "text/plain": [
       "Text(0.5, 0, 'Epoch')"
      ]
     },
     "execution_count": 26,
     "metadata": {},
     "output_type": "execute_result"
    },
    {
     "data": {
      "image/png": "[encoded data removed]",
      "text/plain": [
       "<Figure size 640x480 with 1 Axes>"
      ]
     },
     "metadata": {},
     "output_type": "display_data"
    }
   ],
   "source": [
    "l, c = Chat.shape\n",
    "plt.plot(range(l), Chat[:, 0], \"r-\")\n",
    "plt.plot(range(l), Chat[:, 1], \"b-\")\n",
    "plt.plot(range(l), np.ones(Chat[:, 0].shape) * 1.5, \"r--\")\n",
    "\n",
    "plt.legend([\"Hhat\",\"True H\"], loc=\"right\")\n",
    "plt.xlabel(\"Epoch\")"
   ]
  },
  {
   "cell_type": "code",
   "execution_count": 25,
   "id": "95ffdf6d",
   "metadata": {
    "scrolled": true
   },
   "outputs": [
    {
     "ename": "AttributeError",
     "evalue": "'DataFrame' object has no attribute 'Tm'",
     "output_type": "error",
     "traceback": [
      "\u001b[1;31m---------------------------------------------------------------------------\u001b[0m",
      "\u001b[1;31mAttributeError\u001b[0m                            Traceback (most recent call last)",
      "Cell \u001b[1;32mIn[25], line 1\u001b[0m\n\u001b[1;32m----> 1\u001b[0m pd\u001b[38;5;241m.\u001b[39mSeries((\u001b[43minput_data\u001b[49m\u001b[38;5;241;43m.\u001b[39;49m\u001b[43mTm\u001b[49m \u001b[38;5;241m-\u001b[39m input_data\u001b[38;5;241m.\u001b[39mTe)\u001b[38;5;241m.\u001b[39mto_numpy()[\u001b[38;5;241m1\u001b[39m:] \u001b[38;5;241m/\u001b[39m ((input_data\u001b[38;5;241m.\u001b[39mw\u001b[38;5;241m.\u001b[39mto_numpy()[\u001b[38;5;241m1\u001b[39m:] \u001b[38;5;241m-\u001b[39m input_data\u001b[38;5;241m.\u001b[39mw\u001b[38;5;241m.\u001b[39mto_numpy()[:\u001b[38;5;241m-\u001b[39m\u001b[38;5;241m1\u001b[39m]) \u001b[38;5;241m/\u001b[39m (input_data\u001b[38;5;241m.\u001b[39mindex[\u001b[38;5;241m1\u001b[39m] \u001b[38;5;241m-\u001b[39m input_data\u001b[38;5;241m.\u001b[39mindex[\u001b[38;5;241m0\u001b[39m])) \u001b[38;5;241m/\u001b[39m \u001b[38;5;241m2\u001b[39m)\u001b[38;5;241m.\u001b[39mplot()\n",
      "File \u001b[1;32mC:\\env\\Lib\\site-packages\\pandas\\core\\generic.py:5989\u001b[0m, in \u001b[0;36mNDFrame.__getattr__\u001b[1;34m(self, name)\u001b[0m\n\u001b[0;32m   5982\u001b[0m \u001b[38;5;28;01mif\u001b[39;00m (\n\u001b[0;32m   5983\u001b[0m     name \u001b[38;5;129;01mnot\u001b[39;00m \u001b[38;5;129;01min\u001b[39;00m \u001b[38;5;28mself\u001b[39m\u001b[38;5;241m.\u001b[39m_internal_names_set\n\u001b[0;32m   5984\u001b[0m     \u001b[38;5;129;01mand\u001b[39;00m name \u001b[38;5;129;01mnot\u001b[39;00m \u001b[38;5;129;01min\u001b[39;00m \u001b[38;5;28mself\u001b[39m\u001b[38;5;241m.\u001b[39m_metadata\n\u001b[0;32m   5985\u001b[0m     \u001b[38;5;129;01mand\u001b[39;00m name \u001b[38;5;129;01mnot\u001b[39;00m \u001b[38;5;129;01min\u001b[39;00m \u001b[38;5;28mself\u001b[39m\u001b[38;5;241m.\u001b[39m_accessors\n\u001b[0;32m   5986\u001b[0m     \u001b[38;5;129;01mand\u001b[39;00m \u001b[38;5;28mself\u001b[39m\u001b[38;5;241m.\u001b[39m_info_axis\u001b[38;5;241m.\u001b[39m_can_hold_identifiers_and_holds_name(name)\n\u001b[0;32m   5987\u001b[0m ):\n\u001b[0;32m   5988\u001b[0m     \u001b[38;5;28;01mreturn\u001b[39;00m \u001b[38;5;28mself\u001b[39m[name]\n\u001b[1;32m-> 5989\u001b[0m \u001b[38;5;28;01mreturn\u001b[39;00m \u001b[38;5;28;43mobject\u001b[39;49m\u001b[38;5;241;43m.\u001b[39;49m\u001b[38;5;21;43m__getattribute__\u001b[39;49m\u001b[43m(\u001b[49m\u001b[38;5;28;43mself\u001b[39;49m\u001b[43m,\u001b[49m\u001b[43m \u001b[49m\u001b[43mname\u001b[49m\u001b[43m)\u001b[49m\n",
      "\u001b[1;31mAttributeError\u001b[0m: 'DataFrame' object has no attribute 'Tm'"
     ]
    }
   ],
   "source": [
    "# pd.Series((input_data.Tm - input_data.Te).to_numpy()[1:] / ((input_data.w.to_numpy()[1:] - input_data.w.to_numpy()[:-1]) / (input_data.index[1] - input_data.index[0])) / 2).plot()"
   ]
  },
  {
   "cell_type": "code",
   "execution_count": 23,
   "id": "ad695e38-b0ee-4050-86ba-060149c5751d",
   "metadata": {
    "scrolled": true
   },
   "outputs": [
    {
     "data": {
      "text/html": [
       "<div>\n",
       "<style scoped>\n",
       "    .dataframe tbody tr th:only-of-type {\n",
       "        vertical-align: middle;\n",
       "    }\n",
       "\n",
       "    .dataframe tbody tr th {\n",
       "        vertical-align: top;\n",
       "    }\n",
       "\n",
       "    .dataframe thead th {\n",
       "        text-align: right;\n",
       "    }\n",
       "</style>\n",
       "<table border=\"1\" class=\"dataframe\">\n",
       "  <thead>\n",
       "    <tr style=\"text-align: right;\">\n",
       "      <th></th>\n",
       "      <th>Te</th>\n",
       "      <th>w</th>\n",
       "      <th>Tm</th>\n",
       "    </tr>\n",
       "    <tr>\n",
       "      <th>Time</th>\n",
       "      <th></th>\n",
       "      <th></th>\n",
       "      <th></th>\n",
       "    </tr>\n",
       "  </thead>\n",
       "  <tbody>\n",
       "    <tr>\n",
       "      <th>0.00000</th>\n",
       "      <td>0.000000</td>\n",
       "      <td>1.000000</td>\n",
       "      <td>4.369722e-07</td>\n",
       "    </tr>\n",
       "    <tr>\n",
       "      <th>0.00005</th>\n",
       "      <td>0.000000</td>\n",
       "      <td>1.000000</td>\n",
       "      <td>4.788178e-07</td>\n",
       "    </tr>\n",
       "    <tr>\n",
       "      <th>0.00010</th>\n",
       "      <td>0.000000</td>\n",
       "      <td>1.000000</td>\n",
       "      <td>5.202557e-07</td>\n",
       "    </tr>\n",
       "    <tr>\n",
       "      <th>0.00015</th>\n",
       "      <td>0.000000</td>\n",
       "      <td>1.000000</td>\n",
       "      <td>5.612498e-07</td>\n",
       "    </tr>\n",
       "    <tr>\n",
       "      <th>0.00020</th>\n",
       "      <td>0.000000</td>\n",
       "      <td>1.000000</td>\n",
       "      <td>6.017830e-07</td>\n",
       "    </tr>\n",
       "    <tr>\n",
       "      <th>...</th>\n",
       "      <td>...</td>\n",
       "      <td>...</td>\n",
       "      <td>...</td>\n",
       "    </tr>\n",
       "    <tr>\n",
       "      <th>0.15975</th>\n",
       "      <td>0.530185</td>\n",
       "      <td>0.976217</td>\n",
       "      <td>6.164807e-01</td>\n",
       "    </tr>\n",
       "    <tr>\n",
       "      <th>0.15980</th>\n",
       "      <td>0.530479</td>\n",
       "      <td>0.976215</td>\n",
       "      <td>6.164811e-01</td>\n",
       "    </tr>\n",
       "    <tr>\n",
       "      <th>0.15985</th>\n",
       "      <td>0.530773</td>\n",
       "      <td>0.976214</td>\n",
       "      <td>6.164815e-01</td>\n",
       "    </tr>\n",
       "    <tr>\n",
       "      <th>0.15990</th>\n",
       "      <td>0.531068</td>\n",
       "      <td>0.976213</td>\n",
       "      <td>6.164818e-01</td>\n",
       "    </tr>\n",
       "    <tr>\n",
       "      <th>0.15995</th>\n",
       "      <td>0.531362</td>\n",
       "      <td>0.976211</td>\n",
       "      <td>6.164822e-01</td>\n",
       "    </tr>\n",
       "  </tbody>\n",
       "</table>\n",
       "<p>3200 rows × 3 columns</p>\n",
       "</div>"
      ],
      "text/plain": [
       "               Te         w            Tm\n",
       "Time                                     \n",
       "0.00000  0.000000  1.000000  4.369722e-07\n",
       "0.00005  0.000000  1.000000  4.788178e-07\n",
       "0.00010  0.000000  1.000000  5.202557e-07\n",
       "0.00015  0.000000  1.000000  5.612498e-07\n",
       "0.00020  0.000000  1.000000  6.017830e-07\n",
       "...           ...       ...           ...\n",
       "0.15975  0.530185  0.976217  6.164807e-01\n",
       "0.15980  0.530479  0.976215  6.164811e-01\n",
       "0.15985  0.530773  0.976214  6.164815e-01\n",
       "0.15990  0.531068  0.976213  6.164818e-01\n",
       "0.15995  0.531362  0.976211  6.164822e-01\n",
       "\n",
       "[3200 rows x 3 columns]"
      ]
     },
     "execution_count": 23,
     "metadata": {},
     "output_type": "execute_result"
    }
   ],
   "source": [
    "input_data"
   ]
  },
  {
   "cell_type": "code",
   "execution_count": 16,
   "id": "bf490438-53ae-41a9-9601-a0e9bcd484ad",
   "metadata": {},
   "outputs": [
    {
     "data": {
      "text/plain": [
       "(3199,)"
      ]
     },
     "execution_count": 16,
     "metadata": {},
     "output_type": "execute_result"
    }
   ],
   "source": [
    "(2*1.5*(((input_data.w.to_numpy()[1:] - input_data.w.to_numpy()[:-1]) / (input_data.index[1] - input_data.index[0])) / 2)).shape"
   ]
  },
  {
   "cell_type": "code",
   "execution_count": 6,
   "id": "4387f278-251b-4914-a505-5db9a2477216",
   "metadata": {
    "scrolled": true
   },
   "outputs": [
    {
     "data": {
      "text/html": [
       "<div>\n",
       "<style scoped>\n",
       "    .dataframe tbody tr th:only-of-type {\n",
       "        vertical-align: middle;\n",
       "    }\n",
       "\n",
       "    .dataframe tbody tr th {\n",
       "        vertical-align: top;\n",
       "    }\n",
       "\n",
       "    .dataframe thead th {\n",
       "        text-align: right;\n",
       "    }\n",
       "</style>\n",
       "<table border=\"1\" class=\"dataframe\">\n",
       "  <thead>\n",
       "    <tr style=\"text-align: right;\">\n",
       "      <th></th>\n",
       "      <th>Te</th>\n",
       "      <th>w</th>\n",
       "      <th>Tm</th>\n",
       "    </tr>\n",
       "    <tr>\n",
       "      <th>Time</th>\n",
       "      <th></th>\n",
       "      <th></th>\n",
       "      <th></th>\n",
       "    </tr>\n",
       "  </thead>\n",
       "  <tbody>\n",
       "    <tr>\n",
       "      <th>0.00000</th>\n",
       "      <td>0.886130</td>\n",
       "      <td>0.860489</td>\n",
       "      <td>0.699301</td>\n",
       "    </tr>\n",
       "    <tr>\n",
       "      <th>0.00005</th>\n",
       "      <td>0.886137</td>\n",
       "      <td>0.860493</td>\n",
       "      <td>0.699298</td>\n",
       "    </tr>\n",
       "    <tr>\n",
       "      <th>0.00010</th>\n",
       "      <td>0.886144</td>\n",
       "      <td>0.860496</td>\n",
       "      <td>0.699294</td>\n",
       "    </tr>\n",
       "    <tr>\n",
       "      <th>0.00015</th>\n",
       "      <td>0.886150</td>\n",
       "      <td>0.860500</td>\n",
       "      <td>0.699291</td>\n",
       "    </tr>\n",
       "    <tr>\n",
       "      <th>0.00020</th>\n",
       "      <td>0.886157</td>\n",
       "      <td>0.860503</td>\n",
       "      <td>0.699288</td>\n",
       "    </tr>\n",
       "    <tr>\n",
       "      <th>...</th>\n",
       "      <td>...</td>\n",
       "      <td>...</td>\n",
       "      <td>...</td>\n",
       "    </tr>\n",
       "    <tr>\n",
       "      <th>0.39975</th>\n",
       "      <td>0.000000</td>\n",
       "      <td>0.891246</td>\n",
       "      <td>-0.000004</td>\n",
       "    </tr>\n",
       "    <tr>\n",
       "      <th>0.39980</th>\n",
       "      <td>0.000000</td>\n",
       "      <td>0.891246</td>\n",
       "      <td>-0.000004</td>\n",
       "    </tr>\n",
       "    <tr>\n",
       "      <th>0.39985</th>\n",
       "      <td>0.000000</td>\n",
       "      <td>0.891246</td>\n",
       "      <td>-0.000004</td>\n",
       "    </tr>\n",
       "    <tr>\n",
       "      <th>0.39990</th>\n",
       "      <td>0.000000</td>\n",
       "      <td>0.891246</td>\n",
       "      <td>-0.000004</td>\n",
       "    </tr>\n",
       "    <tr>\n",
       "      <th>0.39995</th>\n",
       "      <td>0.000000</td>\n",
       "      <td>0.891247</td>\n",
       "      <td>-0.000004</td>\n",
       "    </tr>\n",
       "  </tbody>\n",
       "</table>\n",
       "<p>8000 rows × 3 columns</p>\n",
       "</div>"
      ],
      "text/plain": [
       "               Te         w        Tm\n",
       "Time                                 \n",
       "0.00000  0.886130  0.860489  0.699301\n",
       "0.00005  0.886137  0.860493  0.699298\n",
       "0.00010  0.886144  0.860496  0.699294\n",
       "0.00015  0.886150  0.860500  0.699291\n",
       "0.00020  0.886157  0.860503  0.699288\n",
       "...           ...       ...       ...\n",
       "0.39975  0.000000  0.891246 -0.000004\n",
       "0.39980  0.000000  0.891246 -0.000004\n",
       "0.39985  0.000000  0.891246 -0.000004\n",
       "0.39990  0.000000  0.891246 -0.000004\n",
       "0.39995  0.000000  0.891247 -0.000004\n",
       "\n",
       "[8000 rows x 3 columns]"
      ]
     },
     "execution_count": 6,
     "metadata": {},
     "output_type": "execute_result"
    }
   ],
   "source": [
    "input_data"
   ]
  },
  {
   "cell_type": "code",
   "execution_count": 19,
   "id": "234648a0-b4b8-4e01-8b0d-bcbda6bc0495",
   "metadata": {},
   "outputs": [
    {
     "data": {
      "text/plain": [
       "<Axes: >"
      ]
     },
     "execution_count": 19,
     "metadata": {},
     "output_type": "execute_result"
    },
    {
     "data": {
      "image/png": "[encoded data removed]",
      "text/plain": [
       "<Figure size 640x480 with 1 Axes>"
      ]
     },
     "metadata": {},
     "output_type": "display_data"
    }
   ],
   "source": [
    "pd.Series((input_data.Te - input_data.Te).to_numpy()[1:] - 2*1.5*(((input_data.w.to_numpy()[1:] - input_data.w.to_numpy()[:-1]) / (input_data.index[1] - input_data.index[0])) / 2) - 0.15*(input_data.w.to_numpy()[1:]-1)).plot()"
   ]
  },
  {
   "cell_type": "code",
   "execution_count": 18,
   "id": "52e6a156-0719-4715-a242-9ddc5ae97b80",
   "metadata": {},
   "outputs": [
    {
     "data": {
      "text/plain": [
       "0      -0.124807\n",
       "1      -0.124810\n",
       "2      -0.124815\n",
       "3      -0.124818\n",
       "4      -0.124823\n",
       "          ...   \n",
       "7994   -0.024473\n",
       "7995   -0.024470\n",
       "7996   -0.024473\n",
       "7997   -0.024470\n",
       "7998   -0.024473\n",
       "Length: 7999, dtype: float64"
      ]
     },
     "execution_count": 18,
     "metadata": {},
     "output_type": "execute_result"
    }
   ],
   "source": [
    "pd.Series((input_data.Tm - input_data.Te).to_numpy()[1:] - 2*1.5*(((input_data.w.to_numpy()[1:] - input_data.w.to_numpy()[:-1]) / (input_data.index[1] - input_data.index[0])) / 2) + 0.15*(input_data.w.to_numpy()[1:]-1))"
   ]
  },
  {
   "cell_type": "code",
   "execution_count": 10,
   "id": "1265dbd8-2034-4c87-a5b7-cfff08f9b2d2",
   "metadata": {},
   "outputs": [
    {
     "data": {
      "text/plain": [
       "<Axes: >"
      ]
     },
     "execution_count": 10,
     "metadata": {},
     "output_type": "execute_result"
    },
    {
     "data": {
      "image/png": "[encoded data removed]",
      "text/plain": [
       "<Figure size 640x480 with 1 Axes>"
      ]
     },
     "metadata": {},
     "output_type": "display_data"
    }
   ],
   "source": [
    "pd.Series((input_data.Tm - input_data.Te).to_numpy()[1:] - 2*1.5*(((input_data.w.to_numpy()[1:] - input_data.w.to_numpy()[:-1]) / (input_data.index[1] - input_data.index[0])) / 2) - 0.15*(input_data.w.to_numpy()[1:]-1)).plot()"
   ]
  },
  {
   "cell_type": "code",
   "execution_count": null,
   "id": "82f774b8",
   "metadata": {},
   "outputs": [],
   "source": [
    "yhat = model.predict(observe_t)\n",
    "plt.figure()\n",
    "plt.plot(observe_t, y, \"-\", observe_t, yhat, \"--\")\n",
    "plt.xlabel(\"Time\")\n",
    "# plt.legend([\"x\", \"y\", \"z\", \"xh\", \"yh\", \"zh\"])\n",
    "# plt.title(\"Training data\")\n",
    "plt.show()"
   ]
  },
  {
   "cell_type": "code",
   "execution_count": null,
   "id": "b5436456",
   "metadata": {},
   "outputs": [],
   "source": []
  }
 ],
 "metadata": {
  "kernelspec": {
   "display_name": "Python 3 (ipykernel)",
   "language": "python",
   "name": "python3"
  },
  "language_info": {
   "codemirror_mode": {
    "name": "ipython",
    "version": 3
   },
   "file_extension": ".py",
   "mimetype": "text/x-python",
   "name": "python",
   "nbconvert_exporter": "python",
   "pygments_lexer": "ipython3",
   "version": "3.9.18"
  },
  "toc": {
   "base_numbering": 1,
   "nav_menu": {},
   "number_sections": true,
   "sideBar": true,
   "skip_h1_title": false,
   "title_cell": "Table of Contents",
   "title_sidebar": "Contents",
   "toc_cell": false,
   "toc_position": {},
   "toc_section_display": true,
   "toc_window_display": false
  },
  "varInspector": {
   "cols": {
    "lenName": 16,
    "lenType": 16,
    "lenVar": 40
   },
   "kernels_config": {
    "python": {
     "delete_cmd_postfix": "",
     "delete_cmd_prefix": "del ",
     "library": "var_list.py",
     "varRefreshCmd": "print(var_dic_list())"
    },
    "r": {
     "delete_cmd_postfix": ") ",
     "delete_cmd_prefix": "rm(",
     "library": "var_list.r",
     "varRefreshCmd": "cat(var_dic_list()) "
    }
   },
   "types_to_exclude": [
    "module",
    "function",
    "builtin_function_or_method",
    "instance",
    "_Feature"
   ],
   "window_display": false
  }
 },
 "nbformat": 4,
 "nbformat_minor": 5
}
