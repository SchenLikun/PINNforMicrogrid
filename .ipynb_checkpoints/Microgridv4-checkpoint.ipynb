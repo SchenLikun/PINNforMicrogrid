{
 "cells": [
  {
   "cell_type": "code",
   "execution_count": 1,
   "id": "3db7db65",
   "metadata": {
    "ExecuteTime": {
     "end_time": "2023-09-28T17:00:27.619868Z",
     "start_time": "2023-09-28T17:00:27.588781Z"
    }
   },
   "outputs": [
    {
     "name": "stderr",
     "output_type": "stream",
     "text": [
      "Using backend: tensorflow.compat.v1\n",
      "\n"
     ]
    },
    {
     "name": "stdout",
     "output_type": "stream",
     "text": [
      "WARNING:tensorflow:From D:\\anaconda3\\lib\\site-packages\\tensorflow\\python\\compat\\v2_compat.py:108: disable_resource_variables (from tensorflow.python.ops.variable_scope) is deprecated and will be removed in a future version.\n",
      "Instructions for updating:\n",
      "non-resource variables are not supported in the long term\n"
     ]
    }
   ],
   "source": [
    "import pandas as pd\n",
    "import deepxde as dde\n",
    "import numpy as np\n",
    "import re\n",
    "import matplotlib.pyplot as plt"
   ]
  },
  {
   "cell_type": "code",
   "execution_count": 2,
   "id": "8706fb32-d6ee-4bbb-afc2-b1954ccf3a62",
   "metadata": {},
   "outputs": [],
   "source": [
    "from deepxde.backend import tf"
   ]
  },
  {
   "cell_type": "code",
   "execution_count": 3,
   "id": "c5d0d028",
   "metadata": {
    "ExecuteTime": {
     "end_time": "2023-09-28T17:00:27.865917700Z",
     "start_time": "2023-09-28T17:00:27.841603100Z"
    }
   },
   "outputs": [],
   "source": [
    "H = dde.Variable(1.6)\n",
    "D = dde.Variable(0.2)"
   ]
  },
  {
   "cell_type": "code",
   "execution_count": 4,
   "id": "a8c0023c",
   "metadata": {
    "ExecuteTime": {
     "end_time": "2023-09-28T17:00:28.113900900Z",
     "start_time": "2023-09-28T17:00:28.088347300Z"
    },
    "collapsed": false,
    "jupyter": {
     "outputs_hidden": false
    }
   },
   "outputs": [],
   "source": [
    "# '''\n",
    "# 24th July, 2023 created by Likun Chen, Wuhan University\n",
    "# This is for testing the PINN parameter estimation, object: syn-machine\n",
    "# EXT Parameters:\n",
    "#     Vi , initial terminal voltage : 1.0 pu\n",
    "#     Ta , voltage regulator time constant : 0.4 sec\n",
    "#     Kf , rate feedback gain : 0.03\n",
    "# SYN Parameters:\n",
    "#     H , inertia constant : 1.7 MWs/MVA\n",
    "#     D , synchronous mechanical damping : 0.12 pu/pu\n",
    "#     Xa , stator leakage reactance : 0.130 pu\n",
    "#     Xd , d-axis unsaturated reactance : 1.79 pu\n",
    "#     Xd' , d-axis unsaturated transient reactance : 0.169 pu\n",
    "#     Xd'' , d-axis unsaturated Sub-Trans reactance : 0.135 pu\n",
    "#     Xq , q-axis unsaturated reactance : 1.71 pu\n",
    "#     Xq' , q-axis unsaturated transient reactance : 0.228 pu\n",
    "#     Xq'' , q-axis unsaturated Sub-Trans reactance : 0.2 pu\n",
    "# For 2-order equation, the state variables are rev (w) and phase angle (delta), \n",
    "# parameters waiting estimated are H , D , Eq' = Ed' = const\n",
    "#     H * d2_delta/dt2 (This is dw/dt) + D * d_delta/dt + P_ex - P_mach = 0\n",
    "#     P_ex is external power balance and P_mach is the mechanical power\n",
    "#     time， P_ex, delta, P_mach, dw\n",
    "# '''"
   ]
  },
  {
   "cell_type": "code",
   "execution_count": 5,
   "id": "ddcac0c3-79f9-48da-9074-2160e06453fc",
   "metadata": {},
   "outputs": [
    {
     "data": {
      "text/plain": [
       "'\\nimport numpy as np\\nimport deepxde as dde\\nfrom deepxde.backend import tf\\nimport variable_to_parameter_transform\\n\\n\\ndef sbinn(data_t, data_y, meal_t, meal_q):\\n    def get_variable(v, var):\\n        low, up = v * 0.2, v * 1.8\\n        l = (up - low) / 2\\n        v1 = l * tf.tanh(var) + l + low\\n        return v1\\n\\n    E_ = dde.Variable(0.0)\\n    tp_ = dde.Variable(0.0)\\n    ti_ = dde.Variable(0.0)\\n    td_ = dde.Variable(0.0)\\n    k_ = dde.Variable(0.0)\\n    Rm_ = dde.Variable(0.0)\\n    a1_ = dde.Variable(0.0)\\n    C1_ = dde.Variable(0.0)\\n    C2_ = dde.Variable(0.0)\\n    C4_ = dde.Variable(0.0)\\n    C5_ = dde.Variable(0.0)\\n    Ub_ = dde.Variable(0.0)\\n    U0_ = dde.Variable(0.0)\\n    Um_ = dde.Variable(0.0)\\n    Rg_ = dde.Variable(0.0)\\n    alpha_ = dde.Variable(0.0)\\n    beta_ = dde.Variable(0.0)\\n\\n    var_list_ = [\\n        E_,\\n        tp_,\\n        ti_,\\n        td_,\\n        k_,\\n        Rm_,\\n        a1_,\\n        C1_,\\n        C2_,\\n        C4_,\\n        C5_,\\n        Ub_,\\n        U0_,\\n        Um_,\\n        Rg_,\\n        alpha_,\\n        beta_,\\n    ]\\n\\n    def ODE(t, y):\\n        Ip = y[:, 0:1]\\n        Ii = y[:, 1:2]\\n        G = y[:, 2:3]\\n        h1 = y[:, 3:4]\\n        h2 = y[:, 4:5]\\n        h3 = y[:, 5:6]\\n\\n        Vp = 3\\n        Vi = 11\\n        Vg = 10\\n        E = (tf.tanh(E_) + 1) * 0.1 + 0.1\\n        tp = (tf.tanh(tp_) + 1) * 2 + 4\\n        ti = (tf.tanh(ti_) + 1) * 40 + 60\\n        td = (tf.tanh(td_) + 1) * 25 / 6 + 25 / 3\\n        k = get_variable(0.0083, k_)\\n        Rm = get_variable(209, Rm_)\\n        a1 = get_variable(6.6, a1_)\\n        C1 = get_variable(300, C1_)\\n        C2 = get_variable(144, C2_)\\n        C3 = 100\\n        C4 = get_variable(80, C4_)\\n        C5 = get_variable(26, C5_)\\n        Ub = get_variable(72, Ub_)\\n        U0 = get_variable(4, U0_)\\n        Um = get_variable(90, Um_)\\n        Rg = get_variable(180, Rg_)\\n        alpha = get_variable(7.5, alpha_)\\n        beta = get_variable(1.772, beta_)\\n\\n        f1 = Rm * tf.math.sigmoid(G / (Vg * C1) - a1)\\n        f2 = Ub * (1 - tf.math.exp(-G / (Vg * C2)))\\n        kappa = (1 / Vi + 1 / (E * ti)) / C4\\n        f3 = (U0 + Um / (1 + tf.pow(tf.maximum(kappa * Ii, 1e-3), -beta))) / (Vg * C3)\\n        f4 = Rg * tf.sigmoid(alpha * (1 - h3 / (Vp * C5)))\\n        dt = t - meal_t\\n        IG = tf.math.reduce_sum(\\n            0.5 * meal_q * k * tf.math.exp(-k * dt) * (tf.math.sign(dt) + 1),\\n            axis=1,\\n            keepdims=True,\\n        )\\n        tmp = E * (Ip / Vp - Ii / Vi)\\n        dIP_dt = dde.grad.jacobian(y, t, i=0, j=0)\\n        dIi_dt = dde.grad.jacobian(y, t, i=1, j=0)\\n        dG_dt = dde.grad.jacobian(y, t, i=2, j=0)\\n        dh1_dt = dde.grad.jacobian(y, t, i=3, j=0)\\n        dh2_dt = dde.grad.jacobian(y, t, i=4, j=0)\\n        dh3_dt = dde.grad.jacobian(y, t, i=5, j=0)\\n        return [\\n            dIP_dt - (f1 - tmp - Ip / tp),\\n            dIi_dt - (tmp - Ii / ti),\\n            dG_dt - (f4 + IG - f2 - f3 * G),\\n            dh1_dt - (Ip - h1) / td,\\n            dh2_dt - (h1 - h2) / td,\\n            dh3_dt - (h2 - h3) / td,\\n        ]\\n\\n    geom = dde.geometry.TimeDomain(data_t[0, 0], data_t[-1, 0])\\n\\n    # Observes\\n    n = len(data_t)\\n    idx = np.append(\\n        np.random.choice(np.arange(1, n - 1), size=n // 5, replace=False), [0, n - 1]\\n    )\\n    observe_y2 = dde.PointSetBC(data_t[idx], data_y[idx, 2:3], component=2)\\n\\n    np.savetxt(\"glucose_input.dat\", np.hstack((data_t[idx], data_y[idx, 2:3])))\\n\\n    data = dde.data.PDE(geom, ODE, [observe_y2], anchors=data_t)\\n\\n    net = dde.maps.FNN([1] + [128] * 3 + [6], \"swish\", \"Glorot normal\")\\n\\n    def feature_transform(t):\\n        t = 0.01 * t\\n        return tf.concat(\\n            (t, tf.sin(t), tf.sin(2 * t), tf.sin(3 * t), tf.sin(4 * t), tf.sin(5 * t)),\\n            axis=1,\\n        )\\n\\n    net.apply_feature_transform(feature_transform)\\n\\n    def output_transform(t, y):\\n        idx = 1799\\n        k = (data_y[idx] - data_y[0]) / (data_t[idx] - data_t[0])\\n        b = (data_t[idx] * data_y[0] - data_t[0] * data_y[idx]) / (\\n            data_t[idx] - data_t[0]\\n        )\\n        linear = k * t + b\\n        factor = tf.math.tanh(t) * tf.math.tanh(idx - t)\\n        return linear + factor * tf.constant([1, 1, 1e2, 1, 1, 1]) * y\\n\\n    net.apply_output_transform(output_transform)\\n\\n    model = dde.Model(data, net)\\n\\n    firsttrain = 10000\\n    callbackperiod = 1000\\n    maxepochs = 1000000\\n\\n    model.compile(\"adam\", lr=1e-3, loss_weights=[0, 0, 0, 0, 0, 0, 1e-2])\\n    model.train(epochs=firsttrain, display_every=1000)\\n    model.compile(\\n        \"adam\",\\n        lr=1e-3,\\n        loss_weights=[1, 1, 1e-2, 1, 1, 1, 1e-2],\\n        external_trainable_variables=var_list_,\\n    )\\n    variablefilename = \"variables.csv\"\\n    variable = dde.callbacks.VariableValue(\\n        var_list_, period=callbackperiod, filename=variablefilename\\n    )\\n    losshistory, train_state = model.train(\\n        epochs=maxepochs, display_every=1000, callbacks=[variable]\\n    )\\n\\n    dde.saveplot(losshistory, train_state, issave=True, isplot=True)\\n\\n\\ngluc_data = np.hsplit(np.loadtxt(\"glucose.dat\"), [1])\\nmeal_data = np.hsplit(np.loadtxt(\"meal.dat\"), [4])\\n\\nt = gluc_data[0]\\ny = gluc_data[1]\\nmeal_t = meal_data[0]\\nmeal_q = meal_data[1]\\n\\nsbinn(\\n    t[:1800],\\n    y[:1800],\\n    meal_t,\\n    meal_q,\\n)\\n\\nvariable_to_parameter_transform.variable_file(10000, 1000, 1000000, \"variables.csv\")\\n'"
      ]
     },
     "execution_count": 5,
     "metadata": {},
     "output_type": "execute_result"
    }
   ],
   "source": [
    "'''\n",
    "import numpy as np\n",
    "import deepxde as dde\n",
    "from deepxde.backend import tf\n",
    "import variable_to_parameter_transform\n",
    "\n",
    "\n",
    "def sbinn(data_t, data_y, meal_t, meal_q):\n",
    "    def get_variable(v, var):\n",
    "        low, up = v * 0.2, v * 1.8\n",
    "        l = (up - low) / 2\n",
    "        v1 = l * tf.tanh(var) + l + low\n",
    "        return v1\n",
    "\n",
    "    E_ = dde.Variable(0.0)\n",
    "    tp_ = dde.Variable(0.0)\n",
    "    ti_ = dde.Variable(0.0)\n",
    "    td_ = dde.Variable(0.0)\n",
    "    k_ = dde.Variable(0.0)\n",
    "    Rm_ = dde.Variable(0.0)\n",
    "    a1_ = dde.Variable(0.0)\n",
    "    C1_ = dde.Variable(0.0)\n",
    "    C2_ = dde.Variable(0.0)\n",
    "    C4_ = dde.Variable(0.0)\n",
    "    C5_ = dde.Variable(0.0)\n",
    "    Ub_ = dde.Variable(0.0)\n",
    "    U0_ = dde.Variable(0.0)\n",
    "    Um_ = dde.Variable(0.0)\n",
    "    Rg_ = dde.Variable(0.0)\n",
    "    alpha_ = dde.Variable(0.0)\n",
    "    beta_ = dde.Variable(0.0)\n",
    "\n",
    "    var_list_ = [\n",
    "        E_,\n",
    "        tp_,\n",
    "        ti_,\n",
    "        td_,\n",
    "        k_,\n",
    "        Rm_,\n",
    "        a1_,\n",
    "        C1_,\n",
    "        C2_,\n",
    "        C4_,\n",
    "        C5_,\n",
    "        Ub_,\n",
    "        U0_,\n",
    "        Um_,\n",
    "        Rg_,\n",
    "        alpha_,\n",
    "        beta_,\n",
    "    ]\n",
    "\n",
    "    def ODE(t, y):\n",
    "        Ip = y[:, 0:1]\n",
    "        Ii = y[:, 1:2]\n",
    "        G = y[:, 2:3]\n",
    "        h1 = y[:, 3:4]\n",
    "        h2 = y[:, 4:5]\n",
    "        h3 = y[:, 5:6]\n",
    "\n",
    "        Vp = 3\n",
    "        Vi = 11\n",
    "        Vg = 10\n",
    "        E = (tf.tanh(E_) + 1) * 0.1 + 0.1\n",
    "        tp = (tf.tanh(tp_) + 1) * 2 + 4\n",
    "        ti = (tf.tanh(ti_) + 1) * 40 + 60\n",
    "        td = (tf.tanh(td_) + 1) * 25 / 6 + 25 / 3\n",
    "        k = get_variable(0.0083, k_)\n",
    "        Rm = get_variable(209, Rm_)\n",
    "        a1 = get_variable(6.6, a1_)\n",
    "        C1 = get_variable(300, C1_)\n",
    "        C2 = get_variable(144, C2_)\n",
    "        C3 = 100\n",
    "        C4 = get_variable(80, C4_)\n",
    "        C5 = get_variable(26, C5_)\n",
    "        Ub = get_variable(72, Ub_)\n",
    "        U0 = get_variable(4, U0_)\n",
    "        Um = get_variable(90, Um_)\n",
    "        Rg = get_variable(180, Rg_)\n",
    "        alpha = get_variable(7.5, alpha_)\n",
    "        beta = get_variable(1.772, beta_)\n",
    "\n",
    "        f1 = Rm * tf.math.sigmoid(G / (Vg * C1) - a1)\n",
    "        f2 = Ub * (1 - tf.math.exp(-G / (Vg * C2)))\n",
    "        kappa = (1 / Vi + 1 / (E * ti)) / C4\n",
    "        f3 = (U0 + Um / (1 + tf.pow(tf.maximum(kappa * Ii, 1e-3), -beta))) / (Vg * C3)\n",
    "        f4 = Rg * tf.sigmoid(alpha * (1 - h3 / (Vp * C5)))\n",
    "        dt = t - meal_t\n",
    "        IG = tf.math.reduce_sum(\n",
    "            0.5 * meal_q * k * tf.math.exp(-k * dt) * (tf.math.sign(dt) + 1),\n",
    "            axis=1,\n",
    "            keepdims=True,\n",
    "        )\n",
    "        tmp = E * (Ip / Vp - Ii / Vi)\n",
    "        dIP_dt = dde.grad.jacobian(y, t, i=0, j=0)\n",
    "        dIi_dt = dde.grad.jacobian(y, t, i=1, j=0)\n",
    "        dG_dt = dde.grad.jacobian(y, t, i=2, j=0)\n",
    "        dh1_dt = dde.grad.jacobian(y, t, i=3, j=0)\n",
    "        dh2_dt = dde.grad.jacobian(y, t, i=4, j=0)\n",
    "        dh3_dt = dde.grad.jacobian(y, t, i=5, j=0)\n",
    "        return [\n",
    "            dIP_dt - (f1 - tmp - Ip / tp),\n",
    "            dIi_dt - (tmp - Ii / ti),\n",
    "            dG_dt - (f4 + IG - f2 - f3 * G),\n",
    "            dh1_dt - (Ip - h1) / td,\n",
    "            dh2_dt - (h1 - h2) / td,\n",
    "            dh3_dt - (h2 - h3) / td,\n",
    "        ]\n",
    "\n",
    "    geom = dde.geometry.TimeDomain(data_t[0, 0], data_t[-1, 0])\n",
    "\n",
    "    # Observes\n",
    "    n = len(data_t)\n",
    "    idx = np.append(\n",
    "        np.random.choice(np.arange(1, n - 1), size=n // 5, replace=False), [0, n - 1]\n",
    "    )\n",
    "    observe_y2 = dde.PointSetBC(data_t[idx], data_y[idx, 2:3], component=2)\n",
    "\n",
    "    np.savetxt(\"glucose_input.dat\", np.hstack((data_t[idx], data_y[idx, 2:3])))\n",
    "\n",
    "    data = dde.data.PDE(geom, ODE, [observe_y2], anchors=data_t)\n",
    "\n",
    "    net = dde.maps.FNN([1] + [128] * 3 + [6], \"swish\", \"Glorot normal\")\n",
    "\n",
    "    def feature_transform(t):\n",
    "        t = 0.01 * t\n",
    "        return tf.concat(\n",
    "            (t, tf.sin(t), tf.sin(2 * t), tf.sin(3 * t), tf.sin(4 * t), tf.sin(5 * t)),\n",
    "            axis=1,\n",
    "        )\n",
    "\n",
    "    net.apply_feature_transform(feature_transform)\n",
    "\n",
    "    def output_transform(t, y):\n",
    "        idx = 1799\n",
    "        k = (data_y[idx] - data_y[0]) / (data_t[idx] - data_t[0])\n",
    "        b = (data_t[idx] * data_y[0] - data_t[0] * data_y[idx]) / (\n",
    "            data_t[idx] - data_t[0]\n",
    "        )\n",
    "        linear = k * t + b\n",
    "        factor = tf.math.tanh(t) * tf.math.tanh(idx - t)\n",
    "        return linear + factor * tf.constant([1, 1, 1e2, 1, 1, 1]) * y\n",
    "\n",
    "    net.apply_output_transform(output_transform)\n",
    "\n",
    "    model = dde.Model(data, net)\n",
    "\n",
    "    firsttrain = 10000\n",
    "    callbackperiod = 1000\n",
    "    maxepochs = 1000000\n",
    "\n",
    "    model.compile(\"adam\", lr=1e-3, loss_weights=[0, 0, 0, 0, 0, 0, 1e-2])\n",
    "    model.train(epochs=firsttrain, display_every=1000)\n",
    "    model.compile(\n",
    "        \"adam\",\n",
    "        lr=1e-3,\n",
    "        loss_weights=[1, 1, 1e-2, 1, 1, 1, 1e-2],\n",
    "        external_trainable_variables=var_list_,\n",
    "    )\n",
    "    variablefilename = \"variables.csv\"\n",
    "    variable = dde.callbacks.VariableValue(\n",
    "        var_list_, period=callbackperiod, filename=variablefilename\n",
    "    )\n",
    "    losshistory, train_state = model.train(\n",
    "        epochs=maxepochs, display_every=1000, callbacks=[variable]\n",
    "    )\n",
    "\n",
    "    dde.saveplot(losshistory, train_state, issave=True, isplot=True)\n",
    "\n",
    "\n",
    "gluc_data = np.hsplit(np.loadtxt(\"glucose.dat\"), [1])\n",
    "meal_data = np.hsplit(np.loadtxt(\"meal.dat\"), [4])\n",
    "\n",
    "t = gluc_data[0]\n",
    "y = gluc_data[1]\n",
    "meal_t = meal_data[0]\n",
    "meal_q = meal_data[1]\n",
    "\n",
    "sbinn(\n",
    "    t[:1800],\n",
    "    y[:1800],\n",
    "    meal_t,\n",
    "    meal_q,\n",
    ")\n",
    "\n",
    "variable_to_parameter_transform.variable_file(10000, 1000, 1000000, \"variables.csv\")\n",
    "'''"
   ]
  },
  {
   "cell_type": "code",
   "execution_count": 6,
   "id": "75332442",
   "metadata": {
    "ExecuteTime": {
     "end_time": "2023-09-28T17:00:28.362246200Z",
     "start_time": "2023-09-28T17:00:28.331626200Z"
    },
    "scrolled": true
   },
   "outputs": [
    {
     "data": {
      "text/html": [
       "<div>\n",
       "<style scoped>\n",
       "    .dataframe tbody tr th:only-of-type {\n",
       "        vertical-align: middle;\n",
       "    }\n",
       "\n",
       "    .dataframe tbody tr th {\n",
       "        vertical-align: top;\n",
       "    }\n",
       "\n",
       "    .dataframe thead th {\n",
       "        text-align: right;\n",
       "    }\n",
       "</style>\n",
       "<table border=\"1\" class=\"dataframe\">\n",
       "  <thead>\n",
       "    <tr style=\"text-align: right;\">\n",
       "      <th></th>\n",
       "      <th>Time</th>\n",
       "      <th>Subsystem #1|CTLs|Vars|Tm</th>\n",
       "      <th>Subsystem #1|Machines|M|TESTSPDOUT</th>\n",
       "      <th>Subsystem #1|Machines|M|TESTTELECT</th>\n",
       "    </tr>\n",
       "  </thead>\n",
       "  <tbody>\n",
       "    <tr>\n",
       "      <th>0</th>\n",
       "      <td>0.00000</td>\n",
       "      <td>0.000000</td>\n",
       "      <td>1.005288</td>\n",
       "      <td>3.309534e-08</td>\n",
       "    </tr>\n",
       "    <tr>\n",
       "      <th>1</th>\n",
       "      <td>0.00005</td>\n",
       "      <td>0.000000</td>\n",
       "      <td>1.005288</td>\n",
       "      <td>3.263598e-08</td>\n",
       "    </tr>\n",
       "    <tr>\n",
       "      <th>2</th>\n",
       "      <td>0.00010</td>\n",
       "      <td>0.000000</td>\n",
       "      <td>1.005288</td>\n",
       "      <td>3.258290e-08</td>\n",
       "    </tr>\n",
       "    <tr>\n",
       "      <th>3</th>\n",
       "      <td>0.00015</td>\n",
       "      <td>0.000000</td>\n",
       "      <td>1.005288</td>\n",
       "      <td>3.293628e-08</td>\n",
       "    </tr>\n",
       "    <tr>\n",
       "      <th>4</th>\n",
       "      <td>0.00020</td>\n",
       "      <td>0.000000</td>\n",
       "      <td>1.005288</td>\n",
       "      <td>3.369583e-08</td>\n",
       "    </tr>\n",
       "    <tr>\n",
       "      <th>...</th>\n",
       "      <td>...</td>\n",
       "      <td>...</td>\n",
       "      <td>...</td>\n",
       "      <td>...</td>\n",
       "    </tr>\n",
       "    <tr>\n",
       "      <th>7995</th>\n",
       "      <td>0.39975</td>\n",
       "      <td>0.914581</td>\n",
       "      <td>0.970005</td>\n",
       "      <td>6.204557e-01</td>\n",
       "    </tr>\n",
       "    <tr>\n",
       "      <th>7996</th>\n",
       "      <td>0.39980</td>\n",
       "      <td>0.914565</td>\n",
       "      <td>0.970010</td>\n",
       "      <td>6.204525e-01</td>\n",
       "    </tr>\n",
       "    <tr>\n",
       "      <th>7997</th>\n",
       "      <td>0.39985</td>\n",
       "      <td>0.914550</td>\n",
       "      <td>0.970015</td>\n",
       "      <td>6.204492e-01</td>\n",
       "    </tr>\n",
       "    <tr>\n",
       "      <th>7998</th>\n",
       "      <td>0.39990</td>\n",
       "      <td>0.914534</td>\n",
       "      <td>0.970020</td>\n",
       "      <td>6.204459e-01</td>\n",
       "    </tr>\n",
       "    <tr>\n",
       "      <th>7999</th>\n",
       "      <td>0.39995</td>\n",
       "      <td>0.914518</td>\n",
       "      <td>0.970025</td>\n",
       "      <td>6.204426e-01</td>\n",
       "    </tr>\n",
       "  </tbody>\n",
       "</table>\n",
       "<p>8000 rows × 4 columns</p>\n",
       "</div>"
      ],
      "text/plain": [
       "         Time  Subsystem #1|CTLs|Vars|Tm  Subsystem #1|Machines|M|TESTSPDOUT  \\\n",
       "0     0.00000                   0.000000                            1.005288   \n",
       "1     0.00005                   0.000000                            1.005288   \n",
       "2     0.00010                   0.000000                            1.005288   \n",
       "3     0.00015                   0.000000                            1.005288   \n",
       "4     0.00020                   0.000000                            1.005288   \n",
       "...       ...                        ...                                 ...   \n",
       "7995  0.39975                   0.914581                            0.970005   \n",
       "7996  0.39980                   0.914565                            0.970010   \n",
       "7997  0.39985                   0.914550                            0.970015   \n",
       "7998  0.39990                   0.914534                            0.970020   \n",
       "7999  0.39995                   0.914518                            0.970025   \n",
       "\n",
       "      Subsystem #1|Machines|M|TESTTELECT  \n",
       "0                           3.309534e-08  \n",
       "1                           3.263598e-08  \n",
       "2                           3.258290e-08  \n",
       "3                           3.293628e-08  \n",
       "4                           3.369583e-08  \n",
       "...                                  ...  \n",
       "7995                        6.204557e-01  \n",
       "7996                        6.204525e-01  \n",
       "7997                        6.204492e-01  \n",
       "7998                        6.204459e-01  \n",
       "7999                        6.204426e-01  \n",
       "\n",
       "[8000 rows x 4 columns]"
      ]
     },
     "execution_count": 6,
     "metadata": {},
     "output_type": "execute_result"
    }
   ],
   "source": [
    "input_data = pd.read_csv('data/927testforTe2.csv')\n",
    "input_data"
   ]
  },
  {
   "cell_type": "code",
   "execution_count": 7,
   "id": "718aa794",
   "metadata": {
    "ExecuteTime": {
     "end_time": "2023-09-28T17:00:28.680316Z",
     "start_time": "2023-09-28T17:00:28.664781900Z"
    }
   },
   "outputs": [],
   "source": [
    "step_time = input_data.Time[1] - input_data.Time[0]\n",
    "st = 0.5 # start time (10% proportion)\n",
    "et = 1 # end time\n",
    "input_data.Time -= step_time * int(input_data.shape[0] * st)\n",
    "input_data = input_data[int(input_data.shape[0]*st): int(input_data.shape[0]*et)]"
   ]
  },
  {
   "cell_type": "code",
   "execution_count": 8,
   "id": "1a815246",
   "metadata": {
    "ExecuteTime": {
     "end_time": "2023-09-28T17:00:29.008000700Z",
     "start_time": "2023-09-28T17:00:28.983615600Z"
    }
   },
   "outputs": [],
   "source": [
    "input_data.set_index('Time', inplace=True)"
   ]
  },
  {
   "cell_type": "code",
   "execution_count": 9,
   "id": "66dbddb8",
   "metadata": {
    "ExecuteTime": {
     "end_time": "2023-09-28T17:00:29.276368200Z",
     "start_time": "2023-09-28T17:00:29.266218900Z"
    }
   },
   "outputs": [],
   "source": [
    "input_data.columns=['Tm','w', 'Te']"
   ]
  },
  {
   "cell_type": "code",
   "execution_count": 10,
   "id": "7c33608a",
   "metadata": {
    "ExecuteTime": {
     "end_time": "2023-09-28T17:00:29.656110100Z",
     "start_time": "2023-09-28T17:00:29.552229200Z"
    }
   },
   "outputs": [
    {
     "data": {
      "text/plain": [
       "<Axes: xlabel='Time'>"
      ]
     },
     "execution_count": 10,
     "metadata": {},
     "output_type": "execute_result"
    },
    {
     "data": {
      "image/png": "[encoded data removed]",
      "text/plain": [
       "<Figure size 640x480 with 1 Axes>"
      ]
     },
     "metadata": {},
     "output_type": "display_data"
    }
   ],
   "source": [
    "input_data.plot()"
   ]
  },
  {
   "cell_type": "code",
   "execution_count": 11,
   "id": "135be8dd-fb96-4afa-8ce1-7ca62566631a",
   "metadata": {},
   "outputs": [
    {
     "data": {
      "text/html": [
       "<div>\n",
       "<style scoped>\n",
       "    .dataframe tbody tr th:only-of-type {\n",
       "        vertical-align: middle;\n",
       "    }\n",
       "\n",
       "    .dataframe tbody tr th {\n",
       "        vertical-align: top;\n",
       "    }\n",
       "\n",
       "    .dataframe thead th {\n",
       "        text-align: right;\n",
       "    }\n",
       "</style>\n",
       "<table border=\"1\" class=\"dataframe\">\n",
       "  <thead>\n",
       "    <tr style=\"text-align: right;\">\n",
       "      <th></th>\n",
       "      <th>w</th>\n",
       "      <th>Tm</th>\n",
       "      <th>Te</th>\n",
       "    </tr>\n",
       "    <tr>\n",
       "      <th>Time</th>\n",
       "      <th></th>\n",
       "      <th></th>\n",
       "      <th></th>\n",
       "    </tr>\n",
       "  </thead>\n",
       "  <tbody>\n",
       "    <tr>\n",
       "      <th>0.00000</th>\n",
       "      <td>0.971837</td>\n",
       "      <td>0.074038</td>\n",
       "      <td>0.618821</td>\n",
       "    </tr>\n",
       "    <tr>\n",
       "      <th>0.00005</th>\n",
       "      <td>0.971828</td>\n",
       "      <td>0.074231</td>\n",
       "      <td>0.618826</td>\n",
       "    </tr>\n",
       "    <tr>\n",
       "      <th>0.00010</th>\n",
       "      <td>0.971819</td>\n",
       "      <td>0.074424</td>\n",
       "      <td>0.618832</td>\n",
       "    </tr>\n",
       "    <tr>\n",
       "      <th>0.00015</th>\n",
       "      <td>0.971810</td>\n",
       "      <td>0.074617</td>\n",
       "      <td>0.618837</td>\n",
       "    </tr>\n",
       "    <tr>\n",
       "      <th>0.00020</th>\n",
       "      <td>0.971801</td>\n",
       "      <td>0.074810</td>\n",
       "      <td>0.618843</td>\n",
       "    </tr>\n",
       "    <tr>\n",
       "      <th>...</th>\n",
       "      <td>...</td>\n",
       "      <td>...</td>\n",
       "      <td>...</td>\n",
       "    </tr>\n",
       "    <tr>\n",
       "      <th>0.19975</th>\n",
       "      <td>0.970005</td>\n",
       "      <td>0.914581</td>\n",
       "      <td>0.620456</td>\n",
       "    </tr>\n",
       "    <tr>\n",
       "      <th>0.19980</th>\n",
       "      <td>0.970010</td>\n",
       "      <td>0.914565</td>\n",
       "      <td>0.620452</td>\n",
       "    </tr>\n",
       "    <tr>\n",
       "      <th>0.19985</th>\n",
       "      <td>0.970015</td>\n",
       "      <td>0.914550</td>\n",
       "      <td>0.620449</td>\n",
       "    </tr>\n",
       "    <tr>\n",
       "      <th>0.19990</th>\n",
       "      <td>0.970020</td>\n",
       "      <td>0.914534</td>\n",
       "      <td>0.620446</td>\n",
       "    </tr>\n",
       "    <tr>\n",
       "      <th>0.19995</th>\n",
       "      <td>0.970025</td>\n",
       "      <td>0.914518</td>\n",
       "      <td>0.620443</td>\n",
       "    </tr>\n",
       "  </tbody>\n",
       "</table>\n",
       "<p>4000 rows × 3 columns</p>\n",
       "</div>"
      ],
      "text/plain": [
       "                w        Tm        Te\n",
       "Time                                 \n",
       "0.00000  0.971837  0.074038  0.618821\n",
       "0.00005  0.971828  0.074231  0.618826\n",
       "0.00010  0.971819  0.074424  0.618832\n",
       "0.00015  0.971810  0.074617  0.618837\n",
       "0.00020  0.971801  0.074810  0.618843\n",
       "...           ...       ...       ...\n",
       "0.19975  0.970005  0.914581  0.620456\n",
       "0.19980  0.970010  0.914565  0.620452\n",
       "0.19985  0.970015  0.914550  0.620449\n",
       "0.19990  0.970020  0.914534  0.620446\n",
       "0.19995  0.970025  0.914518  0.620443\n",
       "\n",
       "[4000 rows x 3 columns]"
      ]
     },
     "execution_count": 11,
     "metadata": {},
     "output_type": "execute_result"
    }
   ],
   "source": [
    "input_data = input_data.reindex(columns = ['w','Tm','Te'])\n",
    "input_data"
   ]
  },
  {
   "cell_type": "code",
   "execution_count": 12,
   "id": "d25b23cb",
   "metadata": {
    "ExecuteTime": {
     "end_time": "2023-09-28T17:00:32.257632800Z",
     "start_time": "2023-09-28T17:00:32.242385900Z"
    }
   },
   "outputs": [
    {
     "data": {
      "text/plain": [
       "array([0.0000e+00, 5.0000e-05, 1.0000e-04, ..., 1.9985e-01, 1.9990e-01,\n",
       "       1.9995e-01])"
      ]
     },
     "execution_count": 12,
     "metadata": {},
     "output_type": "execute_result"
    }
   ],
   "source": [
    "x = input_data.index.to_numpy()\n",
    "x"
   ]
  },
  {
   "cell_type": "code",
   "execution_count": 13,
   "id": "87c9872e",
   "metadata": {
    "ExecuteTime": {
     "end_time": "2023-09-28T17:00:33.801975700Z",
     "start_time": "2023-09-28T17:00:33.787546300Z"
    }
   },
   "outputs": [],
   "source": [
    "geom = dde.geometry.TimeDomain(0, x[-1])"
   ]
  },
  {
   "cell_type": "code",
   "execution_count": 14,
   "id": "f6cf8e8d",
   "metadata": {
    "ExecuteTime": {
     "end_time": "2023-09-28T17:00:34.156252800Z",
     "start_time": "2023-09-28T17:00:34.143684900Z"
    }
   },
   "outputs": [],
   "source": [
    "# def boundary(_, on_initial):\n",
    "#     return on_initial"
   ]
  },
  {
   "cell_type": "code",
   "execution_count": 15,
   "id": "fc05fefc",
   "metadata": {
    "ExecuteTime": {
     "end_time": "2023-09-28T17:00:34.594954200Z",
     "start_time": "2023-09-28T17:00:34.568365Z"
    }
   },
   "outputs": [],
   "source": [
    "x0 = input_data.iloc[0].tolist()"
   ]
  },
  {
   "cell_type": "code",
   "execution_count": 16,
   "id": "f2f426af",
   "metadata": {
    "ExecuteTime": {
     "end_time": "2023-09-28T17:00:35.032060400Z",
     "start_time": "2023-09-28T17:00:35.008637400Z"
    }
   },
   "outputs": [],
   "source": [
    "# # Initial conditions\n",
    "# ic1 = dde.icbc.IC(geom, lambda X: x0[0], boundary, component=0)\n",
    "# ic2 = dde.icbc.IC(geom, lambda X: x0[1], boundary, component=1)\n",
    "# ic3 = dde.icbc.IC(geom, lambda X: x0[2], boundary, component=2)"
   ]
  },
  {
   "cell_type": "code",
   "execution_count": 17,
   "id": "ff31b2ce",
   "metadata": {
    "ExecuteTime": {
     "end_time": "2023-09-28T17:00:36.167336400Z",
     "start_time": "2023-09-28T17:00:36.137357Z"
    }
   },
   "outputs": [
    {
     "data": {
      "text/plain": [
       "(4000, 3)"
      ]
     },
     "execution_count": 17,
     "metadata": {},
     "output_type": "execute_result"
    }
   ],
   "source": [
    "y = input_data.to_numpy()\n",
    "y.shape"
   ]
  },
  {
   "cell_type": "code",
   "execution_count": 18,
   "id": "05df4b47-341f-460f-92dc-629c30004bf3",
   "metadata": {},
   "outputs": [
    {
     "data": {
      "text/plain": [
       "array([[0.97183679, 0.07403825, 0.61882093],\n",
       "       [0.97182778, 0.07423083, 0.61882642],\n",
       "       [0.97181878, 0.07442363, 0.6188319 ],\n",
       "       ...,\n",
       "       [0.97001514, 0.91454953, 0.62044919],\n",
       "       [0.97002012, 0.91453374, 0.6204459 ],\n",
       "       [0.9700251 , 0.91451781, 0.62044262]])"
      ]
     },
     "execution_count": 18,
     "metadata": {},
     "output_type": "execute_result"
    }
   ],
   "source": [
    "y"
   ]
  },
  {
   "cell_type": "code",
   "execution_count": 19,
   "id": "3d0d718a",
   "metadata": {
    "ExecuteTime": {
     "end_time": "2023-09-28T17:00:36.595117100Z",
     "start_time": "2023-09-28T17:00:36.594115300Z"
    }
   },
   "outputs": [],
   "source": [
    "observe_t = x.reshape(-1, 1)"
   ]
  },
  {
   "cell_type": "code",
   "execution_count": 20,
   "id": "788868f6",
   "metadata": {
    "ExecuteTime": {
     "end_time": "2023-09-28T17:00:37.694752500Z",
     "start_time": "2023-09-28T17:00:37.682364Z"
    }
   },
   "outputs": [],
   "source": [
    "# Get the training data\n",
    "observe_w = dde.PointSetBC(observe_t, y[:, 0:1], component=0)\n",
    "observe_Tm = dde.PointSetBC(observe_t, y[:, 1:2], component=1)\n",
    "observe_Te = dde.PointSetBC(observe_t, y[:, 2:3], component=2)"
   ]
  },
  {
   "cell_type": "code",
   "execution_count": 21,
   "id": "580af80b",
   "metadata": {
    "ExecuteTime": {
     "end_time": "2023-09-28T17:00:38.959669800Z",
     "start_time": "2023-09-28T17:00:38.949659700Z"
    }
   },
   "outputs": [],
   "source": [
    "# H * d2_delta/dt2 (This is dw/dt) + D * d_delta/dt + P_ex - P_mach = 0\n",
    "def Microgrid_system(x, y):\n",
    "    \"\"\"Modified Lorenz system (with exogenous input).\n",
    "    H * d2_delta/dt2 (This is dw/dt) + D * d_delta/dt + P_ex - P_mach = 0\n",
    "    \"\"\"\n",
    "    w, Tm, Te = y[:, 0:1], y[:, 1:2], y[:, 2:3]\n",
    "    \n",
    "    dw_dt = dde.grad.jacobian(y, x, i=0, j=0)\n",
    "    return [\n",
    "        Tm-Te - 2*H*dw_dt - D*(w-1)\n",
    "    ]\n"
   ]
  },
  {
   "cell_type": "code",
   "execution_count": 22,
   "id": "450084ad",
   "metadata": {
    "ExecuteTime": {
     "end_time": "2023-09-28T17:00:40.115631400Z",
     "start_time": "2023-09-28T17:00:40.105319600Z"
    }
   },
   "outputs": [],
   "source": [
    "# class ex_func2():\n",
    "#     def __init__(self, input_data):\n",
    "#         self.input_data = input_data\n",
    "#     def fun(self, t):\n",
    "#         t = t.reshape(-1, )\n",
    "#         return self.input_data.iloc[t]['Subsystem #1|CTLs|Vars|PGEN'].to_numpy().reshape(-1, 1)"
   ]
  },
  {
   "cell_type": "code",
   "execution_count": 23,
   "id": "6a9379d0",
   "metadata": {
    "ExecuteTime": {
     "end_time": "2023-09-28T17:00:50.900630600Z",
     "start_time": "2023-09-28T17:00:50.892797400Z"
    }
   },
   "outputs": [],
   "source": [
    "data = dde.data.PDE(\n",
    "    geom,\n",
    "    Microgrid_system,\n",
    "    # [],\n",
    "    [observe_w, observe_Tm, observe_Te],\n",
    "    # num_domain=800,\n",
    "    # num_boundary=3,\n",
    "    anchors=observe_t,\n",
    "#     auxiliary_var_function=ex_func2(input_data).fun,\n",
    ")"
   ]
  },
  {
   "cell_type": "code",
   "execution_count": 26,
   "id": "b2bb2c63-9496-4789-8051-d27560685166",
   "metadata": {},
   "outputs": [
    {
     "data": {
      "text/plain": [
       "array([[0.97183679, 0.07403825, 0.61882093],\n",
       "       [0.97182778, 0.07423083, 0.61882642],\n",
       "       [0.97181878, 0.07442363, 0.6188319 ],\n",
       "       ...,\n",
       "       [0.97001514, 0.91454953, 0.62044919],\n",
       "       [0.97002012, 0.91453374, 0.6204459 ],\n",
       "       [0.9700251 , 0.91451781, 0.62044262]])"
      ]
     },
     "execution_count": 26,
     "metadata": {},
     "output_type": "execute_result"
    }
   ],
   "source": [
    "y"
   ]
  },
  {
   "cell_type": "code",
   "execution_count": 31,
   "id": "117af7a5-528d-4f9a-9aab-3c9ac3dd6cf3",
   "metadata": {},
   "outputs": [],
   "source": [
    "net = dde.maps.FNN([1] + [128] * 3 + [3], \"swish\", \"Glorot normal\")\n",
    "\n",
    "def feature_transform(t):\n",
    "    t = 0.01 * t\n",
    "    return tf.concat(\n",
    "        (t, tf.sin(t), tf.sin(2 * t), tf.sin(3 * t), tf.sin(4 * t), tf.sin(5 * t)),\n",
    "        axis=1,\n",
    "    )\n",
    "\n",
    "net.apply_feature_transform(feature_transform)\n",
    "\n",
    "def output_transform(t, y):\n",
    "    idx = 3999\n",
    "    k = (y[idx] - y[0]) / (x[idx] - x[0])\n",
    "    b = (x[idx] * y[0] - x[0] * y[idx]) / (\n",
    "        x[idx] - x[0]\n",
    "    )\n",
    "    linear = k * t + b\n",
    "    factor = tf.math.tanh(t) * tf.math.tanh(idx - t)\n",
    "    return linear + factor * tf.constant([1., 1., 1.]) * y\n",
    "\n",
    "net.apply_output_transform(output_transform)"
   ]
  },
  {
   "cell_type": "code",
   "execution_count": 32,
   "id": "4feeb06b",
   "metadata": {
    "ExecuteTime": {
     "end_time": "2023-09-28T17:00:52.807230200Z",
     "start_time": "2023-09-28T17:00:52.535399Z"
    },
    "scrolled": true
   },
   "outputs": [
    {
     "name": "stdout",
     "output_type": "stream",
     "text": [
      "Compiling model...\n",
      "Warning: For the backend tensorflow.compat.v1, `external_trainable_variables` is ignored, and all trainable ``tf.Variable`` objects are automatically collected.\n",
      "Building feed-forward neural network...\n",
      "'build' took 0.068391 s\n",
      "\n",
      "'compile' took 0.802735 s\n",
      "\n"
     ]
    }
   ],
   "source": [
    "# net = dde.nn.FNN([1] + [128] * 3 + [1], \"tanh\", \"Glorot uniform\")\n",
    "model = dde.Model(data, net)\n",
    "model.compile(\"adam\", lr=0.001, external_trainable_variables=[H, D])\n",
    "\n"
   ]
  },
  {
   "cell_type": "code",
   "execution_count": null,
   "id": "e72f1ac8",
   "metadata": {
    "ExecuteTime": {
     "end_time": "2023-09-29T11:23:46.425281900Z",
     "start_time": "2023-09-28T17:01:03.432427900Z"
    },
    "scrolled": true
   },
   "outputs": [
    {
     "name": "stdout",
     "output_type": "stream",
     "text": [
      "Initializing variables...\n",
      "Training model...\n",
      "\n",
      "Step      Train loss                                  Test loss                                   Test metric\n",
      "0         [3.68e-02, 9.32e-01, 4.25e-01, 3.88e-01]    [3.68e-02, 9.32e-01, 4.25e-01, 3.88e-01]    []  \n",
      "1000      [2.04e-02, 9.28e-04, 2.49e-02, 2.17e-02]    [2.04e-02, 9.28e-04, 2.49e-02, 2.17e-02]    []  \n",
      "2000      [9.18e-03, 6.63e-05, 1.14e-02, 8.51e-03]    [9.18e-03, 6.63e-05, 1.14e-02, 8.51e-03]    []  \n",
      "3000      [7.94e-03, 1.17e-04, 7.29e-03, 3.53e-03]    [7.94e-03, 1.17e-04, 7.29e-03, 3.53e-03]    []  \n",
      "4000      [6.63e-03, 2.11e-04, 5.51e-03, 2.09e-03]    [6.63e-03, 2.11e-04, 5.51e-03, 2.09e-03]    []  \n",
      "5000      [6.48e-03, 2.88e-04, 4.11e-03, 1.12e-03]    [6.48e-03, 2.88e-04, 4.11e-03, 1.12e-03]    []  \n",
      "6000      [5.00e-03, 3.23e-04, 4.13e-03, 1.47e-03]    [5.00e-03, 3.23e-04, 4.13e-03, 1.47e-03]    []  \n",
      "7000      [4.83e-03, 4.37e-04, 3.21e-03, 1.04e-03]    [4.83e-03, 4.37e-04, 3.21e-03, 1.04e-03]    []  \n",
      "8000      [4.49e-03, 5.60e-04, 2.43e-03, 8.21e-04]    [4.49e-03, 5.60e-04, 2.43e-03, 8.21e-04]    []  \n",
      "9000      [4.08e-03, 7.76e-04, 1.63e-03, 7.15e-04]    [4.08e-03, 7.76e-04, 1.63e-03, 7.15e-04]    []  \n",
      "10000     [5.52e-03, 7.37e-04, 1.55e-03, 5.22e-04]    [5.52e-03, 7.37e-04, 1.55e-03, 5.22e-04]    []  \n",
      "11000     [2.70e-03, 1.35e-03, 8.06e-04, 6.93e-04]    [2.70e-03, 1.35e-03, 8.06e-04, 6.93e-04]    []  \n",
      "12000     [1.89e-02, 4.77e-03, 7.83e-04, 1.29e-03]    [1.89e-02, 4.77e-03, 7.83e-04, 1.29e-03]    []  \n",
      "13000     [1.97e-03, 1.60e-03, 4.20e-04, 3.93e-04]    [1.97e-03, 1.60e-03, 4.20e-04, 3.93e-04]    []  \n",
      "14000     [1.77e-03, 1.62e-03, 3.29e-04, 2.96e-04]    [1.77e-03, 1.62e-03, 3.29e-04, 2.96e-04]    []  \n",
      "15000     [1.32e-03, 1.92e-03, 3.58e-04, 3.18e-04]    [1.32e-03, 1.92e-03, 3.58e-04, 3.18e-04]    []  \n",
      "16000     [1.23e-03, 1.89e-03, 2.84e-04, 2.51e-04]    [1.23e-03, 1.89e-03, 2.84e-04, 2.51e-04]    []  \n",
      "17000     [1.07e-03, 1.97e-03, 2.86e-04, 2.32e-04]    [1.07e-03, 1.97e-03, 2.86e-04, 2.32e-04]    []  \n",
      "18000     [1.58e-02, 1.55e-03, 1.76e-03, 1.08e-04]    [1.58e-02, 1.55e-03, 1.76e-03, 1.08e-04]    []  \n",
      "19000     [1.11e-03, 1.72e-03, 1.82e-04, 1.43e-04]    [1.11e-03, 1.72e-03, 1.82e-04, 1.43e-04]    []  \n",
      "20000     [9.28e-04, 1.84e-03, 1.82e-04, 1.47e-04]    [9.28e-04, 1.84e-03, 1.82e-04, 1.47e-04]    []  \n",
      "21000     [8.35e-03, 3.50e-03, 2.44e-04, 2.30e-04]    [8.35e-03, 3.50e-03, 2.44e-04, 2.30e-04]    []  \n",
      "22000     [8.02e-04, 1.84e-03, 1.64e-04, 1.28e-04]    [8.02e-04, 1.84e-03, 1.64e-04, 1.28e-04]    []  \n",
      "23000     [1.47e-03, 2.26e-03, 8.66e-05, 1.51e-04]    [1.47e-03, 2.26e-03, 8.66e-05, 1.51e-04]    []  \n",
      "24000     [7.82e-04, 1.72e-03, 1.30e-04, 1.01e-04]    [7.82e-04, 1.72e-03, 1.30e-04, 1.01e-04]    []  \n",
      "25000     [9.05e-04, 1.89e-03, 1.05e-04, 1.31e-04]    [9.05e-04, 1.89e-03, 1.05e-04, 1.31e-04]    []  \n",
      "26000     [7.11e-04, 1.68e-03, 1.14e-04, 8.88e-05]    [7.11e-04, 1.68e-03, 1.14e-04, 8.88e-05]    []  \n",
      "27000     [7.49e-04, 1.66e-03, 7.56e-05, 8.00e-05]    [7.49e-04, 1.66e-03, 7.56e-05, 8.00e-05]    []  \n",
      "28000     [6.04e-04, 1.72e-03, 1.14e-04, 8.48e-05]    [6.04e-04, 1.72e-03, 1.14e-04, 8.48e-05]    []  \n",
      "29000     [1.31e-02, 3.37e-03, 5.74e-04, 1.52e-04]    [1.31e-02, 3.37e-03, 5.74e-04, 1.52e-04]    []  \n",
      "30000     [5.93e-04, 1.63e-03, 9.29e-05, 7.27e-05]    [5.93e-04, 1.63e-03, 9.29e-05, 7.27e-05]    []  \n",
      "31000     [5.28e-04, 1.70e-03, 9.98e-05, 7.56e-05]    [5.28e-04, 1.70e-03, 9.98e-05, 7.56e-05]    []  \n",
      "32000     [5.54e-04, 1.60e-03, 8.47e-05, 6.68e-05]    [5.54e-04, 1.60e-03, 8.47e-05, 6.68e-05]    []  \n",
      "33000     [2.31e-03, 2.12e-03, 6.24e-05, 5.88e-05]    [2.31e-03, 2.12e-03, 6.24e-05, 5.88e-05]    []  \n",
      "34000     [5.49e-04, 1.53e-03, 7.36e-05, 6.00e-05]    [5.49e-04, 1.53e-03, 7.36e-05, 6.00e-05]    []  \n",
      "35000     [7.51e-04, 1.54e-03, 1.30e-04, 6.61e-05]    [7.51e-04, 1.54e-03, 1.30e-04, 6.61e-05]    []  \n",
      "36000     [5.12e-04, 1.52e-03, 6.92e-05, 5.70e-05]    [5.12e-04, 1.52e-03, 6.92e-05, 5.70e-05]    []  \n",
      "37000     [1.35e-03, 1.42e-03, 1.93e-04, 5.76e-05]    [1.35e-03, 1.42e-03, 1.93e-04, 5.76e-05]    []  \n",
      "38000     [5.04e-04, 1.47e-03, 6.10e-05, 5.26e-05]    [5.04e-04, 1.47e-03, 6.10e-05, 5.26e-05]    []  \n",
      "39000     [4.70e-04, 1.50e-03, 6.31e-05, 5.27e-05]    [4.70e-04, 1.50e-03, 6.31e-05, 5.27e-05]    []  \n",
      "40000     [8.16e-04, 1.42e-03, 1.30e-04, 5.35e-05]    [8.16e-04, 1.42e-03, 1.30e-04, 5.35e-05]    []  \n",
      "41000     [4.69e-04, 1.45e-03, 5.67e-05, 4.93e-05]    [4.69e-04, 1.45e-03, 5.67e-05, 4.93e-05]    []  \n",
      "42000     [4.45e-04, 1.47e-03, 5.84e-05, 4.91e-05]    [4.45e-04, 1.47e-03, 5.84e-05, 4.91e-05]    []  \n",
      "43000     [4.38e-04, 1.46e-03, 5.72e-05, 4.79e-05]    [4.38e-04, 1.46e-03, 5.72e-05, 4.79e-05]    []  \n",
      "44000     [4.42e-04, 1.45e-03, 5.93e-05, 4.76e-05]    [4.42e-04, 1.45e-03, 5.93e-05, 4.76e-05]    []  \n",
      "45000     [4.47e-04, 1.41e-03, 5.17e-05, 4.58e-05]    [4.47e-04, 1.41e-03, 5.17e-05, 4.58e-05]    []  \n",
      "46000     [4.28e-04, 1.43e-03, 5.32e-05, 4.56e-05]    [4.28e-04, 1.43e-03, 5.32e-05, 4.56e-05]    []  \n",
      "47000     [4.84e-04, 1.39e-03, 6.58e-05, 4.64e-05]    [4.84e-04, 1.39e-03, 6.58e-05, 4.64e-05]    []  \n",
      "48000     [4.19e-04, 1.48e-03, 4.27e-05, 4.47e-05]    [4.19e-04, 1.48e-03, 4.27e-05, 4.47e-05]    []  \n",
      "49000     [4.08e-04, 1.42e-03, 5.00e-05, 4.45e-05]    [4.08e-04, 1.42e-03, 5.00e-05, 4.45e-05]    []  \n",
      "50000     [4.45e-04, 1.34e-03, 4.57e-05, 4.36e-05]    [4.45e-04, 1.34e-03, 4.57e-05, 4.36e-05]    []  \n",
      "51000     [1.49e-03, 1.65e-03, 6.37e-05, 4.50e-05]    [1.49e-03, 1.65e-03, 6.37e-05, 4.50e-05]    []  \n",
      "52000     [4.12e-04, 1.38e-03, 4.52e-05, 4.36e-05]    [4.12e-04, 1.38e-03, 4.52e-05, 4.36e-05]    []  \n",
      "53000     [4.28e-04, 1.33e-03, 4.72e-05, 4.40e-05]    [4.28e-04, 1.33e-03, 4.72e-05, 4.40e-05]    []  \n",
      "54000     [4.30e-04, 1.32e-03, 4.45e-05, 4.38e-05]    [4.30e-04, 1.32e-03, 4.45e-05, 4.38e-05]    []  \n",
      "55000     [3.32e-03, 9.61e-04, 2.90e-04, 5.01e-05]    [3.32e-03, 9.61e-04, 2.90e-04, 5.01e-05]    []  \n",
      "56000     [7.02e-04, 1.23e-03, 7.37e-05, 4.36e-05]    [7.02e-04, 1.23e-03, 7.37e-05, 4.36e-05]    []  \n",
      "57000     [4.29e-04, 1.29e-03, 4.53e-05, 4.41e-05]    [4.29e-04, 1.29e-03, 4.53e-05, 4.41e-05]    []  \n",
      "58000     [4.37e-04, 1.26e-03, 4.14e-05, 4.40e-05]    [4.37e-04, 1.26e-03, 4.14e-05, 4.40e-05]    []  \n",
      "59000     [4.35e-04, 1.26e-03, 4.37e-05, 4.47e-05]    [4.35e-04, 1.26e-03, 4.37e-05, 4.47e-05]    []  \n",
      "60000     [8.57e-04, 1.12e-03, 8.91e-05, 4.60e-05]    [8.57e-04, 1.12e-03, 8.91e-05, 4.60e-05]    []  \n",
      "61000     [4.37e-04, 1.32e-03, 4.22e-05, 4.57e-05]    [4.37e-04, 1.32e-03, 4.22e-05, 4.57e-05]    []  \n",
      "62000     [4.36e-04, 1.22e-03, 4.50e-05, 4.50e-05]    [4.36e-04, 1.22e-03, 4.50e-05, 4.50e-05]    []  \n",
      "63000     [5.22e-04, 1.16e-03, 5.25e-05, 4.46e-05]    [5.22e-04, 1.16e-03, 5.25e-05, 4.46e-05]    []  \n",
      "64000     [4.39e-04, 1.20e-03, 3.91e-05, 4.38e-05]    [4.39e-04, 1.20e-03, 3.91e-05, 4.38e-05]    []  \n",
      "65000     [4.83e-04, 1.23e-03, 3.81e-05, 4.19e-05]    [4.83e-04, 1.23e-03, 3.81e-05, 4.19e-05]    []  \n",
      "66000     [4.78e-04, 1.20e-03, 5.28e-05, 4.49e-05]    [4.78e-04, 1.20e-03, 5.28e-05, 4.49e-05]    []  \n",
      "67000     [4.18e-04, 1.19e-03, 3.91e-05, 4.26e-05]    [4.18e-04, 1.19e-03, 3.91e-05, 4.26e-05]    []  \n",
      "68000     [4.25e-04, 1.17e-03, 3.68e-05, 4.19e-05]    [4.25e-04, 1.17e-03, 3.68e-05, 4.19e-05]    []  \n",
      "69000     [4.19e-04, 1.17e-03, 3.57e-05, 4.12e-05]    [4.19e-04, 1.17e-03, 3.57e-05, 4.12e-05]    []  \n",
      "70000     [4.05e-04, 1.20e-03, 3.84e-05, 3.86e-05]    [4.05e-04, 1.20e-03, 3.84e-05, 3.86e-05]    []  \n",
      "71000     [4.02e-04, 1.16e-03, 3.05e-05, 3.87e-05]    [4.02e-04, 1.16e-03, 3.05e-05, 3.87e-05]    []  \n",
      "72000     [3.88e-04, 1.16e-03, 3.09e-05, 3.80e-05]    [3.88e-04, 1.16e-03, 3.09e-05, 3.80e-05]    []  \n",
      "73000     [4.45e-04, 1.23e-03, 2.45e-05, 3.80e-05]    [4.45e-04, 1.23e-03, 2.45e-05, 3.80e-05]    []  \n",
      "74000     [1.08e-02, 8.65e-04, 6.25e-04, 5.12e-05]    [1.08e-02, 8.65e-04, 6.25e-04, 5.12e-05]    []  \n",
      "75000     [3.47e-04, 1.16e-03, 2.41e-05, 3.26e-05]    [3.47e-04, 1.16e-03, 2.41e-05, 3.26e-05]    []  \n",
      "76000     [3.57e-04, 1.18e-03, 2.87e-05, 3.14e-05]    [3.57e-04, 1.18e-03, 2.87e-05, 3.14e-05]    []  \n"
     ]
    }
   ],
   "source": [
    "fnamevar = \"variables_testclk1.dat\"\n",
    "variable = dde.callbacks.VariableValue([H, D], period=1000, filename=fnamevar)\n",
    "model.train(iterations=100000, callbacks=[variable])"
   ]
  },
  {
   "cell_type": "code",
   "execution_count": 33,
   "id": "3f965584",
   "metadata": {
    "ExecuteTime": {
     "end_time": "2023-09-29T11:23:50.711001200Z",
     "start_time": "2023-09-29T11:23:50.650660900Z"
    }
   },
   "outputs": [],
   "source": [
    "lines = open(fnamevar, \"r\").readlines()\n",
    "# read output data in fnamevar (this line is a long story...)\n",
    "Chat = np.array(\n",
    "    [\n",
    "        np.fromstring(\n",
    "            min(re.findall(re.escape(\"[\") + \"(.*?)\" + re.escape(\"]\"), line), key=len),\n",
    "            sep=\",\",\n",
    "        )\n",
    "        for line in lines\n",
    "    ]\n",
    ")"
   ]
  },
  {
   "cell_type": "code",
   "execution_count": 34,
   "id": "b1a1ba7f-ba6b-4da0-80b2-39083f597388",
   "metadata": {
    "ExecuteTime": {
     "end_time": "2023-09-29T11:23:51.867375500Z",
     "start_time": "2023-09-29T11:23:51.856868500Z"
    }
   },
   "outputs": [
    {
     "data": {
      "text/plain": [
       "(51, 2)"
      ]
     },
     "execution_count": 34,
     "metadata": {},
     "output_type": "execute_result"
    }
   ],
   "source": [
    "Chat.shape"
   ]
  },
  {
   "cell_type": "code",
   "execution_count": 35,
   "id": "7eb6048a",
   "metadata": {
    "ExecuteTime": {
     "end_time": "2023-09-29T11:23:53.180472900Z",
     "start_time": "2023-09-29T11:23:53.049816400Z"
    }
   },
   "outputs": [
    {
     "data": {
      "text/plain": [
       "Text(0.5, 0, 'Epoch')"
      ]
     },
     "execution_count": 35,
     "metadata": {},
     "output_type": "execute_result"
    },
    {
     "data": {
      "image/png": "[encoded data removed]",
      "text/plain": [
       "<Figure size 640x480 with 1 Axes>"
      ]
     },
     "metadata": {},
     "output_type": "display_data"
    }
   ],
   "source": [
    "l, c = Chat.shape\n",
    "plt.plot(range(l), Chat[:, 0], \"r-\")\n",
    "plt.plot(range(l), Chat[:, 1], \"b-\")\n",
    "plt.plot(range(l), np.ones(Chat[:, 0].shape) * 1.5, \"r--\")\n",
    "plt.plot(range(l), np.ones(Chat[:, 1].shape) * 0.15, \"b--\")\n",
    "plt.legend([\"H\",\"D\",\"True H\",\"True D\"], loc=\"right\")\n",
    "plt.xlabel(\"Epoch\")"
   ]
  },
  {
   "cell_type": "code",
   "execution_count": null,
   "id": "95ffdf6d",
   "metadata": {
    "ExecuteTime": {
     "end_time": "2023-09-29T11:26:18.196022900Z",
     "start_time": "2023-09-29T11:26:18.172986100Z"
    },
    "scrolled": true
   },
   "outputs": [],
   "source": [
    "# pd.Series((input_data.Tm - input_data.Te).to_numpy()[1:] / ((input_data.w.to_numpy()[1:] - input_data.w.to_numpy()[:-1]) / (input_data.index[1] - input_data.index[0])) / 2).plot()\n",
    "Chat[-10:, 0:2]"
   ]
  },
  {
   "cell_type": "code",
   "execution_count": null,
   "id": "82f774b8",
   "metadata": {},
   "outputs": [],
   "source": [
    "yhat = model.predict(observe_t)\n",
    "plt.figure()\n",
    "plt.plot(observe_t, y, \"-\", observe_t, yhat, \"--\")\n",
    "plt.xlabel(\"Time\")\n",
    "# plt.legend([\"x\", \"y\", \"z\", \"xh\", \"yh\", \"zh\"])\n",
    "# plt.title(\"Training data\")\n",
    "plt.show()"
   ]
  },
  {
   "cell_type": "code",
   "execution_count": null,
   "id": "b5436456",
   "metadata": {},
   "outputs": [],
   "source": []
  },
  {
   "cell_type": "code",
   "execution_count": null,
   "id": "6a046f2f",
   "metadata": {
    "collapsed": false,
    "jupyter": {
     "outputs_hidden": false
    }
   },
   "outputs": [],
   "source": []
  }
 ],
 "metadata": {
  "kernelspec": {
   "display_name": "Python 3 (ipykernel)",
   "language": "python",
   "name": "python3"
  },
  "language_info": {
   "codemirror_mode": {
    "name": "ipython",
    "version": 3
   },
   "file_extension": ".py",
   "mimetype": "text/x-python",
   "name": "python",
   "nbconvert_exporter": "python",
   "pygments_lexer": "ipython3",
   "version": "3.9.18"
  },
  "toc": {
   "base_numbering": 1,
   "nav_menu": {},
   "number_sections": true,
   "sideBar": true,
   "skip_h1_title": false,
   "title_cell": "Table of Contents",
   "title_sidebar": "Contents",
   "toc_cell": false,
   "toc_position": {},
   "toc_section_display": true,
   "toc_window_display": false
  },
  "varInspector": {
   "cols": {
    "lenName": 16,
    "lenType": 16,
    "lenVar": 40
   },
   "kernels_config": {
    "python": {
     "delete_cmd_postfix": "",
     "delete_cmd_prefix": "del ",
     "library": "var_list.py",
     "varRefreshCmd": "print(var_dic_list())"
    },
    "r": {
     "delete_cmd_postfix": ") ",
     "delete_cmd_prefix": "rm(",
     "library": "var_list.r",
     "varRefreshCmd": "cat(var_dic_list()) "
    }
   },
   "types_to_exclude": [
    "module",
    "function",
    "builtin_function_or_method",
    "instance",
    "_Feature"
   ],
   "window_display": false
  }
 },
 "nbformat": 4,
 "nbformat_minor": 5
}
