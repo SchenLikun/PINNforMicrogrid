{
 "cells": [
  {
   "cell_type": "code",
   "execution_count": 1,
   "id": "3db7db65",
   "metadata": {
    "ExecuteTime": {
     "end_time": "2023-09-28T17:00:27.619868Z",
     "start_time": "2023-09-28T17:00:27.588781Z"
    }
   },
   "outputs": [
    {
     "name": "stderr",
     "output_type": "stream",
     "text": [
      "Using backend: tensorflow.compat.v1\n",
      "\n"
     ]
    },
    {
     "name": "stdout",
     "output_type": "stream",
     "text": [
      "WARNING:tensorflow:From D:\\anaconda3\\lib\\site-packages\\tensorflow\\python\\compat\\v2_compat.py:108: disable_resource_variables (from tensorflow.python.ops.variable_scope) is deprecated and will be removed in a future version.\n",
      "Instructions for updating:\n",
      "non-resource variables are not supported in the long term\n"
     ]
    }
   ],
   "source": [
    "import pandas as pd\n",
    "import deepxde as dde\n",
    "import numpy as np\n",
    "import re\n",
    "import matplotlib.pyplot as plt\n",
    "from deepxde.backend import torch"
   ]
  },
  {
   "cell_type": "code",
   "execution_count": 2,
   "id": "c5d0d028",
   "metadata": {
    "ExecuteTime": {
     "end_time": "2023-09-28T17:00:27.865917700Z",
     "start_time": "2023-09-28T17:00:27.841603100Z"
    }
   },
   "outputs": [],
   "source": [
    "Kt = dde.Variable(1.0)\n",
    "Rs = dde.Variable(1.0)\n",
    "Rsh = dde.Variable(1.0)\n",
    "Iso = dde.Variable(1.0)"
   ]
  },
  {
   "cell_type": "code",
   "execution_count": 3,
   "id": "bdc5e241-3786-4ec8-8ac8-7c30960dbbb2",
   "metadata": {},
   "outputs": [],
   "source": [
    "Var_list = [Kt, Rs, Rsh, Iso]"
   ]
  },
  {
   "cell_type": "code",
   "execution_count": 4,
   "id": "16f1c90d",
   "metadata": {
    "ExecuteTime": {
     "end_time": "2023-09-28T17:00:28.113900900Z",
     "start_time": "2023-09-28T17:00:28.088347300Z"
    },
    "collapsed": false,
    "jupyter": {
     "outputs_hidden": false
    }
   },
   "outputs": [],
   "source": [
    "# '''\n",
    "# 24th July, 2023 created by Likun Chen, Wuhan University\n",
    "# This is for testing the PINN parameter estimation, object: syn-machine\n",
    "# EXT Parameters:\n",
    "#     Vi , initial terminal voltage : 1.0 pu\n",
    "#     Ta , voltage regulator time constant : 0.4 sec\n",
    "#     Kf , rate feedback gain : 0.03\n",
    "# SYN Parameters:\n",
    "#     H , inertia constant : 1.7 MWs/MVA\n",
    "#     D , synchronous mechanical damping : 0.12 pu/pu\n",
    "#     Xa , stator leakage reactance : 0.130 pu\n",
    "#     Xd , d-axis unsaturated reactance : 1.79 pu\n",
    "#     Xd' , d-axis unsaturated transient reactance : 0.169 pu\n",
    "#     Xd'' , d-axis unsaturated Sub-Trans reactance : 0.135 pu\n",
    "#     Xq , q-axis unsaturated reactance : 1.71 pu\n",
    "#     Xq' , q-axis unsaturated transient reactance : 0.228 pu\n",
    "#     Xq'' , q-axis unsaturated Sub-Trans reactance : 0.2 pu\n",
    "# For 2-order equation, the state variables are rev (w) and phase angle (delta), \n",
    "# parameters waiting estimated are H , D , Eq' = Ed' = const\n",
    "#     H * d2_delta/dt2 (This is dw/dt) + D * d_delta/dt + P_ex - P_mach = 0\n",
    "#     P_ex is external power balance and P_mach is the mechanical power\n",
    "#     time， P_ex, delta, P_mach, dw\n",
    "# '''"
   ]
  },
  {
   "cell_type": "code",
   "execution_count": 5,
   "id": "75332442",
   "metadata": {
    "ExecuteTime": {
     "end_time": "2023-09-28T17:00:28.362246200Z",
     "start_time": "2023-09-28T17:00:28.331626200Z"
    },
    "scrolled": true
   },
   "outputs": [
    {
     "data": {
      "text/html": [
       "<div>\n",
       "<style scoped>\n",
       "    .dataframe tbody tr th:only-of-type {\n",
       "        vertical-align: middle;\n",
       "    }\n",
       "\n",
       "    .dataframe tbody tr th {\n",
       "        vertical-align: top;\n",
       "    }\n",
       "\n",
       "    .dataframe thead th {\n",
       "        text-align: right;\n",
       "    }\n",
       "</style>\n",
       "<table border=\"1\" class=\"dataframe\">\n",
       "  <thead>\n",
       "    <tr style=\"text-align: right;\">\n",
       "      <th></th>\n",
       "      <th>Time</th>\n",
       "      <th>Subsystem #1|Node Voltages|S1) VDCpA8</th>\n",
       "      <th>Subsystem #1|PV|Array1A|IPVAxxx</th>\n",
       "      <th>Subsystem #1|PV|Array1A|Io1PV</th>\n",
       "    </tr>\n",
       "  </thead>\n",
       "  <tbody>\n",
       "    <tr>\n",
       "      <th>0</th>\n",
       "      <td>0.00000</td>\n",
       "      <td>2.462654</td>\n",
       "      <td>0.001231</td>\n",
       "      <td>5.109490e-12</td>\n",
       "    </tr>\n",
       "    <tr>\n",
       "      <th>1</th>\n",
       "      <td>0.00005</td>\n",
       "      <td>2.462654</td>\n",
       "      <td>0.001231</td>\n",
       "      <td>5.109490e-12</td>\n",
       "    </tr>\n",
       "    <tr>\n",
       "      <th>2</th>\n",
       "      <td>0.00010</td>\n",
       "      <td>2.462654</td>\n",
       "      <td>0.001231</td>\n",
       "      <td>5.109490e-12</td>\n",
       "    </tr>\n",
       "    <tr>\n",
       "      <th>3</th>\n",
       "      <td>0.00015</td>\n",
       "      <td>2.462654</td>\n",
       "      <td>0.001231</td>\n",
       "      <td>5.109490e-12</td>\n",
       "    </tr>\n",
       "    <tr>\n",
       "      <th>4</th>\n",
       "      <td>0.00020</td>\n",
       "      <td>2.462654</td>\n",
       "      <td>0.001231</td>\n",
       "      <td>5.109490e-12</td>\n",
       "    </tr>\n",
       "    <tr>\n",
       "      <th>...</th>\n",
       "      <td>...</td>\n",
       "      <td>...</td>\n",
       "      <td>...</td>\n",
       "      <td>...</td>\n",
       "    </tr>\n",
       "    <tr>\n",
       "      <th>7995</th>\n",
       "      <td>0.39975</td>\n",
       "      <td>2.027442</td>\n",
       "      <td>0.157634</td>\n",
       "      <td>5.109490e-12</td>\n",
       "    </tr>\n",
       "    <tr>\n",
       "      <th>7996</th>\n",
       "      <td>0.39980</td>\n",
       "      <td>2.027442</td>\n",
       "      <td>0.157634</td>\n",
       "      <td>5.109490e-12</td>\n",
       "    </tr>\n",
       "    <tr>\n",
       "      <th>7997</th>\n",
       "      <td>0.39985</td>\n",
       "      <td>2.027440</td>\n",
       "      <td>0.157634</td>\n",
       "      <td>5.109490e-12</td>\n",
       "    </tr>\n",
       "    <tr>\n",
       "      <th>7998</th>\n",
       "      <td>0.39990</td>\n",
       "      <td>2.027438</td>\n",
       "      <td>0.157634</td>\n",
       "      <td>5.109490e-12</td>\n",
       "    </tr>\n",
       "    <tr>\n",
       "      <th>7999</th>\n",
       "      <td>0.39995</td>\n",
       "      <td>2.027434</td>\n",
       "      <td>0.157634</td>\n",
       "      <td>5.109490e-12</td>\n",
       "    </tr>\n",
       "  </tbody>\n",
       "</table>\n",
       "<p>8000 rows × 4 columns</p>\n",
       "</div>"
      ],
      "text/plain": [
       "         Time  Subsystem #1|Node Voltages|S1) VDCpA8  \\\n",
       "0     0.00000                               2.462654   \n",
       "1     0.00005                               2.462654   \n",
       "2     0.00010                               2.462654   \n",
       "3     0.00015                               2.462654   \n",
       "4     0.00020                               2.462654   \n",
       "...       ...                                    ...   \n",
       "7995  0.39975                               2.027442   \n",
       "7996  0.39980                               2.027442   \n",
       "7997  0.39985                               2.027440   \n",
       "7998  0.39990                               2.027438   \n",
       "7999  0.39995                               2.027434   \n",
       "\n",
       "      Subsystem #1|PV|Array1A|IPVAxxx  Subsystem #1|PV|Array1A|Io1PV  \n",
       "0                            0.001231                   5.109490e-12  \n",
       "1                            0.001231                   5.109490e-12  \n",
       "2                            0.001231                   5.109490e-12  \n",
       "3                            0.001231                   5.109490e-12  \n",
       "4                            0.001231                   5.109490e-12  \n",
       "...                               ...                            ...  \n",
       "7995                         0.157634                   5.109490e-12  \n",
       "7996                         0.157634                   5.109490e-12  \n",
       "7997                         0.157634                   5.109490e-12  \n",
       "7998                         0.157634                   5.109490e-12  \n",
       "7999                         0.157634                   5.109490e-12  \n",
       "\n",
       "[8000 rows x 4 columns]"
      ]
     },
     "execution_count": 5,
     "metadata": {},
     "output_type": "execute_result"
    }
   ],
   "source": [
    "input_data = pd.read_csv('data/1011PVtest.csv')\n",
    "input_data"
   ]
  },
  {
   "cell_type": "code",
   "execution_count": 6,
   "id": "ed10edc0-5631-4403-8766-1332cb257695",
   "metadata": {},
   "outputs": [],
   "source": [
    "step_time = input_data.Time[1] - input_data.Time[0]\n",
    "st = 0.4 # start time (10% proportion)\n",
    "et = 0.6 # end time\n",
    "input_data.Time -= step_time * int(input_data.shape[0] * st)\n",
    "input_data = input_data[int(input_data.shape[0]*st): int(input_data.shape[0]*et)]"
   ]
  },
  {
   "cell_type": "code",
   "execution_count": 7,
   "id": "58d4c381-5053-41fc-90b9-a688eba7fad9",
   "metadata": {},
   "outputs": [
    {
     "name": "stderr",
     "output_type": "stream",
     "text": [
      "C:\\Users\\Yifan\\AppData\\Local\\Temp\\ipykernel_27552\\2245216622.py:2: SettingWithCopyWarning: \n",
      "A value is trying to be set on a copy of a slice from a DataFrame\n",
      "\n",
      "See the caveats in the documentation: https://pandas.pydata.org/pandas-docs/stable/user_guide/indexing.html#returning-a-view-versus-a-copy\n",
      "  input_data.drop(columns='Is', inplace=True)\n"
     ]
    },
    {
     "data": {
      "text/html": [
       "<div>\n",
       "<style scoped>\n",
       "    .dataframe tbody tr th:only-of-type {\n",
       "        vertical-align: middle;\n",
       "    }\n",
       "\n",
       "    .dataframe tbody tr th {\n",
       "        vertical-align: top;\n",
       "    }\n",
       "\n",
       "    .dataframe thead th {\n",
       "        text-align: right;\n",
       "    }\n",
       "</style>\n",
       "<table border=\"1\" class=\"dataframe\">\n",
       "  <thead>\n",
       "    <tr style=\"text-align: right;\">\n",
       "      <th></th>\n",
       "      <th>V</th>\n",
       "      <th>I</th>\n",
       "    </tr>\n",
       "    <tr>\n",
       "      <th>Time</th>\n",
       "      <th></th>\n",
       "      <th></th>\n",
       "    </tr>\n",
       "  </thead>\n",
       "  <tbody>\n",
       "    <tr>\n",
       "      <th>0.00000</th>\n",
       "      <td>2.098587</td>\n",
       "      <td>0.150960</td>\n",
       "    </tr>\n",
       "    <tr>\n",
       "      <th>0.00005</th>\n",
       "      <td>2.097901</td>\n",
       "      <td>0.151039</td>\n",
       "    </tr>\n",
       "    <tr>\n",
       "      <th>0.00010</th>\n",
       "      <td>2.097216</td>\n",
       "      <td>0.151118</td>\n",
       "    </tr>\n",
       "    <tr>\n",
       "      <th>0.00015</th>\n",
       "      <td>2.096532</td>\n",
       "      <td>0.151197</td>\n",
       "    </tr>\n",
       "    <tr>\n",
       "      <th>0.00020</th>\n",
       "      <td>2.095848</td>\n",
       "      <td>0.151275</td>\n",
       "    </tr>\n",
       "    <tr>\n",
       "      <th>...</th>\n",
       "      <td>...</td>\n",
       "      <td>...</td>\n",
       "    </tr>\n",
       "    <tr>\n",
       "      <th>0.07975</th>\n",
       "      <td>2.062685</td>\n",
       "      <td>0.154737</td>\n",
       "    </tr>\n",
       "    <tr>\n",
       "      <th>0.07980</th>\n",
       "      <td>2.062658</td>\n",
       "      <td>0.154739</td>\n",
       "    </tr>\n",
       "    <tr>\n",
       "      <th>0.07985</th>\n",
       "      <td>2.062629</td>\n",
       "      <td>0.154742</td>\n",
       "    </tr>\n",
       "    <tr>\n",
       "      <th>0.07990</th>\n",
       "      <td>2.062599</td>\n",
       "      <td>0.154745</td>\n",
       "    </tr>\n",
       "    <tr>\n",
       "      <th>0.07995</th>\n",
       "      <td>2.062568</td>\n",
       "      <td>0.154747</td>\n",
       "    </tr>\n",
       "  </tbody>\n",
       "</table>\n",
       "<p>1600 rows × 2 columns</p>\n",
       "</div>"
      ],
      "text/plain": [
       "                V         I\n",
       "Time                       \n",
       "0.00000  2.098587  0.150960\n",
       "0.00005  2.097901  0.151039\n",
       "0.00010  2.097216  0.151118\n",
       "0.00015  2.096532  0.151197\n",
       "0.00020  2.095848  0.151275\n",
       "...           ...       ...\n",
       "0.07975  2.062685  0.154737\n",
       "0.07980  2.062658  0.154739\n",
       "0.07985  2.062629  0.154742\n",
       "0.07990  2.062599  0.154745\n",
       "0.07995  2.062568  0.154747\n",
       "\n",
       "[1600 rows x 2 columns]"
      ]
     },
     "execution_count": 7,
     "metadata": {},
     "output_type": "execute_result"
    }
   ],
   "source": [
    "input_data.columns = ['Time', 'V', 'I', 'Is']\n",
    "input_data.drop(columns='Is', inplace=True)\n",
    "input_data.set_index('Time', inplace=True)\n",
    "input_data"
   ]
  },
  {
   "cell_type": "code",
   "execution_count": 8,
   "id": "4138a02a-5779-4393-afc6-3d1116168948",
   "metadata": {},
   "outputs": [
    {
     "data": {
      "text/plain": [
       "[0.480310405769598, 6.546099961178032]"
      ]
     },
     "execution_count": 8,
     "metadata": {},
     "output_type": "execute_result"
    }
   ],
   "source": [
    "weight_list = (1 / input_data.describe().loc['mean']).tolist()\n",
    "weight_list"
   ]
  },
  {
   "cell_type": "code",
   "execution_count": 9,
   "id": "404bafdc-6240-4ddd-8ab9-56a81cf4d806",
   "metadata": {},
   "outputs": [
    {
     "data": {
      "text/plain": [
       "<Axes: xlabel='Time'>"
      ]
     },
     "execution_count": 9,
     "metadata": {},
     "output_type": "execute_result"
    },
    {
     "data": {
      "image/png": "[encoded data removed]",
      "text/plain": [
       "<Figure size 640x480 with 1 Axes>"
      ]
     },
     "metadata": {},
     "output_type": "display_data"
    }
   ],
   "source": [
    "input_data.plot()"
   ]
  },
  {
   "cell_type": "code",
   "execution_count": 10,
   "id": "d25b23cb",
   "metadata": {
    "ExecuteTime": {
     "end_time": "2023-09-28T17:00:32.257632800Z",
     "start_time": "2023-09-28T17:00:32.242385900Z"
    }
   },
   "outputs": [
    {
     "data": {
      "text/plain": [
       "array([0.000e+00, 5.000e-05, 1.000e-04, ..., 7.985e-02, 7.990e-02,\n",
       "       7.995e-02])"
      ]
     },
     "execution_count": 10,
     "metadata": {},
     "output_type": "execute_result"
    }
   ],
   "source": [
    "x = input_data.index.to_numpy()\n",
    "x"
   ]
  },
  {
   "cell_type": "code",
   "execution_count": 11,
   "id": "87c9872e",
   "metadata": {
    "ExecuteTime": {
     "end_time": "2023-09-28T17:00:33.801975700Z",
     "start_time": "2023-09-28T17:00:33.787546300Z"
    }
   },
   "outputs": [],
   "source": [
    "geom = dde.geometry.TimeDomain(0, x[-1])"
   ]
  },
  {
   "cell_type": "code",
   "execution_count": 12,
   "id": "f6cf8e8d",
   "metadata": {
    "ExecuteTime": {
     "end_time": "2023-09-28T17:00:34.156252800Z",
     "start_time": "2023-09-28T17:00:34.143684900Z"
    }
   },
   "outputs": [],
   "source": [
    "# def boundary(_, on_initial):\n",
    "#     return on_initial"
   ]
  },
  {
   "cell_type": "code",
   "execution_count": 13,
   "id": "fc05fefc",
   "metadata": {
    "ExecuteTime": {
     "end_time": "2023-09-28T17:00:34.594954200Z",
     "start_time": "2023-09-28T17:00:34.568365Z"
    }
   },
   "outputs": [],
   "source": [
    "# x0 = input_data.iloc[0].tolist()"
   ]
  },
  {
   "cell_type": "code",
   "execution_count": 14,
   "id": "f2f426af",
   "metadata": {
    "ExecuteTime": {
     "end_time": "2023-09-28T17:00:35.032060400Z",
     "start_time": "2023-09-28T17:00:35.008637400Z"
    }
   },
   "outputs": [],
   "source": [
    "# # Initial conditions\n",
    "# ic1 = dde.icbc.IC(geom, lambda X: x0[0], boundary, component=0)\n",
    "# ic2 = dde.icbc.IC(geom, lambda X: x0[1], boundary, component=1)\n",
    "# ic3 = dde.icbc.IC(geom, lambda X: x0[2], boundary, component=2)"
   ]
  },
  {
   "cell_type": "code",
   "execution_count": 15,
   "id": "ff31b2ce",
   "metadata": {
    "ExecuteTime": {
     "end_time": "2023-09-28T17:00:36.167336400Z",
     "start_time": "2023-09-28T17:00:36.137357Z"
    }
   },
   "outputs": [
    {
     "data": {
      "text/plain": [
       "(1600, 2)"
      ]
     },
     "execution_count": 15,
     "metadata": {},
     "output_type": "execute_result"
    }
   ],
   "source": [
    "y = input_data.to_numpy()\n",
    "y.shape"
   ]
  },
  {
   "cell_type": "code",
   "execution_count": 16,
   "id": "3d0d718a",
   "metadata": {
    "ExecuteTime": {
     "end_time": "2023-09-28T17:00:36.595117100Z",
     "start_time": "2023-09-28T17:00:36.594115300Z"
    }
   },
   "outputs": [],
   "source": [
    "observe_t = x.reshape(-1, 1)"
   ]
  },
  {
   "cell_type": "code",
   "execution_count": 17,
   "id": "788868f6",
   "metadata": {
    "ExecuteTime": {
     "end_time": "2023-09-28T17:00:37.694752500Z",
     "start_time": "2023-09-28T17:00:37.682364Z"
    }
   },
   "outputs": [],
   "source": [
    "# Get the training data\n",
    "observe_y0 = dde.icbc.PointSetBC(observe_t, y[:, 0:1], component=0)\n",
    "observe_y1 = dde.icbc.PointSetBC(observe_t, y[:, 1:2], component=1)\n",
    "# observe_y2 = dde.icbc.PointSetBC(observe_t, y[:, 2:3], component=2)"
   ]
  },
  {
   "cell_type": "code",
   "execution_count": 18,
   "id": "580af80b",
   "metadata": {
    "ExecuteTime": {
     "end_time": "2023-09-28T17:00:38.959669800Z",
     "start_time": "2023-09-28T17:00:38.949659700Z"
    }
   },
   "outputs": [],
   "source": [
    "# Kt = dde.Variable(0.0)\n",
    "# Rs = dde.Variable(0.0)\n",
    "# Rsh = dde.Variable(0.0)\n",
    "def Microgrid_system(x, y):\n",
    "    \"\"\"Modified Lorenz system (with exogenous input).\n",
    "    H * d2_delta/dt2 (This is dw/dt) + D * d_delta/dt + P_ex - P_mach = 0\n",
    "    \"\"\"\n",
    "    V, I = y[:, 0:1], y[:, 1:2]\n",
    "    \n",
    "    \n",
    "    dV_dt = dde.grad.jacobian(y, x, i=0)\n",
    "    dI_dt = dde.grad.jacobian(y, x, i=1)\n",
    "\n",
    "    left = 1 + Iso*Rs/Kt*torch.exp((V+I*Rs)/Kt)  + Rs/Rsh\n",
    "    right = - dV_dt / dI_dt * (Iso/Kt*torch.exp((Rs*I+V)/Kt) + 1/Rsh)\n",
    "    \n",
    "    return [\n",
    "        left - right\n",
    "    ]\n"
   ]
  },
  {
   "cell_type": "code",
   "execution_count": 19,
   "id": "6a9379d0",
   "metadata": {
    "ExecuteTime": {
     "end_time": "2023-09-28T17:00:50.900630600Z",
     "start_time": "2023-09-28T17:00:50.892797400Z"
    }
   },
   "outputs": [],
   "source": [
    "data = dde.data.PDE(\n",
    "    geom,\n",
    "    Microgrid_system,\n",
    "    [observe_y0, observe_y1],\n",
    "    anchors=observe_t,\n",
    ")"
   ]
  },
  {
   "cell_type": "code",
   "execution_count": 20,
   "id": "17e9eee7-4db3-43e1-8664-e39cab056b9c",
   "metadata": {},
   "outputs": [],
   "source": [
    "net = dde.nn.FNN([1] + [128] * 3 + [2], \"swish\", \"Glorot normal\")"
   ]
  },
  {
   "cell_type": "code",
   "execution_count": 21,
   "id": "80db6378-b15e-4172-a4ae-3201da28a72f",
   "metadata": {},
   "outputs": [],
   "source": [
    "data_y = y\n",
    "data_t = x"
   ]
  },
  {
   "cell_type": "code",
   "execution_count": 22,
   "id": "0169f328-9bc1-4540-b55e-18a0b6e775ed",
   "metadata": {},
   "outputs": [
    {
     "data": {
      "text/plain": [
       "(1600, 2)"
      ]
     },
     "execution_count": 22,
     "metadata": {},
     "output_type": "execute_result"
    }
   ],
   "source": [
    "y.shape"
   ]
  },
  {
   "cell_type": "code",
   "execution_count": 23,
   "id": "50ee58bd-fd9b-480a-8050-f4023323888e",
   "metadata": {},
   "outputs": [],
   "source": [
    "def feature_transform(t):\n",
    "    t = 0.01 * t\n",
    "    return torch.concat(\n",
    "        (torch.sin(t), torch.sin(2 * t)),\n",
    "        axis=1,\n",
    "    )\n",
    "\n",
    "net.apply_feature_transform(feature_transform)\n",
    "\n",
    "def output_transform(t, y):\n",
    "    idx = data_y.shape[0]-1\n",
    "    k = (data_y[idx] - data_y[0]) / (data_t[idx] - data_t[0])\n",
    "    b = (data_t[idx] * data_y[0] - data_t[0] * data_y[idx]) / (\n",
    "        data_t[idx] - data_t[0]\n",
    "    )\n",
    "    linear = torch.as_tensor(k) * t + torch.as_tensor(b)\n",
    "    factor = torch.tanh(t) * torch.tanh(idx - t)\n",
    "    return linear + factor * torch.Tensor([1., 1.]) * y\n",
    "\n",
    "net.apply_output_transform(output_transform)"
   ]
  },
  {
   "cell_type": "code",
   "execution_count": 24,
   "id": "4feeb06b",
   "metadata": {
    "ExecuteTime": {
     "end_time": "2023-09-28T17:00:52.807230200Z",
     "start_time": "2023-09-28T17:00:52.535399Z"
    },
    "scrolled": true
   },
   "outputs": [
    {
     "name": "stdout",
     "output_type": "stream",
     "text": [
      "Compiling model...\n",
      "Warning: For the backend tensorflow.compat.v1, `external_trainable_variables` is ignored, and all trainable ``tf.Variable`` objects are automatically collected.\n",
      "Building feed-forward neural network...\n",
      "'build' took 0.065771 s\n",
      "\n"
     ]
    },
    {
     "name": "stderr",
     "output_type": "stream",
     "text": [
      "D:\\anaconda3\\lib\\site-packages\\deepxde\\nn\\tensorflow_compat_v1\\fnn.py:103: UserWarning: `tf.layers.dense` is deprecated and will be removed in a future version. Please use `tf.keras.layers.Dense` instead.\n",
      "  return tf.layers.dense(\n"
     ]
    },
    {
     "name": "stdout",
     "output_type": "stream",
     "text": [
      "'compile' took 1.042545 s\n",
      "\n"
     ]
    }
   ],
   "source": [
    "\n",
    "model = dde.Model(data, net)\n",
    "model.compile(\"adam\", lr=0.001, loss_weights=weight_list + [1e-2], external_trainable_variables=Var_list)\n",
    "\n"
   ]
  },
  {
   "cell_type": "code",
   "execution_count": null,
   "id": "e72f1ac8",
   "metadata": {
    "ExecuteTime": {
     "end_time": "2023-09-29T11:23:46.425281900Z",
     "start_time": "2023-09-28T17:01:03.432427900Z"
    },
    "scrolled": true
   },
   "outputs": [],
   "source": [
    "fnamevar = \"variables_testclk1.dat\"\n",
    "variable = dde.callbacks.VariableValue(Var_list, period=1000, filename=fnamevar)\n",
    "model.train(iterations=100000, callbacks=[variable])"
   ]
  },
  {
   "cell_type": "code",
   "execution_count": null,
   "id": "3f965584",
   "metadata": {
    "ExecuteTime": {
     "end_time": "2023-09-29T11:23:50.711001200Z",
     "start_time": "2023-09-29T11:23:50.650660900Z"
    }
   },
   "outputs": [],
   "source": [
    "lines = open(fnamevar, \"r\").readlines()\n",
    "# read output data in fnamevar (this line is a long story...)\n",
    "Chat = np.array(\n",
    "    [\n",
    "        np.fromstring(\n",
    "            min(re.findall(re.escape(\"[\") + \"(.*?)\" + re.escape(\"]\"), line), key=len),\n",
    "            sep=\",\",\n",
    "        )\n",
    "        for line in lines\n",
    "    ]\n",
    ")"
   ]
  },
  {
   "cell_type": "code",
   "execution_count": null,
   "id": "aebe41ed-20c4-4088-b235-e5243cc47cdc",
   "metadata": {},
   "outputs": [],
   "source": [
    "Chat[-10:, :]"
   ]
  },
  {
   "cell_type": "code",
   "execution_count": null,
   "id": "7eb6048a",
   "metadata": {
    "ExecuteTime": {
     "end_time": "2023-09-29T11:23:53.180472900Z",
     "start_time": "2023-09-29T11:23:53.049816400Z"
    }
   },
   "outputs": [],
   "source": [
    "l, c = Chat.shape\n",
    "plt.plot(range(l), Chat[:, 0], \"r-\")\n",
    "plt.plot(range(l), Chat[:, 1], \"b-\")\n",
    "plt.plot(range(l), Chat[:, 2], \"y-\")\n",
    "plt.plot(range(l), Chat[:, 3], \"g-\")\n",
    "# plt.plot(range(l), np.ones(Chat[:, 0].shape) * 1.5, \"r--\")\n",
    "# plt.plot(range(l), np.ones(Chat[:, 1].shape) * 0.15, \"b--\")\n",
    "plt.legend([\"H\",\"D\",\"True H\",\"True D\"], loc=\"right\")\n",
    "plt.xlabel(\"Epoch\")"
   ]
  },
  {
   "cell_type": "code",
   "execution_count": null,
   "id": "95ffdf6d",
   "metadata": {
    "ExecuteTime": {
     "end_time": "2023-09-29T11:26:18.196022900Z",
     "start_time": "2023-09-29T11:26:18.172986100Z"
    },
    "scrolled": true
   },
   "outputs": [],
   "source": [
    "Chat[-10:, 0:2]"
   ]
  },
  {
   "cell_type": "code",
   "execution_count": null,
   "id": "82f774b8",
   "metadata": {},
   "outputs": [],
   "source": [
    "yhat = model.predict(observe_t)\n",
    "plt.figure()\n",
    "plt.plot(observe_t, y, \"-\", observe_t, yhat, \"--\")\n",
    "plt.xlabel(\"Time\")\n",
    "# plt.legend([\"x\", \"y\", \"z\", \"xh\", \"yh\", \"zh\"])\n",
    "# plt.title(\"Training data\")\n",
    "plt.show()"
   ]
  },
  {
   "cell_type": "code",
   "execution_count": null,
   "id": "b5436456",
   "metadata": {},
   "outputs": [],
   "source": []
  },
  {
   "cell_type": "code",
   "execution_count": null,
   "id": "5ecdb62e",
   "metadata": {
    "collapsed": false,
    "jupyter": {
     "outputs_hidden": false
    }
   },
   "outputs": [],
   "source": [
    "input_data = pd.read_csv('data/1011PVtest.csv')\n",
    "input_data.columns = ['Time', 'V', 'I', 'Iso']\n",
    "input_data"
   ]
  },
  {
   "cell_type": "code",
   "execution_count": null,
   "id": "000be1d6-353a-4cc4-a32f-110a8277718b",
   "metadata": {},
   "outputs": [],
   "source": [
    "Kt = dde.Variable(0.0)\n",
    "Rs = dde.Variable(0.0)\n",
    "Rsh = dde.Variable(0.0)"
   ]
  },
  {
   "cell_type": "code",
   "execution_count": null,
   "id": "bf49bea8-a715-4c10-9318-02b3d804469f",
   "metadata": {},
   "outputs": [],
   "source": [
    "Iso = input_data.Iso.to_numpy()[0]\n",
    "Iso"
   ]
  },
  {
   "cell_type": "code",
   "execution_count": null,
   "id": "c68fff9f-69fd-4215-85d2-52bae9393428",
   "metadata": {},
   "outputs": [],
   "source": [
    "1 +  Iso * "
   ]
  },
  {
   "cell_type": "code",
   "execution_count": null,
   "id": "897d78ce-aadb-4322-a9ee-aab0e5a025c3",
   "metadata": {},
   "outputs": [],
   "source": []
  }
 ],
 "metadata": {
  "kernelspec": {
   "display_name": "Python 3 (ipykernel)",
   "language": "python",
   "name": "python3"
  },
  "language_info": {
   "codemirror_mode": {
    "name": "ipython",
    "version": 3
   },
   "file_extension": ".py",
   "mimetype": "text/x-python",
   "name": "python",
   "nbconvert_exporter": "python",
   "pygments_lexer": "ipython3",
   "version": "3.9.18"
  },
  "toc": {
   "base_numbering": 1,
   "nav_menu": {},
   "number_sections": true,
   "sideBar": true,
   "skip_h1_title": false,
   "title_cell": "Table of Contents",
   "title_sidebar": "Contents",
   "toc_cell": false,
   "toc_position": {},
   "toc_section_display": true,
   "toc_window_display": false
  },
  "varInspector": {
   "cols": {
    "lenName": 16,
    "lenType": 16,
    "lenVar": 40
   },
   "kernels_config": {
    "python": {
     "delete_cmd_postfix": "",
     "delete_cmd_prefix": "del ",
     "library": "var_list.py",
     "varRefreshCmd": "print(var_dic_list())"
    },
    "r": {
     "delete_cmd_postfix": ") ",
     "delete_cmd_prefix": "rm(",
     "library": "var_list.r",
     "varRefreshCmd": "cat(var_dic_list()) "
    }
   },
   "types_to_exclude": [
    "module",
    "function",
    "builtin_function_or_method",
    "instance",
    "_Feature"
   ],
   "window_display": false
  }
 },
 "nbformat": 4,
 "nbformat_minor": 5
}
