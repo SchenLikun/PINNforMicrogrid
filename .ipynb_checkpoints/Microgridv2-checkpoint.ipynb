{
 "cells": [
  {
   "cell_type": "code",
   "execution_count": 62,
   "id": "3db7db65",
   "metadata": {
    "ExecuteTime": {
     "end_time": "2023-09-21T15:07:04.019686400Z",
     "start_time": "2023-09-21T15:07:04.007238400Z"
    }
   },
   "outputs": [],
   "source": [
    "import pandas as pd\n",
    "import deepxde as dde\n",
    "import numpy as np\n",
    "import re\n",
    "import matplotlib.pyplot as plt"
   ]
  },
  {
   "cell_type": "code",
   "execution_count": 63,
   "id": "c5d0d028",
   "metadata": {
    "ExecuteTime": {
     "end_time": "2023-09-21T15:07:04.025686800Z",
     "start_time": "2023-09-21T15:07:04.008245800Z"
    }
   },
   "outputs": [],
   "source": [
    "H = dde.Variable(1.6)"
   ]
  },
  {
   "cell_type": "code",
   "execution_count": 64,
   "id": "fd6ca15a",
   "metadata": {
    "ExecuteTime": {
     "end_time": "2023-09-21T15:07:04.026633300Z",
     "start_time": "2023-09-21T15:07:04.012175800Z"
    }
   },
   "outputs": [],
   "source": [
    "# '''\n",
    "# 24th July, 2023 created by Likun Chen, Wuhan University\n",
    "# This is for testing the PINN parameter estimation, object: syn-machine\n",
    "# EXT Parameters:\n",
    "#     Vi , initial terminal voltage : 1.0 pu\n",
    "#     Ta , voltage regulator time constant : 0.4 sec\n",
    "#     Kf , rate feedback gain : 0.03\n",
    "# SYN Parameters:\n",
    "#     H , inertia constant : 1.7 MWs/MVA\n",
    "#     D , synchronous mechanical damping : 0.12 pu/pu\n",
    "#     Xa , stator leakage reactance : 0.130 pu\n",
    "#     Xd , d-axis unsaturated reactance : 1.79 pu\n",
    "#     Xd' , d-axis unsaturated transient reactance : 0.169 pu\n",
    "#     Xd'' , d-axis unsaturated Sub-Trans reactance : 0.135 pu\n",
    "#     Xq , q-axis unsaturated reactance : 1.71 pu\n",
    "#     Xq' , q-axis unsaturated transient reactance : 0.228 pu\n",
    "#     Xq'' , q-axis unsaturated Sub-Trans reactance : 0.2 pu\n",
    "# For 2-order equation, the state variables are rev (w) and phase angle (delta), \n",
    "# parameters waiting estimated are H , D , Eq' = Ed' = const\n",
    "#     H * d2_delta/dt2 (This is dw/dt) + D * d_delta/dt + P_ex - P_mach = 0\n",
    "#     P_ex is external power balance and P_mach is the mechanical power\n",
    "#     time， P_ex, delta, P_mach, dw\n",
    "# '''"
   ]
  },
  {
   "cell_type": "code",
   "execution_count": 65,
   "id": "75332442",
   "metadata": {
    "ExecuteTime": {
     "end_time": "2023-09-21T15:07:04.062915800Z",
     "start_time": "2023-09-21T15:07:04.014696300Z"
    },
    "scrolled": true
   },
   "outputs": [],
   "source": [
    "input_data = pd.read_csv('data/920test1_te.csv', index_col=0)"
   ]
  },
  {
   "cell_type": "code",
   "execution_count": 66,
   "id": "718aa794",
   "metadata": {
    "ExecuteTime": {
     "end_time": "2023-09-21T15:07:04.062915800Z",
     "start_time": "2023-09-21T15:07:04.029827500Z"
    }
   },
   "outputs": [],
   "source": [
    "input_data = input_data[1300:4000]"
   ]
  },
  {
   "cell_type": "code",
   "execution_count": 67,
   "id": "20844f2c",
   "metadata": {
    "ExecuteTime": {
     "end_time": "2023-09-21T15:07:04.063928400Z",
     "start_time": "2023-09-21T15:07:04.032336400Z"
    }
   },
   "outputs": [],
   "source": [
    "input_data.Time -= 0.00005 * 1300"
   ]
  },
  {
   "cell_type": "code",
   "execution_count": 68,
   "id": "1a815246",
   "metadata": {
    "ExecuteTime": {
     "end_time": "2023-09-21T15:07:04.063928400Z",
     "start_time": "2023-09-21T15:07:04.036730300Z"
    }
   },
   "outputs": [
    {
     "data": {
      "text/html": [
       "<div>\n",
       "<style scoped>\n",
       "    .dataframe tbody tr th:only-of-type {\n",
       "        vertical-align: middle;\n",
       "    }\n",
       "\n",
       "    .dataframe tbody tr th {\n",
       "        vertical-align: top;\n",
       "    }\n",
       "\n",
       "    .dataframe thead th {\n",
       "        text-align: right;\n",
       "    }\n",
       "</style>\n",
       "<table border=\"1\" class=\"dataframe\">\n",
       "  <thead>\n",
       "    <tr style=\"text-align: right;\">\n",
       "      <th></th>\n",
       "      <th>Pe</th>\n",
       "      <th>Tm</th>\n",
       "      <th>delta</th>\n",
       "      <th>Pt</th>\n",
       "      <th>w</th>\n",
       "      <th>Te</th>\n",
       "    </tr>\n",
       "    <tr>\n",
       "      <th>Time</th>\n",
       "      <th></th>\n",
       "      <th></th>\n",
       "      <th></th>\n",
       "      <th></th>\n",
       "      <th></th>\n",
       "      <th></th>\n",
       "    </tr>\n",
       "  </thead>\n",
       "  <tbody>\n",
       "    <tr>\n",
       "      <th>0.00000</th>\n",
       "      <td>0.095500</td>\n",
       "      <td>0.000000</td>\n",
       "      <td>0.224092</td>\n",
       "      <td>0.330929</td>\n",
       "      <td>0.993108</td>\n",
       "      <td>1.021939</td>\n",
       "    </tr>\n",
       "    <tr>\n",
       "      <th>0.00005</th>\n",
       "      <td>0.095703</td>\n",
       "      <td>0.000000</td>\n",
       "      <td>0.224166</td>\n",
       "      <td>0.331355</td>\n",
       "      <td>0.993091</td>\n",
       "      <td>1.021959</td>\n",
       "    </tr>\n",
       "    <tr>\n",
       "      <th>0.00010</th>\n",
       "      <td>0.095906</td>\n",
       "      <td>0.000000</td>\n",
       "      <td>0.224255</td>\n",
       "      <td>0.331780</td>\n",
       "      <td>0.993074</td>\n",
       "      <td>1.021968</td>\n",
       "    </tr>\n",
       "    <tr>\n",
       "      <th>0.00015</th>\n",
       "      <td>0.096109</td>\n",
       "      <td>0.000000</td>\n",
       "      <td>0.224326</td>\n",
       "      <td>0.332203</td>\n",
       "      <td>0.993057</td>\n",
       "      <td>1.021987</td>\n",
       "    </tr>\n",
       "    <tr>\n",
       "      <th>0.00020</th>\n",
       "      <td>0.096311</td>\n",
       "      <td>0.000000</td>\n",
       "      <td>0.224418</td>\n",
       "      <td>0.332626</td>\n",
       "      <td>0.993040</td>\n",
       "      <td>1.022006</td>\n",
       "    </tr>\n",
       "    <tr>\n",
       "      <th>...</th>\n",
       "      <td>...</td>\n",
       "      <td>...</td>\n",
       "      <td>...</td>\n",
       "      <td>...</td>\n",
       "      <td>...</td>\n",
       "      <td>...</td>\n",
       "    </tr>\n",
       "    <tr>\n",
       "      <th>0.13475</th>\n",
       "      <td>0.396146</td>\n",
       "      <td>0.546094</td>\n",
       "      <td>0.407556</td>\n",
       "      <td>0.501721</td>\n",
       "      <td>0.951582</td>\n",
       "      <td>1.066728</td>\n",
       "    </tr>\n",
       "    <tr>\n",
       "      <th>0.13480</th>\n",
       "      <td>0.396198</td>\n",
       "      <td>0.546634</td>\n",
       "      <td>0.407612</td>\n",
       "      <td>0.501722</td>\n",
       "      <td>0.951573</td>\n",
       "      <td>1.066742</td>\n",
       "    </tr>\n",
       "    <tr>\n",
       "      <th>0.13485</th>\n",
       "      <td>0.396251</td>\n",
       "      <td>0.547174</td>\n",
       "      <td>0.407668</td>\n",
       "      <td>0.501723</td>\n",
       "      <td>0.951565</td>\n",
       "      <td>1.066748</td>\n",
       "    </tr>\n",
       "    <tr>\n",
       "      <th>0.13490</th>\n",
       "      <td>0.396304</td>\n",
       "      <td>0.547715</td>\n",
       "      <td>0.407724</td>\n",
       "      <td>0.501724</td>\n",
       "      <td>0.951556</td>\n",
       "      <td>1.066762</td>\n",
       "    </tr>\n",
       "    <tr>\n",
       "      <th>0.13495</th>\n",
       "      <td>0.396357</td>\n",
       "      <td>0.548255</td>\n",
       "      <td>0.407780</td>\n",
       "      <td>0.501725</td>\n",
       "      <td>0.951547</td>\n",
       "      <td>1.066768</td>\n",
       "    </tr>\n",
       "  </tbody>\n",
       "</table>\n",
       "<p>2700 rows × 6 columns</p>\n",
       "</div>"
      ],
      "text/plain": [
       "               Pe        Tm     delta        Pt         w        Te\n",
       "Time                                                               \n",
       "0.00000  0.095500  0.000000  0.224092  0.330929  0.993108  1.021939\n",
       "0.00005  0.095703  0.000000  0.224166  0.331355  0.993091  1.021959\n",
       "0.00010  0.095906  0.000000  0.224255  0.331780  0.993074  1.021968\n",
       "0.00015  0.096109  0.000000  0.224326  0.332203  0.993057  1.021987\n",
       "0.00020  0.096311  0.000000  0.224418  0.332626  0.993040  1.022006\n",
       "...           ...       ...       ...       ...       ...       ...\n",
       "0.13475  0.396146  0.546094  0.407556  0.501721  0.951582  1.066728\n",
       "0.13480  0.396198  0.546634  0.407612  0.501722  0.951573  1.066742\n",
       "0.13485  0.396251  0.547174  0.407668  0.501723  0.951565  1.066748\n",
       "0.13490  0.396304  0.547715  0.407724  0.501724  0.951556  1.066762\n",
       "0.13495  0.396357  0.548255  0.407780  0.501725  0.951547  1.066768\n",
       "\n",
       "[2700 rows x 6 columns]"
      ]
     },
     "execution_count": 68,
     "metadata": {},
     "output_type": "execute_result"
    }
   ],
   "source": [
    "input_data.set_index('Time', inplace=True)\n",
    "input_data"
   ]
  },
  {
   "cell_type": "code",
   "execution_count": 69,
   "id": "66dbddb8",
   "metadata": {
    "ExecuteTime": {
     "end_time": "2023-09-21T15:07:04.063928400Z",
     "start_time": "2023-09-21T15:07:04.045883500Z"
    }
   },
   "outputs": [],
   "source": [
    "input_data.drop(columns=['Pe','delta', 'Pt'], inplace=True)"
   ]
  },
  {
   "cell_type": "code",
   "execution_count": 70,
   "id": "f3b62b89",
   "metadata": {
    "ExecuteTime": {
     "end_time": "2023-09-21T15:07:04.063928400Z",
     "start_time": "2023-09-21T15:07:04.049209800Z"
    }
   },
   "outputs": [
    {
     "data": {
      "text/html": [
       "<div>\n",
       "<style scoped>\n",
       "    .dataframe tbody tr th:only-of-type {\n",
       "        vertical-align: middle;\n",
       "    }\n",
       "\n",
       "    .dataframe tbody tr th {\n",
       "        vertical-align: top;\n",
       "    }\n",
       "\n",
       "    .dataframe thead th {\n",
       "        text-align: right;\n",
       "    }\n",
       "</style>\n",
       "<table border=\"1\" class=\"dataframe\">\n",
       "  <thead>\n",
       "    <tr style=\"text-align: right;\">\n",
       "      <th></th>\n",
       "      <th>Tm</th>\n",
       "      <th>w</th>\n",
       "      <th>Te</th>\n",
       "    </tr>\n",
       "    <tr>\n",
       "      <th>Time</th>\n",
       "      <th></th>\n",
       "      <th></th>\n",
       "      <th></th>\n",
       "    </tr>\n",
       "  </thead>\n",
       "  <tbody>\n",
       "    <tr>\n",
       "      <th>0.00000</th>\n",
       "      <td>0.000000</td>\n",
       "      <td>0.993108</td>\n",
       "      <td>1.021939</td>\n",
       "    </tr>\n",
       "    <tr>\n",
       "      <th>0.00005</th>\n",
       "      <td>0.000000</td>\n",
       "      <td>0.993091</td>\n",
       "      <td>1.021959</td>\n",
       "    </tr>\n",
       "    <tr>\n",
       "      <th>0.00010</th>\n",
       "      <td>0.000000</td>\n",
       "      <td>0.993074</td>\n",
       "      <td>1.021968</td>\n",
       "    </tr>\n",
       "    <tr>\n",
       "      <th>0.00015</th>\n",
       "      <td>0.000000</td>\n",
       "      <td>0.993057</td>\n",
       "      <td>1.021987</td>\n",
       "    </tr>\n",
       "    <tr>\n",
       "      <th>0.00020</th>\n",
       "      <td>0.000000</td>\n",
       "      <td>0.993040</td>\n",
       "      <td>1.022006</td>\n",
       "    </tr>\n",
       "    <tr>\n",
       "      <th>...</th>\n",
       "      <td>...</td>\n",
       "      <td>...</td>\n",
       "      <td>...</td>\n",
       "    </tr>\n",
       "    <tr>\n",
       "      <th>0.13475</th>\n",
       "      <td>0.546094</td>\n",
       "      <td>0.951582</td>\n",
       "      <td>1.066728</td>\n",
       "    </tr>\n",
       "    <tr>\n",
       "      <th>0.13480</th>\n",
       "      <td>0.546634</td>\n",
       "      <td>0.951573</td>\n",
       "      <td>1.066742</td>\n",
       "    </tr>\n",
       "    <tr>\n",
       "      <th>0.13485</th>\n",
       "      <td>0.547174</td>\n",
       "      <td>0.951565</td>\n",
       "      <td>1.066748</td>\n",
       "    </tr>\n",
       "    <tr>\n",
       "      <th>0.13490</th>\n",
       "      <td>0.547715</td>\n",
       "      <td>0.951556</td>\n",
       "      <td>1.066762</td>\n",
       "    </tr>\n",
       "    <tr>\n",
       "      <th>0.13495</th>\n",
       "      <td>0.548255</td>\n",
       "      <td>0.951547</td>\n",
       "      <td>1.066768</td>\n",
       "    </tr>\n",
       "  </tbody>\n",
       "</table>\n",
       "<p>2700 rows × 3 columns</p>\n",
       "</div>"
      ],
      "text/plain": [
       "               Tm         w        Te\n",
       "Time                                 \n",
       "0.00000  0.000000  0.993108  1.021939\n",
       "0.00005  0.000000  0.993091  1.021959\n",
       "0.00010  0.000000  0.993074  1.021968\n",
       "0.00015  0.000000  0.993057  1.021987\n",
       "0.00020  0.000000  0.993040  1.022006\n",
       "...           ...       ...       ...\n",
       "0.13475  0.546094  0.951582  1.066728\n",
       "0.13480  0.546634  0.951573  1.066742\n",
       "0.13485  0.547174  0.951565  1.066748\n",
       "0.13490  0.547715  0.951556  1.066762\n",
       "0.13495  0.548255  0.951547  1.066768\n",
       "\n",
       "[2700 rows x 3 columns]"
      ]
     },
     "execution_count": 70,
     "metadata": {},
     "output_type": "execute_result"
    }
   ],
   "source": [
    "input_data"
   ]
  },
  {
   "cell_type": "code",
   "execution_count": 71,
   "id": "7c33608a",
   "metadata": {
    "ExecuteTime": {
     "end_time": "2023-09-21T15:07:04.236525700Z",
     "start_time": "2023-09-21T15:07:04.058378300Z"
    }
   },
   "outputs": [
    {
     "data": {
      "text/plain": [
       "<Axes: xlabel='Time'>"
      ]
     },
     "execution_count": 71,
     "metadata": {},
     "output_type": "execute_result"
    },
    {
     "data": {
      "image/png": "[encoded data removed]",
      "text/plain": [
       "<Figure size 640x480 with 1 Axes>"
      ]
     },
     "metadata": {},
     "output_type": "display_data"
    }
   ],
   "source": [
    "input_data.plot()"
   ]
  },
  {
   "cell_type": "code",
   "execution_count": 72,
   "id": "d25b23cb",
   "metadata": {
    "ExecuteTime": {
     "end_time": "2023-09-21T15:07:04.237495200Z",
     "start_time": "2023-09-21T15:07:04.180138700Z"
    }
   },
   "outputs": [
    {
     "data": {
      "text/plain": [
       "array([0.0000e+00, 5.0000e-05, 1.0000e-04, ..., 1.3485e-01, 1.3490e-01,\n",
       "       1.3495e-01])"
      ]
     },
     "execution_count": 72,
     "metadata": {},
     "output_type": "execute_result"
    }
   ],
   "source": [
    "x = input_data.index.to_numpy()\n",
    "x"
   ]
  },
  {
   "cell_type": "code",
   "execution_count": 73,
   "id": "87c9872e",
   "metadata": {
    "ExecuteTime": {
     "end_time": "2023-09-21T15:07:04.237495200Z",
     "start_time": "2023-09-21T15:07:04.180645400Z"
    }
   },
   "outputs": [],
   "source": [
    "geom = dde.geometry.TimeDomain(0, x[-1])"
   ]
  },
  {
   "cell_type": "code",
   "execution_count": 74,
   "id": "f6cf8e8d",
   "metadata": {
    "ExecuteTime": {
     "end_time": "2023-09-21T15:07:04.237495200Z",
     "start_time": "2023-09-21T15:07:04.180645400Z"
    }
   },
   "outputs": [],
   "source": [
    "def boundary(_, on_initial):\n",
    "    return on_initial"
   ]
  },
  {
   "cell_type": "code",
   "execution_count": 75,
   "id": "fc05fefc",
   "metadata": {
    "ExecuteTime": {
     "end_time": "2023-09-21T15:07:04.237495200Z",
     "start_time": "2023-09-21T15:07:04.180645400Z"
    }
   },
   "outputs": [],
   "source": [
    "x0 = input_data.iloc[0].tolist()"
   ]
  },
  {
   "cell_type": "code",
   "execution_count": 76,
   "id": "f2f426af",
   "metadata": {
    "ExecuteTime": {
     "end_time": "2023-09-21T15:07:04.237495200Z",
     "start_time": "2023-09-21T15:07:04.180645400Z"
    }
   },
   "outputs": [],
   "source": [
    "# Initial conditions\n",
    "ic1 = dde.icbc.IC(geom, lambda X: x0[0], boundary, component=0)\n",
    "ic2 = dde.icbc.IC(geom, lambda X: x0[1], boundary, component=1)\n",
    "ic3 = dde.icbc.IC(geom, lambda X: x0[2], boundary, component=2)"
   ]
  },
  {
   "cell_type": "code",
   "execution_count": 77,
   "id": "ff31b2ce",
   "metadata": {
    "ExecuteTime": {
     "end_time": "2023-09-21T15:07:04.237495200Z",
     "start_time": "2023-09-21T15:07:04.183718300Z"
    }
   },
   "outputs": [
    {
     "data": {
      "text/plain": [
       "(2700, 3)"
      ]
     },
     "execution_count": 77,
     "metadata": {},
     "output_type": "execute_result"
    }
   ],
   "source": [
    "y = input_data.to_numpy()\n",
    "y.shape"
   ]
  },
  {
   "cell_type": "code",
   "execution_count": 78,
   "id": "3d0d718a",
   "metadata": {
    "ExecuteTime": {
     "end_time": "2023-09-21T15:07:04.237495200Z",
     "start_time": "2023-09-21T15:07:04.189130900Z"
    }
   },
   "outputs": [],
   "source": [
    "observe_t = x.reshape(-1, 1)"
   ]
  },
  {
   "cell_type": "code",
   "execution_count": 79,
   "id": "788868f6",
   "metadata": {
    "ExecuteTime": {
     "end_time": "2023-09-21T15:07:04.237495200Z",
     "start_time": "2023-09-21T15:07:04.191428100Z"
    }
   },
   "outputs": [],
   "source": [
    "# Get the training data\n",
    "observe_y0 = dde.icbc.PointSetBC(observe_t, y[:, 0:1], component=0)\n",
    "observe_y1 = dde.icbc.PointSetBC(observe_t, y[:, 1:2], component=1)\n",
    "observe_y2 = dde.icbc.PointSetBC(observe_t, y[:, 2:3], component=2)"
   ]
  },
  {
   "cell_type": "code",
   "execution_count": 80,
   "id": "580af80b",
   "metadata": {
    "ExecuteTime": {
     "end_time": "2023-09-21T15:07:04.237495200Z",
     "start_time": "2023-09-21T15:07:04.197759200Z"
    }
   },
   "outputs": [],
   "source": [
    "# H * d2_delta/dt2 (This is dw/dt) + D * d_delta/dt + P_ex - P_mach = 0\n",
    "def Microgrid_system(x, y):\n",
    "    \"\"\"Modified Lorenz system (with exogenous input).\n",
    "    H * d2_delta/dt2 (This is dw/dt) + D * d_delta/dt + P_ex - P_mach = 0\n",
    "    \"\"\"\n",
    "    time = x\n",
    "    Tm, w, Te = y[:, 0:1], y[:, 1:2], y[:, 2:3]\n",
    "    \n",
    "    dw_dt = dde.grad.jacobian(y, x, i=1)\n",
    "    return [\n",
    "        Tm-Te - 2*H*dw_dt\n",
    "    ]\n"
   ]
  },
  {
   "cell_type": "code",
   "execution_count": 81,
   "id": "450084ad",
   "metadata": {
    "ExecuteTime": {
     "end_time": "2023-09-21T15:07:04.237495200Z",
     "start_time": "2023-09-21T15:07:04.200985800Z"
    }
   },
   "outputs": [],
   "source": [
    "# class ex_func2():\n",
    "#     def __init__(self, input_data):\n",
    "#         self.input_data = input_data\n",
    "#     def fun(self, t):\n",
    "#         t = t.reshape(-1, )\n",
    "#         return self.input_data.iloc[t]['Subsystem #1|CTLs|Vars|PGEN'].to_numpy().reshape(-1, 1)"
   ]
  },
  {
   "cell_type": "code",
   "execution_count": 82,
   "id": "6a9379d0",
   "metadata": {
    "ExecuteTime": {
     "end_time": "2023-09-21T15:07:04.237495200Z",
     "start_time": "2023-09-21T15:07:04.205276300Z"
    }
   },
   "outputs": [],
   "source": [
    "data = dde.data.PDE(\n",
    "    geom,\n",
    "    Microgrid_system,\n",
    "    [ic1, ic2, ic3, observe_y0, observe_y1, observe_y2],\n",
    "    # num_domain=400,\n",
    "    # num_boundary=3,\n",
    "    anchors=observe_t,\n",
    "#     auxiliary_var_function=ex_func2(input_data).fun,\n",
    ")"
   ]
  },
  {
   "cell_type": "code",
   "execution_count": 83,
   "id": "4feeb06b",
   "metadata": {
    "ExecuteTime": {
     "end_time": "2023-09-21T15:07:04.491029300Z",
     "start_time": "2023-09-21T15:07:04.211447600Z"
    },
    "scrolled": true
   },
   "outputs": [
    {
     "name": "stdout",
     "output_type": "stream",
     "text": [
      "Compiling model...\n",
      "Warning: For the backend tensorflow.compat.v1, `external_trainable_variables` is ignored, and all trainable ``tf.Variable`` objects are automatically collected.\n",
      "Building feed-forward neural network...\n",
      "'build' took 0.031567 s\n",
      "\n"
     ]
    },
    {
     "name": "stderr",
     "output_type": "stream",
     "text": [
      "C:\\env\\Lib\\site-packages\\deepxde\\nn\\tensorflow_compat_v1\\fnn.py:114: UserWarning: `tf.layers.dense` is deprecated and will be removed in a future version. Please use `tf.keras.layers.Dense` instead.\n",
      "  return tf.layers.dense(\n"
     ]
    },
    {
     "name": "stdout",
     "output_type": "stream",
     "text": [
      "'compile' took 0.276115 s\n",
      "\n"
     ]
    }
   ],
   "source": [
    "net = dde.nn.FNN([1] + [40] * 3 + [3], \"tanh\", \"Glorot uniform\")\n",
    "model = dde.Model(data, net)\n",
    "model.compile(\"adam\", lr=0.001, external_trainable_variables=[H])\n",
    "\n"
   ]
  },
  {
   "cell_type": "code",
   "execution_count": null,
   "id": "e72f1ac8",
   "metadata": {
    "ExecuteTime": {
     "start_time": "2023-09-21T15:07:04.492024500Z"
    },
    "is_executing": true,
    "scrolled": true
   },
   "outputs": [
    {
     "name": "stdout",
     "output_type": "stream",
     "text": [
      "Initializing variables...\n",
      "Training model...\n",
      "\n",
      "Step      Train loss                                                                Test loss                                                                 Test metric\n",
      "0         [8.80e-02, 0.00e+00, 9.86e-01, 1.04e+00, 4.16e-02, 9.31e-01, 1.05e+00]    [8.80e-02, 0.00e+00, 9.86e-01, 1.04e+00, 4.16e-02, 9.31e-01, 1.05e+00]    []  \n",
      "1000      [9.19e-04, 2.25e-04, 2.15e-06, 2.20e-04, 9.53e-03, 1.48e-06, 5.39e-04]    [9.19e-04, 2.25e-04, 2.15e-06, 2.20e-04, 9.53e-03, 1.48e-06, 5.39e-04]    []  \n",
      "2000      [7.10e-06, 6.31e-04, 1.02e-06, 4.11e-07, 8.84e-03, 2.42e-06, 5.98e-07]    [7.10e-06, 6.31e-04, 1.02e-06, 4.11e-07, 8.84e-03, 2.42e-06, 5.98e-07]    []  \n",
      "3000      [3.72e-06, 6.36e-04, 8.82e-07, 1.78e-07, 8.81e-03, 2.31e-06, 3.95e-07]    [3.72e-06, 6.36e-04, 8.82e-07, 1.78e-07, 8.81e-03, 2.31e-06, 3.95e-07]    []  \n",
      "4000      [1.80e-04, 6.15e-04, 3.96e-07, 2.70e-07, 8.79e-03, 3.44e-06, 2.67e-06]    [1.80e-04, 6.15e-04, 3.96e-07, 2.70e-07, 8.79e-03, 3.44e-06, 2.67e-06]    []  \n",
      "5000      [2.26e-04, 5.45e-04, 1.19e-06, 2.07e-06, 8.79e-03, 9.51e-07, 8.08e-07]    [2.26e-04, 5.45e-04, 1.19e-06, 2.07e-06, 8.79e-03, 9.51e-07, 8.08e-07]    []  \n",
      "6000      [1.27e-07, 6.40e-04, 5.25e-07, 1.31e-10, 8.55e-03, 1.60e-06, 2.50e-07]    [1.27e-07, 6.40e-04, 5.25e-07, 1.31e-10, 8.55e-03, 1.60e-06, 2.50e-07]    []  \n",
      "7000      [1.06e-06, 6.35e-04, 3.45e-07, 2.02e-07, 8.20e-03, 1.17e-06, 6.90e-07]    [1.06e-06, 6.35e-04, 3.45e-07, 2.02e-07, 8.20e-03, 1.17e-06, 6.90e-07]    []  \n",
      "8000      [1.93e-04, 5.60e-04, 5.93e-09, 1.13e-06, 6.08e-03, 4.66e-07, 6.52e-05]    [1.93e-04, 5.60e-04, 5.93e-09, 1.13e-06, 6.08e-03, 4.66e-07, 6.52e-05]    []  \n",
      "9000      [4.28e-06, 3.37e-05, 9.05e-09, 4.96e-05, 7.67e-04, 5.53e-08, 3.16e-04]    [4.28e-06, 3.37e-05, 9.05e-09, 4.96e-05, 7.67e-04, 5.53e-08, 3.16e-04]    []  \n",
      "10000     [2.56e-05, 3.22e-06, 2.52e-07, 9.54e-06, 1.52e-04, 4.81e-07, 6.16e-05]    [2.56e-05, 3.22e-06, 2.52e-07, 9.54e-06, 1.52e-04, 4.81e-07, 6.16e-05]    []  \n",
      "11000     [2.29e-05, 4.91e-06, 4.23e-07, 1.14e-06, 1.27e-04, 8.22e-07, 6.48e-06]    [2.29e-05, 4.91e-06, 4.23e-07, 1.14e-06, 1.27e-04, 8.22e-07, 6.48e-06]    []  \n",
      "12000     [1.03e-04, 2.20e-06, 1.26e-07, 8.39e-07, 1.18e-04, 1.35e-06, 1.29e-06]    [1.03e-04, 2.20e-06, 1.26e-07, 8.39e-07, 1.18e-04, 1.35e-06, 1.29e-06]    []  \n",
      "13000     [1.21e-05, 1.92e-06, 6.51e-07, 2.96e-07, 1.12e-04, 1.47e-06, 1.15e-06]    [1.21e-05, 1.92e-06, 6.51e-07, 2.96e-07, 1.12e-04, 1.47e-06, 1.15e-06]    []  \n",
      "14000     [7.90e-06, 3.65e-06, 8.45e-07, 1.10e-07, 1.03e-04, 1.76e-06, 6.67e-07]    [7.90e-06, 3.65e-06, 8.45e-07, 1.10e-07, 1.03e-04, 1.76e-06, 6.67e-07]    []  \n",
      "15000     [2.32e-04, 2.32e-05, 6.13e-07, 1.30e-07, 1.35e-04, 1.77e-06, 1.14e-06]    [2.32e-04, 2.32e-05, 6.13e-07, 1.30e-07, 1.35e-04, 1.77e-06, 1.14e-06]    []  \n",
      "16000     [4.81e-06, 2.68e-06, 1.13e-06, 6.24e-08, 9.97e-05, 2.39e-06, 4.39e-07]    [4.81e-06, 2.68e-06, 1.13e-06, 6.24e-08, 9.97e-05, 2.39e-06, 4.39e-07]    []  \n",
      "17000     [4.27e-06, 7.98e-07, 1.27e-06, 2.64e-08, 1.03e-04, 2.72e-06, 5.97e-07]    [4.27e-06, 7.98e-07, 1.27e-06, 2.64e-08, 1.03e-04, 2.72e-06, 5.97e-07]    []  \n"
     ]
    }
   ],
   "source": [
    "fnamevar = \"variables_test1.dat\"\n",
    "variable = dde.callbacks.VariableValue([H], period=200, filename=fnamevar)\n",
    "model.train(iterations=80000, callbacks=[variable])"
   ]
  },
  {
   "cell_type": "code",
   "execution_count": 39,
   "id": "3f965584",
   "metadata": {
    "is_executing": true
   },
   "outputs": [],
   "source": [
    "lines = open(fnamevar, \"r\").readlines()\n",
    "# read output data in fnamevar (this line is a long story...)\n",
    "Chat = np.array(\n",
    "    [\n",
    "        np.fromstring(\n",
    "            min(re.findall(re.escape(\"[\") + \"(.*?)\" + re.escape(\"]\"), line), key=len),\n",
    "            sep=\",\",\n",
    "        )\n",
    "        for line in lines\n",
    "    ]\n",
    ")"
   ]
  },
  {
   "cell_type": "code",
   "execution_count": 40,
   "id": "7eb6048a",
   "metadata": {
    "is_executing": true
   },
   "outputs": [
    {
     "data": {
      "text/plain": [
       "Text(0.5, 0, 'Epoch')"
      ]
     },
     "execution_count": 40,
     "metadata": {},
     "output_type": "execute_result"
    },
    {
     "data": {
      "image/png": "[encoded data removed]",
      "text/plain": [
       "<Figure size 640x480 with 1 Axes>"
      ]
     },
     "metadata": {},
     "output_type": "display_data"
    }
   ],
   "source": [
    "l, c = Chat.shape\n",
    "plt.plot(range(l), Chat[:, 0], \"r-\")\n",
    "\n",
    "plt.plot(range(l), np.ones(Chat[:, 0].shape) * 1.5, \"r--\")\n",
    "\n",
    "plt.legend([\"Hhat\",\"True H\"], loc=\"right\")\n",
    "plt.xlabel(\"Epoch\")"
   ]
  },
  {
   "cell_type": "code",
   "execution_count": null,
   "id": "95ffdf6d",
   "metadata": {
    "is_executing": true
   },
   "outputs": [],
   "source": [
    "pd.Series((input_data.Tm - input_data.Te).to_numpy()[1:] / ((input_data.w.to_numpy()[1:] - input_data.w.to_numpy()[:-1]) / (input_data.index[1] - input_data.index[0])) / 2).plot()"
   ]
  },
  {
   "cell_type": "code",
   "execution_count": 42,
   "id": "82f774b8",
   "metadata": {
    "is_executing": true
   },
   "outputs": [
    {
     "data": {
      "image/png": "[encoded data removed]",
      "text/plain": [
       "<Figure size 640x480 with 1 Axes>"
      ]
     },
     "metadata": {},
     "output_type": "display_data"
    }
   ],
   "source": [
    "yhat = model.predict(observe_t)\n",
    "plt.figure()\n",
    "plt.plot(observe_t, y, \"-\", observe_t, yhat, \"--\")\n",
    "plt.xlabel(\"Time\")\n",
    "# plt.legend([\"x\", \"y\", \"z\", \"xh\", \"yh\", \"zh\"])\n",
    "# plt.title(\"Training data\")\n",
    "plt.show()"
   ]
  },
  {
   "cell_type": "code",
   "execution_count": null,
   "id": "b5436456",
   "metadata": {},
   "outputs": [],
   "source": []
  }
 ],
 "metadata": {
  "kernelspec": {
   "display_name": "Python 3 (ipykernel)",
   "language": "python",
   "name": "python3"
  },
  "language_info": {
   "codemirror_mode": {
    "name": "ipython",
    "version": 3
   },
   "file_extension": ".py",
   "mimetype": "text/x-python",
   "name": "python",
   "nbconvert_exporter": "python",
   "pygments_lexer": "ipython3",
   "version": "3.9.12"
  },
  "toc": {
   "base_numbering": 1,
   "nav_menu": {},
   "number_sections": true,
   "sideBar": true,
   "skip_h1_title": false,
   "title_cell": "Table of Contents",
   "title_sidebar": "Contents",
   "toc_cell": false,
   "toc_position": {},
   "toc_section_display": true,
   "toc_window_display": false
  },
  "varInspector": {
   "cols": {
    "lenName": 16,
    "lenType": 16,
    "lenVar": 40
   },
   "kernels_config": {
    "python": {
     "delete_cmd_postfix": "",
     "delete_cmd_prefix": "del ",
     "library": "var_list.py",
     "varRefreshCmd": "print(var_dic_list())"
    },
    "r": {
     "delete_cmd_postfix": ") ",
     "delete_cmd_prefix": "rm(",
     "library": "var_list.r",
     "varRefreshCmd": "cat(var_dic_list()) "
    }
   },
   "types_to_exclude": [
    "module",
    "function",
    "builtin_function_or_method",
    "instance",
    "_Feature"
   ],
   "window_display": false
  }
 },
 "nbformat": 4,
 "nbformat_minor": 5
}
