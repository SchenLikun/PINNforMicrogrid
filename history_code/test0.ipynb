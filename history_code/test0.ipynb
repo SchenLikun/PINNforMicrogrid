{
 "cells": [
  {
   "cell_type": "code",
   "execution_count": 1,
   "id": "b08b3fff",
   "metadata": {},
   "outputs": [],
   "source": [
    "import pandas as pd\n",
    "import numpy as np"
   ]
  },
  {
   "cell_type": "code",
   "execution_count": 4,
   "id": "eb4c713b",
   "metadata": {},
   "outputs": [],
   "source": [
    "pd_data = pd.read_csv('data/918test3rd_te.csv', index_col=0)"
   ]
  },
  {
   "cell_type": "code",
   "execution_count": 5,
   "id": "1fc5393e",
   "metadata": {},
   "outputs": [
    {
     "data": {
      "text/html": [
       "<div>\n",
       "<style scoped>\n",
       "    .dataframe tbody tr th:only-of-type {\n",
       "        vertical-align: middle;\n",
       "    }\n",
       "\n",
       "    .dataframe tbody tr th {\n",
       "        vertical-align: top;\n",
       "    }\n",
       "\n",
       "    .dataframe thead th {\n",
       "        text-align: right;\n",
       "    }\n",
       "</style>\n",
       "<table border=\"1\" class=\"dataframe\">\n",
       "  <thead>\n",
       "    <tr style=\"text-align: right;\">\n",
       "      <th></th>\n",
       "      <th>Time</th>\n",
       "      <th>Pe</th>\n",
       "      <th>Tm</th>\n",
       "      <th>delta</th>\n",
       "      <th>Pt</th>\n",
       "      <th>w</th>\n",
       "      <th>Te</th>\n",
       "    </tr>\n",
       "  </thead>\n",
       "  <tbody>\n",
       "    <tr>\n",
       "      <th>0</th>\n",
       "      <td>0.00000</td>\n",
       "      <td>-0.001771</td>\n",
       "      <td>0.000000</td>\n",
       "      <td>-0.000710</td>\n",
       "      <td>-0.001771</td>\n",
       "      <td>1.000507</td>\n",
       "      <td>0.000000</td>\n",
       "    </tr>\n",
       "    <tr>\n",
       "      <th>1</th>\n",
       "      <td>0.00005</td>\n",
       "      <td>-0.001771</td>\n",
       "      <td>0.000000</td>\n",
       "      <td>-0.000710</td>\n",
       "      <td>-0.001771</td>\n",
       "      <td>1.000507</td>\n",
       "      <td>0.000000</td>\n",
       "    </tr>\n",
       "    <tr>\n",
       "      <th>2</th>\n",
       "      <td>0.00010</td>\n",
       "      <td>-0.001771</td>\n",
       "      <td>0.000000</td>\n",
       "      <td>-0.000710</td>\n",
       "      <td>-0.001771</td>\n",
       "      <td>1.000507</td>\n",
       "      <td>0.000000</td>\n",
       "    </tr>\n",
       "    <tr>\n",
       "      <th>3</th>\n",
       "      <td>0.00015</td>\n",
       "      <td>-0.001771</td>\n",
       "      <td>0.000000</td>\n",
       "      <td>-0.000710</td>\n",
       "      <td>-0.001771</td>\n",
       "      <td>1.000507</td>\n",
       "      <td>0.000000</td>\n",
       "    </tr>\n",
       "    <tr>\n",
       "      <th>4</th>\n",
       "      <td>0.00020</td>\n",
       "      <td>-0.001771</td>\n",
       "      <td>0.000000</td>\n",
       "      <td>-0.000710</td>\n",
       "      <td>-0.001771</td>\n",
       "      <td>1.000507</td>\n",
       "      <td>0.000000</td>\n",
       "    </tr>\n",
       "    <tr>\n",
       "      <th>...</th>\n",
       "      <td>...</td>\n",
       "      <td>...</td>\n",
       "      <td>...</td>\n",
       "      <td>...</td>\n",
       "      <td>...</td>\n",
       "      <td>...</td>\n",
       "      <td>...</td>\n",
       "    </tr>\n",
       "    <tr>\n",
       "      <th>7995</th>\n",
       "      <td>0.39975</td>\n",
       "      <td>0.488091</td>\n",
       "      <td>1.056364</td>\n",
       "      <td>0.578104</td>\n",
       "      <td>0.502388</td>\n",
       "      <td>0.946643</td>\n",
       "      <td>1.070208</td>\n",
       "    </tr>\n",
       "    <tr>\n",
       "      <th>7996</th>\n",
       "      <td>0.39980</td>\n",
       "      <td>0.488098</td>\n",
       "      <td>1.056365</td>\n",
       "      <td>0.578137</td>\n",
       "      <td>0.502388</td>\n",
       "      <td>0.946643</td>\n",
       "      <td>1.070199</td>\n",
       "    </tr>\n",
       "    <tr>\n",
       "      <th>7997</th>\n",
       "      <td>0.39985</td>\n",
       "      <td>0.488106</td>\n",
       "      <td>1.056365</td>\n",
       "      <td>0.578170</td>\n",
       "      <td>0.502388</td>\n",
       "      <td>0.946642</td>\n",
       "      <td>1.070209</td>\n",
       "    </tr>\n",
       "    <tr>\n",
       "      <th>7998</th>\n",
       "      <td>0.39990</td>\n",
       "      <td>0.488113</td>\n",
       "      <td>1.056365</td>\n",
       "      <td>0.578203</td>\n",
       "      <td>0.502388</td>\n",
       "      <td>0.946642</td>\n",
       "      <td>1.070209</td>\n",
       "    </tr>\n",
       "    <tr>\n",
       "      <th>7999</th>\n",
       "      <td>0.39995</td>\n",
       "      <td>0.488120</td>\n",
       "      <td>1.056365</td>\n",
       "      <td>0.578236</td>\n",
       "      <td>0.502388</td>\n",
       "      <td>0.946642</td>\n",
       "      <td>1.070209</td>\n",
       "    </tr>\n",
       "  </tbody>\n",
       "</table>\n",
       "<p>8000 rows × 7 columns</p>\n",
       "</div>"
      ],
      "text/plain": [
       "         Time        Pe        Tm     delta        Pt         w        Te\n",
       "0     0.00000 -0.001771  0.000000 -0.000710 -0.001771  1.000507  0.000000\n",
       "1     0.00005 -0.001771  0.000000 -0.000710 -0.001771  1.000507  0.000000\n",
       "2     0.00010 -0.001771  0.000000 -0.000710 -0.001771  1.000507  0.000000\n",
       "3     0.00015 -0.001771  0.000000 -0.000710 -0.001771  1.000507  0.000000\n",
       "4     0.00020 -0.001771  0.000000 -0.000710 -0.001771  1.000507  0.000000\n",
       "...       ...       ...       ...       ...       ...       ...       ...\n",
       "7995  0.39975  0.488091  1.056364  0.578104  0.502388  0.946643  1.070208\n",
       "7996  0.39980  0.488098  1.056365  0.578137  0.502388  0.946643  1.070199\n",
       "7997  0.39985  0.488106  1.056365  0.578170  0.502388  0.946642  1.070209\n",
       "7998  0.39990  0.488113  1.056365  0.578203  0.502388  0.946642  1.070209\n",
       "7999  0.39995  0.488120  1.056365  0.578236  0.502388  0.946642  1.070209\n",
       "\n",
       "[8000 rows x 7 columns]"
      ]
     },
     "execution_count": 5,
     "metadata": {},
     "output_type": "execute_result"
    }
   ],
   "source": [
    "pd_data"
   ]
  },
  {
   "cell_type": "code",
   "execution_count": 10,
   "id": "b88204f1",
   "metadata": {},
   "outputs": [
    {
     "data": {
      "text/plain": [
       "1            NaN\n",
       "2            NaN\n",
       "3            NaN\n",
       "4            NaN\n",
       "5            NaN\n",
       "          ...   \n",
       "7995    1.498966\n",
       "7996    1.500000\n",
       "7997    1.501036\n",
       "7998    1.498966\n",
       "7999    1.501008\n",
       "Length: 7999, dtype: float64"
      ]
     },
     "execution_count": 10,
     "metadata": {},
     "output_type": "execute_result"
    }
   ],
   "source": [
    "(pd_data.Tm - pd_data.Te)[1:] / ((pd_data.w[1:].to_numpy() - pd_data.w[:-1].to_numpy()) / (pd_data.Time[1] - pd_data.Time[0])) / 2"
   ]
  },
  {
   "cell_type": "code",
   "execution_count": 12,
   "id": "46ead8e2",
   "metadata": {},
   "outputs": [
    {
     "data": {
      "text/plain": [
       "7980    1.498966\n",
       "7981    1.501036\n",
       "7982    1.500000\n",
       "7983    1.498966\n",
       "7984    1.501036\n",
       "7985    1.500000\n",
       "7986    1.498966\n",
       "7987    1.501036\n",
       "7988    1.498966\n",
       "7989    1.501036\n",
       "7990    1.498966\n",
       "7991    1.501036\n",
       "7992    1.498966\n",
       "7993    1.500000\n",
       "7994    1.501036\n",
       "7995    1.498966\n",
       "7996    1.500000\n",
       "7997    1.501036\n",
       "7998    1.498966\n",
       "7999    1.501008\n",
       "dtype: float64"
      ]
     },
     "execution_count": 12,
     "metadata": {},
     "output_type": "execute_result"
    }
   ],
   "source": [
    "((pd_data.Tm - pd_data.Te)[1:] / ((pd_data.w[1:].to_numpy() - pd_data.w[:-1].to_numpy()) / (pd_data.Time[1] - pd_data.Time[0])) / 2).tail(20)"
   ]
  },
  {
   "cell_type": "code",
   "execution_count": null,
   "id": "12d20982",
   "metadata": {},
   "outputs": [],
   "source": []
  },
  {
   "cell_type": "code",
   "execution_count": null,
   "id": "5adce991",
   "metadata": {},
   "outputs": [],
   "source": []
  }
 ],
 "metadata": {
  "kernelspec": {
   "display_name": "Python 3 (ipykernel)",
   "language": "python",
   "name": "python3"
  },
  "language_info": {
   "codemirror_mode": {
    "name": "ipython",
    "version": 3
   },
   "file_extension": ".py",
   "mimetype": "text/x-python",
   "name": "python",
   "nbconvert_exporter": "python",
   "pygments_lexer": "ipython3",
   "version": "3.9.12"
  },
  "toc": {
   "base_numbering": 1,
   "nav_menu": {},
   "number_sections": true,
   "sideBar": true,
   "skip_h1_title": false,
   "title_cell": "Table of Contents",
   "title_sidebar": "Contents",
   "toc_cell": false,
   "toc_position": {},
   "toc_section_display": true,
   "toc_window_display": false
  },
  "varInspector": {
   "cols": {
    "lenName": 16,
    "lenType": 16,
    "lenVar": 40
   },
   "kernels_config": {
    "python": {
     "delete_cmd_postfix": "",
     "delete_cmd_prefix": "del ",
     "library": "var_list.py",
     "varRefreshCmd": "print(var_dic_list())"
    },
    "r": {
     "delete_cmd_postfix": ") ",
     "delete_cmd_prefix": "rm(",
     "library": "var_list.r",
     "varRefreshCmd": "cat(var_dic_list()) "
    }
   },
   "types_to_exclude": [
    "module",
    "function",
    "builtin_function_or_method",
    "instance",
    "_Feature"
   ],
   "window_display": false
  }
 },
 "nbformat": 4,
 "nbformat_minor": 5
}
