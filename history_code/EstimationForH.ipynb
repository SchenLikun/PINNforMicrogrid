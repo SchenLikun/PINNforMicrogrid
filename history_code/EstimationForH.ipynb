{
 "cells": [
  {
   "cell_type": "code",
   "execution_count": 1,
   "metadata": {
    "collapsed": true,
    "ExecuteTime": {
     "end_time": "2023-09-19T14:34:00.429604800Z",
     "start_time": "2023-09-19T14:33:57.114389300Z"
    }
   },
   "outputs": [
    {
     "name": "stderr",
     "output_type": "stream",
     "text": [
      "Using backend: tensorflow.compat.v1\n",
      "Other supported backends: tensorflow, pytorch, jax, paddle.\n",
      "paddle supports more examples now and is recommended.\n"
     ]
    },
    {
     "name": "stdout",
     "output_type": "stream",
     "text": [
      "WARNING:tensorflow:From C:\\env\\Lib\\site-packages\\tensorflow\\python\\compat\\v2_compat.py:107: disable_resource_variables (from tensorflow.python.ops.variable_scope) is deprecated and will be removed in a future version.\n",
      "Instructions for updating:\n",
      "non-resource variables are not supported in the long term\n",
      "WARNING:tensorflow:From C:\\env\\Lib\\site-packages\\deepxde\\nn\\initializers.py:118: The name tf.keras.initializers.he_normal is deprecated. Please use tf.compat.v1.keras.initializers.he_normal instead.\n",
      "\n"
     ]
    }
   ],
   "source": [
    "import pandas as pd\n",
    "import deepxde as dde\n",
    "import numpy as np\n",
    "import re\n",
    "import matplotlib.pyplot as plt"
   ]
  },
  {
   "cell_type": "code",
   "execution_count": 2,
   "outputs": [],
   "source": [
    "H_True = 1.7\n",
    "H = dde.Variable(1.0)"
   ],
   "metadata": {
    "collapsed": false,
    "ExecuteTime": {
     "end_time": "2023-09-19T14:34:18.116076100Z",
     "start_time": "2023-09-19T14:34:18.111545700Z"
    }
   }
  },
  {
   "cell_type": "code",
   "execution_count": 3,
   "outputs": [],
   "source": [
    "# initial condition\n",
    "x0 = [1.002987]"
   ],
   "metadata": {
    "collapsed": false,
    "ExecuteTime": {
     "end_time": "2023-09-19T14:35:39.751038Z",
     "start_time": "2023-09-19T14:35:39.748029100Z"
    }
   }
  },
  {
   "cell_type": "code",
   "execution_count": 11,
   "outputs": [
    {
     "data": {
      "text/plain": "         Time            Pe        Tm     delta            Pt         w   \n0     0.00000  1.432088e-09  0.000000  0.007208  1.432031e-09  1.002987  \\\n1     0.00005  1.432088e-09  0.000000  0.007207  1.432031e-09  1.002987   \n2     0.00010  1.432088e-09  0.000000  0.007207  1.432031e-09  1.002987   \n3     0.00015  1.432088e-09  0.000000  0.007207  1.432031e-09  1.002987   \n4     0.00020  1.432088e-09  0.000000  0.007207  1.432031e-09  1.002987   \n...       ...           ...       ...       ...           ...       ...   \n7995  0.39975  2.931009e-01  0.856380  0.425160  3.011125e-01  0.982347   \n7996  0.39980  2.931049e-01  0.856309  0.425187  3.011125e-01  0.982350   \n7997  0.39985  2.931088e-01  0.856239  0.425213  3.011124e-01  0.982354   \n7998  0.39990  2.931128e-01  0.856168  0.425239  3.011124e-01  0.982357   \n7999  0.39995  2.931168e-01  0.856097  0.425265  3.011123e-01  0.982361   \n\n            Te  \n0     0.003303  \n1     0.003303  \n2     0.003313  \n3     0.003303  \n4     0.003303  \n...        ...  \n7995  0.618369  \n7996  0.618374  \n7997  0.618369  \n7998  0.618363  \n7999  0.618363  \n\n[8000 rows x 7 columns]",
      "text/html": "<div>\n<style scoped>\n    .dataframe tbody tr th:only-of-type {\n        vertical-align: middle;\n    }\n\n    .dataframe tbody tr th {\n        vertical-align: top;\n    }\n\n    .dataframe thead th {\n        text-align: right;\n    }\n</style>\n<table border=\"1\" class=\"dataframe\">\n  <thead>\n    <tr style=\"text-align: right;\">\n      <th></th>\n      <th>Time</th>\n      <th>Pe</th>\n      <th>Tm</th>\n      <th>delta</th>\n      <th>Pt</th>\n      <th>w</th>\n      <th>Te</th>\n    </tr>\n  </thead>\n  <tbody>\n    <tr>\n      <th>0</th>\n      <td>0.00000</td>\n      <td>1.432088e-09</td>\n      <td>0.000000</td>\n      <td>0.007208</td>\n      <td>1.432031e-09</td>\n      <td>1.002987</td>\n      <td>0.003303</td>\n    </tr>\n    <tr>\n      <th>1</th>\n      <td>0.00005</td>\n      <td>1.432088e-09</td>\n      <td>0.000000</td>\n      <td>0.007207</td>\n      <td>1.432031e-09</td>\n      <td>1.002987</td>\n      <td>0.003303</td>\n    </tr>\n    <tr>\n      <th>2</th>\n      <td>0.00010</td>\n      <td>1.432088e-09</td>\n      <td>0.000000</td>\n      <td>0.007207</td>\n      <td>1.432031e-09</td>\n      <td>1.002987</td>\n      <td>0.003313</td>\n    </tr>\n    <tr>\n      <th>3</th>\n      <td>0.00015</td>\n      <td>1.432088e-09</td>\n      <td>0.000000</td>\n      <td>0.007207</td>\n      <td>1.432031e-09</td>\n      <td>1.002987</td>\n      <td>0.003303</td>\n    </tr>\n    <tr>\n      <th>4</th>\n      <td>0.00020</td>\n      <td>1.432088e-09</td>\n      <td>0.000000</td>\n      <td>0.007207</td>\n      <td>1.432031e-09</td>\n      <td>1.002987</td>\n      <td>0.003303</td>\n    </tr>\n    <tr>\n      <th>...</th>\n      <td>...</td>\n      <td>...</td>\n      <td>...</td>\n      <td>...</td>\n      <td>...</td>\n      <td>...</td>\n      <td>...</td>\n    </tr>\n    <tr>\n      <th>7995</th>\n      <td>0.39975</td>\n      <td>2.931009e-01</td>\n      <td>0.856380</td>\n      <td>0.425160</td>\n      <td>3.011125e-01</td>\n      <td>0.982347</td>\n      <td>0.618369</td>\n    </tr>\n    <tr>\n      <th>7996</th>\n      <td>0.39980</td>\n      <td>2.931049e-01</td>\n      <td>0.856309</td>\n      <td>0.425187</td>\n      <td>3.011125e-01</td>\n      <td>0.982350</td>\n      <td>0.618374</td>\n    </tr>\n    <tr>\n      <th>7997</th>\n      <td>0.39985</td>\n      <td>2.931088e-01</td>\n      <td>0.856239</td>\n      <td>0.425213</td>\n      <td>3.011124e-01</td>\n      <td>0.982354</td>\n      <td>0.618369</td>\n    </tr>\n    <tr>\n      <th>7998</th>\n      <td>0.39990</td>\n      <td>2.931128e-01</td>\n      <td>0.856168</td>\n      <td>0.425239</td>\n      <td>3.011124e-01</td>\n      <td>0.982357</td>\n      <td>0.618363</td>\n    </tr>\n    <tr>\n      <th>7999</th>\n      <td>0.39995</td>\n      <td>2.931168e-01</td>\n      <td>0.856097</td>\n      <td>0.425265</td>\n      <td>3.011123e-01</td>\n      <td>0.982361</td>\n      <td>0.618363</td>\n    </tr>\n  </tbody>\n</table>\n<p>8000 rows × 7 columns</p>\n</div>"
     },
     "execution_count": 11,
     "metadata": {},
     "output_type": "execute_result"
    }
   ],
   "source": [
    "input_data = pd.read_csv('data/918test3rd_te.csv', index_col=0)\n",
    "input_data"
   ],
   "metadata": {
    "collapsed": false,
    "ExecuteTime": {
     "end_time": "2023-09-19T14:46:47.318419900Z",
     "start_time": "2023-09-19T14:46:47.285019600Z"
    }
   }
  },
  {
   "cell_type": "code",
   "execution_count": null,
   "outputs": [],
   "source": [],
   "metadata": {
    "collapsed": false
   }
  }
 ],
 "metadata": {
  "kernelspec": {
   "display_name": "Python 3",
   "language": "python",
   "name": "python3"
  },
  "language_info": {
   "codemirror_mode": {
    "name": "ipython",
    "version": 2
   },
   "file_extension": ".py",
   "mimetype": "text/x-python",
   "name": "python",
   "nbconvert_exporter": "python",
   "pygments_lexer": "ipython2",
   "version": "2.7.6"
  }
 },
 "nbformat": 4,
 "nbformat_minor": 0
}
