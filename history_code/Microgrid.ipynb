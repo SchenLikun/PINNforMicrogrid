{
 "cells": [
  {
   "cell_type": "code",
   "execution_count": null,
   "id": "3db7db65",
   "metadata": {},
   "outputs": [],
   "source": [
    "import pandas as pd\n",
    "import deepxde as dde\n",
    "import numpy as np\n",
    "import re\n",
    "import matplotlib.pyplot as plt"
   ]
  },
  {
   "cell_type": "code",
   "execution_count": null,
   "id": "c5d0d028",
   "metadata": {},
   "outputs": [],
   "source": [
    "H = dde.Variable(1.0)\n",
    "D = dde.Variable(1.0)"
   ]
  },
  {
   "cell_type": "code",
   "execution_count": null,
   "id": "fd6ca15a",
   "metadata": {},
   "outputs": [],
   "source": [
    "# '''\n",
    "# 24th July, 2023 created by Likun Chen, Wuhan University\n",
    "# This is for testing the PINN parameter estimation, object: syn-machine\n",
    "# EXT Parameters:\n",
    "#     Vi , initial terminal voltage : 1.0 pu\n",
    "#     Ta , voltage regulator time constant : 0.4 sec\n",
    "#     Kf , rate feedback gain : 0.03\n",
    "# SYN Parameters:\n",
    "#     H , inertia constant : 1.7 MWs/MVA\n",
    "#     D , synchronous mechanical damping : 0.12 pu/pu\n",
    "#     Xa , stator leakage reactance : 0.130 pu\n",
    "#     Xd , d-axis unsaturated reactance : 1.79 pu\n",
    "#     Xd' , d-axis unsaturated transient reactance : 0.169 pu\n",
    "#     Xd'' , d-axis unsaturated Sub-Trans reactance : 0.135 pu\n",
    "#     Xq , q-axis unsaturated reactance : 1.71 pu\n",
    "#     Xq' , q-axis unsaturated transient reactance : 0.228 pu\n",
    "#     Xq'' , q-axis unsaturated Sub-Trans reactance : 0.2 pu\n",
    "# For 2-order equation, the state variables are rev (w) and phase angle (delta), \n",
    "# parameters waiting estimated are H , D , Eq' = Ed' = const\n",
    "#     H * d2_delta/dt2 (This is dw/dt) + D * d_delta/dt + P_ex - P_mach = 0\n",
    "#     P_ex is external power balance and P_mach is the mechanical power\n",
    "#     time， P_ex, delta, P_mach, dw\n",
    "# '''"
   ]
  },
  {
   "cell_type": "code",
   "execution_count": null,
   "id": "75332442",
   "metadata": {
    "scrolled": true
   },
   "outputs": [],
   "source": [
    "input_data = pd.read_csv('data/SYN_ON_1ST.csv')"
   ]
  },
  {
   "cell_type": "code",
   "execution_count": null,
   "id": "718aa794",
   "metadata": {},
   "outputs": [],
   "source": [
    "input_data = input_data[400:]"
   ]
  },
  {
   "cell_type": "code",
   "execution_count": null,
   "id": "20844f2c",
   "metadata": {},
   "outputs": [],
   "source": [
    "input_data.Time -= 0.02"
   ]
  },
  {
   "cell_type": "code",
   "execution_count": null,
   "id": "1a815246",
   "metadata": {},
   "outputs": [],
   "source": [
    "input_data.set_index('Time', inplace=True)\n",
    "input_data"
   ]
  },
  {
   "cell_type": "code",
   "execution_count": null,
   "id": "d25b23cb",
   "metadata": {},
   "outputs": [],
   "source": [
    "x = input_data.index.to_numpy()\n",
    "x"
   ]
  },
  {
   "cell_type": "code",
   "execution_count": null,
   "id": "ff31b2ce",
   "metadata": {},
   "outputs": [],
   "source": [
    "y = input_data.to_numpy()\n",
    "y.shape"
   ]
  },
  {
   "cell_type": "code",
   "execution_count": null,
   "id": "6652a9e0",
   "metadata": {},
   "outputs": [],
   "source": [
    "geom = dde.geometry.TimeDomain(0, x[-1])"
   ]
  },
  {
   "cell_type": "code",
   "execution_count": null,
   "id": "580af80b",
   "metadata": {},
   "outputs": [],
   "source": [
    "# H * d2_delta/dt2 (This is dw/dt) + D * d_delta/dt + P_ex - P_mach = 0\n",
    "def Microgrid_system(x, y):\n",
    "    \"\"\"Modified Lorenz system (with exogenous input).\n",
    "    H * d2_delta/dt2 (This is dw/dt) + D * d_delta/dt + P_ex - P_mach = 0\n",
    "    \"\"\"\n",
    "    time = x\n",
    "    P_ex, delta, P_mach, dw = y[:, 0:1], y[:, 1:2], y[:, 2:3], y[:, 3:4]\n",
    "    \n",
    "    d_delta_dt = dde.grad.jacobian(y, x, i=1)\n",
    "    dw_dt = dde.grad.jacobian(y, x, i=3)\n",
    "    return [\n",
    "        H * dw_dt + D * d_delta_dt - P_ex + P_mach\n",
    "    ]\n"
   ]
  },
  {
   "cell_type": "code",
   "execution_count": null,
   "id": "450084ad",
   "metadata": {},
   "outputs": [],
   "source": [
    "# class ex_func2():\n",
    "#     def __init__(self, input_data):\n",
    "#         self.input_data = input_data\n",
    "#     def fun(self, t):\n",
    "#         t = t.reshape(-1, )\n",
    "#         return self.input_data.iloc[t]['Subsystem #1|CTLs|Vars|PGEN'].to_numpy().reshape(-1, 1)"
   ]
  },
  {
   "cell_type": "code",
   "execution_count": null,
   "id": "3d0d718a",
   "metadata": {},
   "outputs": [],
   "source": [
    "observe_t = x.reshape(-1, 1)"
   ]
  },
  {
   "cell_type": "code",
   "execution_count": null,
   "id": "6a9379d0",
   "metadata": {},
   "outputs": [],
   "source": [
    "data = dde.data.PDE(\n",
    "    geom,\n",
    "    Microgrid_system,\n",
    "    [],\n",
    "    num_domain=3600,\n",
    "    num_boundary=0,\n",
    "    anchors=observe_t,\n",
    "#     auxiliary_var_function=ex_func2(input_data).fun,\n",
    ")"
   ]
  },
  {
   "cell_type": "code",
   "execution_count": null,
   "id": "4feeb06b",
   "metadata": {
    "scrolled": true
   },
   "outputs": [],
   "source": [
    "net = dde.nn.FNN([1] + [40] * 3 + [4], \"tanh\", \"Glorot uniform\")\n",
    "model = dde.Model(data, net)\n",
    "model.compile(\"adam\", lr=0.001, external_trainable_variables=[H, D])\n",
    "\n"
   ]
  },
  {
   "cell_type": "code",
   "execution_count": null,
   "id": "e72f1ac8",
   "metadata": {
    "scrolled": true
   },
   "outputs": [],
   "source": [
    "fnamevar = \"variables.dat\"\n",
    "variable = dde.callbacks.VariableValue([H, D], period=100, filename=fnamevar)\n",
    "model.train(iterations=10000, callbacks=[variable])"
   ]
  },
  {
   "cell_type": "code",
   "execution_count": null,
   "id": "3f965584",
   "metadata": {},
   "outputs": [],
   "source": [
    "lines = open(fnamevar, \"r\").readlines()\n",
    "# read output data in fnamevar (this line is a long story...)\n",
    "Chat = np.array(\n",
    "    [\n",
    "        np.fromstring(\n",
    "            min(re.findall(re.escape(\"[\") + \"(.*?)\" + re.escape(\"]\"), line), key=len),\n",
    "            sep=\",\",\n",
    "        )\n",
    "        for line in lines\n",
    "    ]\n",
    ")"
   ]
  },
  {
   "cell_type": "code",
   "execution_count": null,
   "id": "7eb6048a",
   "metadata": {},
   "outputs": [],
   "source": [
    "l, c = Chat.shape\n",
    "plt.plot(range(l), Chat[:, 0], \"r-\")\n",
    "plt.plot(range(l), Chat[:, 1], \"k-\")\n",
    "\n",
    "plt.plot(range(l), np.ones(Chat[:, 0].shape) * 1.7, \"r--\")\n",
    "plt.plot(range(l), np.ones(Chat[:, 1].shape) * 0.12, \"k--\")\n",
    "\n",
    "plt.legend([\"Hhat\", \"Dhat\",\"True H\", \"True D\"], loc=\"right\")\n",
    "plt.xlabel(\"Epoch\")"
   ]
  },
  {
   "cell_type": "code",
   "execution_count": null,
   "id": "95ffdf6d",
   "metadata": {},
   "outputs": [],
   "source": [
    "yhat = model.predict(observe_t)\n",
    "plt.figure()\n",
    "plt.plot(observe_t, y, \"-\", observe_t, yhat, \"--\")\n",
    "plt.xlabel(\"Time\")\n",
    "plt.legend([\"P_ex\", \"delta\", \"P_mach\", \"dw\", \"hP_ex\", \"hdelta\", \"hP_mach\", \"hdw\"])\n",
    "plt.title(\"Training data\")\n",
    "plt.show()"
   ]
  }
 ],
 "metadata": {
  "kernelspec": {
   "display_name": "Python 3 (ipykernel)",
   "language": "python",
   "name": "python3"
  },
  "language_info": {
   "codemirror_mode": {
    "name": "ipython",
    "version": 3
   },
   "file_extension": ".py",
   "mimetype": "text/x-python",
   "name": "python",
   "nbconvert_exporter": "python",
   "pygments_lexer": "ipython3",
   "version": "3.9.12"
  },
  "toc": {
   "base_numbering": 1,
   "nav_menu": {},
   "number_sections": true,
   "sideBar": true,
   "skip_h1_title": false,
   "title_cell": "Table of Contents",
   "title_sidebar": "Contents",
   "toc_cell": false,
   "toc_position": {},
   "toc_section_display": true,
   "toc_window_display": false
  },
  "varInspector": {
   "cols": {
    "lenName": 16,
    "lenType": 16,
    "lenVar": 40
   },
   "kernels_config": {
    "python": {
     "delete_cmd_postfix": "",
     "delete_cmd_prefix": "del ",
     "library": "var_list.py",
     "varRefreshCmd": "print(var_dic_list())"
    },
    "r": {
     "delete_cmd_postfix": ") ",
     "delete_cmd_prefix": "rm(",
     "library": "var_list.r",
     "varRefreshCmd": "cat(var_dic_list()) "
    }
   },
   "types_to_exclude": [
    "module",
    "function",
    "builtin_function_or_method",
    "instance",
    "_Feature"
   ],
   "window_display": false
  }
 },
 "nbformat": 4,
 "nbformat_minor": 5
}
