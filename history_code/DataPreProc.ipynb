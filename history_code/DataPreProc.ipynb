{
 "cells": [
  {
   "cell_type": "code",
   "execution_count": 1,
   "id": "047dffeb",
   "metadata": {},
   "outputs": [],
   "source": [
    "import pandas as pd\n",
    "import numpy as np\n",
    "import matplotlib.pyplot as plt"
   ]
  },
  {
   "cell_type": "code",
   "execution_count": 4,
   "id": "731ad75a",
   "metadata": {
    "ExecuteTime": {
     "end_time": "2023-09-20T17:22:25.990496300Z",
     "start_time": "2023-09-20T17:22:25.957732100Z"
    }
   },
   "outputs": [],
   "source": [
    "pd_data = pd.read_csv('data/920TEST1.csv')"
   ]
  },
  {
   "cell_type": "code",
   "execution_count": 5,
   "id": "cd74973b",
   "metadata": {
    "ExecuteTime": {
     "end_time": "2023-09-20T17:22:26.289257800Z",
     "start_time": "2023-09-20T17:22:26.285144200Z"
    }
   },
   "outputs": [],
   "source": [
    "# Time,Pe,Tm,delta,Pt,w,Te\n",
    "pd_data.columns = ['Time', 'Pe', 'Tm', 'delta', 'Pt', 'w']"
   ]
  },
  {
   "cell_type": "code",
   "execution_count": 6,
   "id": "017f1169",
   "metadata": {
    "scrolled": true,
    "ExecuteTime": {
     "end_time": "2023-09-20T17:22:27.126242800Z",
     "start_time": "2023-09-20T17:22:27.104865500Z"
    }
   },
   "outputs": [
    {
     "data": {
      "text/plain": "         Time        Pe        Tm     delta        Pt           w\n0     0.00000 -0.001771  0.000000 -0.000710 -0.001771  314.159271\n1     0.00005 -0.001771  0.000000 -0.000710 -0.001771  314.159271\n2     0.00010 -0.001771  0.000000 -0.000710 -0.001771  314.159271\n3     0.00015 -0.001771  0.000000 -0.000710 -0.001771  314.159271\n4     0.00020 -0.001771  0.000000 -0.000710 -0.001771  314.159271\n...       ...       ...       ...       ...       ...         ...\n7995  0.39975  0.488091  1.056364  0.578104  0.502388  297.245837\n7996  0.39980  0.488098  1.056365  0.578137  0.502388  297.245765\n7997  0.39985  0.488106  1.056365  0.578170  0.502388  297.245693\n7998  0.39990  0.488113  1.056365  0.578203  0.502388  297.245620\n7999  0.39995  0.488120  1.056365  0.578236  0.502388  297.245548\n\n[8000 rows x 6 columns]",
      "text/html": "<div>\n<style scoped>\n    .dataframe tbody tr th:only-of-type {\n        vertical-align: middle;\n    }\n\n    .dataframe tbody tr th {\n        vertical-align: top;\n    }\n\n    .dataframe thead th {\n        text-align: right;\n    }\n</style>\n<table border=\"1\" class=\"dataframe\">\n  <thead>\n    <tr style=\"text-align: right;\">\n      <th></th>\n      <th>Time</th>\n      <th>Pe</th>\n      <th>Tm</th>\n      <th>delta</th>\n      <th>Pt</th>\n      <th>w</th>\n    </tr>\n  </thead>\n  <tbody>\n    <tr>\n      <th>0</th>\n      <td>0.00000</td>\n      <td>-0.001771</td>\n      <td>0.000000</td>\n      <td>-0.000710</td>\n      <td>-0.001771</td>\n      <td>314.159271</td>\n    </tr>\n    <tr>\n      <th>1</th>\n      <td>0.00005</td>\n      <td>-0.001771</td>\n      <td>0.000000</td>\n      <td>-0.000710</td>\n      <td>-0.001771</td>\n      <td>314.159271</td>\n    </tr>\n    <tr>\n      <th>2</th>\n      <td>0.00010</td>\n      <td>-0.001771</td>\n      <td>0.000000</td>\n      <td>-0.000710</td>\n      <td>-0.001771</td>\n      <td>314.159271</td>\n    </tr>\n    <tr>\n      <th>3</th>\n      <td>0.00015</td>\n      <td>-0.001771</td>\n      <td>0.000000</td>\n      <td>-0.000710</td>\n      <td>-0.001771</td>\n      <td>314.159271</td>\n    </tr>\n    <tr>\n      <th>4</th>\n      <td>0.00020</td>\n      <td>-0.001771</td>\n      <td>0.000000</td>\n      <td>-0.000710</td>\n      <td>-0.001771</td>\n      <td>314.159271</td>\n    </tr>\n    <tr>\n      <th>...</th>\n      <td>...</td>\n      <td>...</td>\n      <td>...</td>\n      <td>...</td>\n      <td>...</td>\n      <td>...</td>\n    </tr>\n    <tr>\n      <th>7995</th>\n      <td>0.39975</td>\n      <td>0.488091</td>\n      <td>1.056364</td>\n      <td>0.578104</td>\n      <td>0.502388</td>\n      <td>297.245837</td>\n    </tr>\n    <tr>\n      <th>7996</th>\n      <td>0.39980</td>\n      <td>0.488098</td>\n      <td>1.056365</td>\n      <td>0.578137</td>\n      <td>0.502388</td>\n      <td>297.245765</td>\n    </tr>\n    <tr>\n      <th>7997</th>\n      <td>0.39985</td>\n      <td>0.488106</td>\n      <td>1.056365</td>\n      <td>0.578170</td>\n      <td>0.502388</td>\n      <td>297.245693</td>\n    </tr>\n    <tr>\n      <th>7998</th>\n      <td>0.39990</td>\n      <td>0.488113</td>\n      <td>1.056365</td>\n      <td>0.578203</td>\n      <td>0.502388</td>\n      <td>297.245620</td>\n    </tr>\n    <tr>\n      <th>7999</th>\n      <td>0.39995</td>\n      <td>0.488120</td>\n      <td>1.056365</td>\n      <td>0.578236</td>\n      <td>0.502388</td>\n      <td>297.245548</td>\n    </tr>\n  </tbody>\n</table>\n<p>8000 rows × 6 columns</p>\n</div>"
     },
     "execution_count": 6,
     "metadata": {},
     "output_type": "execute_result"
    }
   ],
   "source": [
    "pd_data"
   ]
  },
  {
   "cell_type": "markdown",
   "source": [
    "(pd_data.w/314 * pd_data.Tm - (pd_data.Pt/.3007)).plot()\n",
    "# （2023-09-19 12:18:49）结果表明Pt非标幺不可直接参与计算，有名值基准值未知，目前看起来可能在计算过程中有按步长修改基准值的可能，暂时放弃有名值计算，改为标幺值"
   ],
   "metadata": {
    "collapsed": false
   }
  },
  {
   "cell_type": "code",
   "execution_count": 8,
   "outputs": [
    {
     "data": {
      "text/plain": "array([ 0.        ,  0.        ,  0.        , ..., -0.01383439,\n       -0.01384395, -0.01384395])"
     },
     "execution_count": 8,
     "metadata": {},
     "output_type": "execute_result"
    }
   ],
   "source": [
    "# 求w转速的微分，即dw_dt\n",
    "a = ((pd_data.w[2:].to_numpy() - pd_data.w[:-2].to_numpy())/2/(pd_data.Time[1] - pd_data.Time[0]))\n",
    "3*a/314"
   ],
   "metadata": {
    "collapsed": false,
    "ExecuteTime": {
     "end_time": "2023-09-20T17:45:22.340802400Z",
     "start_time": "2023-09-20T17:45:22.316797200Z"
    }
   }
  },
  {
   "cell_type": "code",
   "execution_count": 9,
   "id": "cc0f30a4",
   "metadata": {
    "ExecuteTime": {
     "end_time": "2023-09-20T17:46:14.566425700Z",
     "start_time": "2023-09-20T17:46:14.562031100Z"
    }
   },
   "outputs": [
    {
     "data": {
      "text/plain": "array([ 0.        ,  0.        ,  0.        , ..., -0.01383439,\n       -0.01384395, -0.01384395])"
     },
     "execution_count": 9,
     "metadata": {},
     "output_type": "execute_result"
    }
   ],
   "source": [
    "# 2023-09-19 12:30:26 计算电磁转矩Te，全程标幺值计算\n",
    "dw_dt = 2*1.5*((pd_data.w[2:].to_numpy() - pd_data.w[:-2].to_numpy())/2/314/(pd_data.Time[1] - pd_data.Time[0]))\n",
    "dw_dt"
   ]
  },
  {
   "cell_type": "code",
   "execution_count": 12,
   "outputs": [],
   "source": [
    "pd_data['Te'] = ((pd_data.Tm)[1:-1] - 2*1.5*((pd_data.w[2:].to_numpy() - pd_data.w[:-2].to_numpy())/2/314/(pd_data.Time[1] - pd_data.Time[0])))"
   ],
   "metadata": {
    "collapsed": false,
    "ExecuteTime": {
     "end_time": "2023-09-20T17:46:35.571238500Z",
     "start_time": "2023-09-20T17:46:35.566650600Z"
    }
   }
  },
  {
   "cell_type": "code",
   "execution_count": 13,
   "id": "fbf8fcd1",
   "metadata": {
    "ExecuteTime": {
     "end_time": "2023-09-20T17:46:39.167924Z",
     "start_time": "2023-09-20T17:46:39.129509100Z"
    }
   },
   "outputs": [
    {
     "data": {
      "text/plain": "         Time        Pe        Tm     delta        Pt           w        Te\n0     0.00000 -0.001771  0.000000 -0.000710 -0.001771  314.159271       NaN\n1     0.00005 -0.001771  0.000000 -0.000710 -0.001771  314.159271  0.000000\n2     0.00010 -0.001771  0.000000 -0.000710 -0.001771  314.159271  0.000000\n3     0.00015 -0.001771  0.000000 -0.000710 -0.001771  314.159271  0.000000\n4     0.00020 -0.001771  0.000000 -0.000710 -0.001771  314.159271  0.000000\n...       ...       ...       ...       ...       ...         ...       ...\n7995  0.39975  0.488091  1.056364  0.578104  0.502388  297.245837  1.070208\n7996  0.39980  0.488098  1.056365  0.578137  0.502388  297.245765  1.070199\n7997  0.39985  0.488106  1.056365  0.578170  0.502388  297.245693  1.070209\n7998  0.39990  0.488113  1.056365  0.578203  0.502388  297.245620  1.070209\n7999  0.39995  0.488120  1.056365  0.578236  0.502388  297.245548       NaN\n\n[8000 rows x 7 columns]",
      "text/html": "<div>\n<style scoped>\n    .dataframe tbody tr th:only-of-type {\n        vertical-align: middle;\n    }\n\n    .dataframe tbody tr th {\n        vertical-align: top;\n    }\n\n    .dataframe thead th {\n        text-align: right;\n    }\n</style>\n<table border=\"1\" class=\"dataframe\">\n  <thead>\n    <tr style=\"text-align: right;\">\n      <th></th>\n      <th>Time</th>\n      <th>Pe</th>\n      <th>Tm</th>\n      <th>delta</th>\n      <th>Pt</th>\n      <th>w</th>\n      <th>Te</th>\n    </tr>\n  </thead>\n  <tbody>\n    <tr>\n      <th>0</th>\n      <td>0.00000</td>\n      <td>-0.001771</td>\n      <td>0.000000</td>\n      <td>-0.000710</td>\n      <td>-0.001771</td>\n      <td>314.159271</td>\n      <td>NaN</td>\n    </tr>\n    <tr>\n      <th>1</th>\n      <td>0.00005</td>\n      <td>-0.001771</td>\n      <td>0.000000</td>\n      <td>-0.000710</td>\n      <td>-0.001771</td>\n      <td>314.159271</td>\n      <td>0.000000</td>\n    </tr>\n    <tr>\n      <th>2</th>\n      <td>0.00010</td>\n      <td>-0.001771</td>\n      <td>0.000000</td>\n      <td>-0.000710</td>\n      <td>-0.001771</td>\n      <td>314.159271</td>\n      <td>0.000000</td>\n    </tr>\n    <tr>\n      <th>3</th>\n      <td>0.00015</td>\n      <td>-0.001771</td>\n      <td>0.000000</td>\n      <td>-0.000710</td>\n      <td>-0.001771</td>\n      <td>314.159271</td>\n      <td>0.000000</td>\n    </tr>\n    <tr>\n      <th>4</th>\n      <td>0.00020</td>\n      <td>-0.001771</td>\n      <td>0.000000</td>\n      <td>-0.000710</td>\n      <td>-0.001771</td>\n      <td>314.159271</td>\n      <td>0.000000</td>\n    </tr>\n    <tr>\n      <th>...</th>\n      <td>...</td>\n      <td>...</td>\n      <td>...</td>\n      <td>...</td>\n      <td>...</td>\n      <td>...</td>\n      <td>...</td>\n    </tr>\n    <tr>\n      <th>7995</th>\n      <td>0.39975</td>\n      <td>0.488091</td>\n      <td>1.056364</td>\n      <td>0.578104</td>\n      <td>0.502388</td>\n      <td>297.245837</td>\n      <td>1.070208</td>\n    </tr>\n    <tr>\n      <th>7996</th>\n      <td>0.39980</td>\n      <td>0.488098</td>\n      <td>1.056365</td>\n      <td>0.578137</td>\n      <td>0.502388</td>\n      <td>297.245765</td>\n      <td>1.070199</td>\n    </tr>\n    <tr>\n      <th>7997</th>\n      <td>0.39985</td>\n      <td>0.488106</td>\n      <td>1.056365</td>\n      <td>0.578170</td>\n      <td>0.502388</td>\n      <td>297.245693</td>\n      <td>1.070209</td>\n    </tr>\n    <tr>\n      <th>7998</th>\n      <td>0.39990</td>\n      <td>0.488113</td>\n      <td>1.056365</td>\n      <td>0.578203</td>\n      <td>0.502388</td>\n      <td>297.245620</td>\n      <td>1.070209</td>\n    </tr>\n    <tr>\n      <th>7999</th>\n      <td>0.39995</td>\n      <td>0.488120</td>\n      <td>1.056365</td>\n      <td>0.578236</td>\n      <td>0.502388</td>\n      <td>297.245548</td>\n      <td>NaN</td>\n    </tr>\n  </tbody>\n</table>\n<p>8000 rows × 7 columns</p>\n</div>"
     },
     "execution_count": 13,
     "metadata": {},
     "output_type": "execute_result"
    }
   ],
   "source": [
    "pd_data"
   ]
  },
  {
   "cell_type": "code",
   "execution_count": 14,
   "id": "634b5133",
   "metadata": {
    "ExecuteTime": {
     "end_time": "2023-09-20T17:46:39.959339Z",
     "start_time": "2023-09-20T17:46:39.953928300Z"
    }
   },
   "outputs": [],
   "source": [
    "pd_data.loc[0,'Te'] = pd_data.loc[1,'Te']"
   ]
  },
  {
   "cell_type": "code",
   "execution_count": 15,
   "id": "b09ed98a",
   "metadata": {
    "ExecuteTime": {
     "end_time": "2023-09-20T17:46:40.438232600Z",
     "start_time": "2023-09-20T17:46:40.434192500Z"
    }
   },
   "outputs": [],
   "source": [
    "pd_data.loc[7999,'Te'] = pd_data.loc[7998,'Te']"
   ]
  },
  {
   "cell_type": "code",
   "execution_count": 16,
   "id": "89de8f2d",
   "metadata": {
    "ExecuteTime": {
     "end_time": "2023-09-20T17:46:45.318522400Z",
     "start_time": "2023-09-20T17:46:45.315015Z"
    }
   },
   "outputs": [],
   "source": [
    "pd_data.w = pd_data.w / 314"
   ]
  },
  {
   "cell_type": "code",
   "execution_count": 17,
   "outputs": [
    {
     "data": {
      "text/plain": "         Time        Pe        Tm     delta        Pt         w        Te\n0     0.00000 -0.001771  0.000000 -0.000710 -0.001771  1.000507  0.000000\n1     0.00005 -0.001771  0.000000 -0.000710 -0.001771  1.000507  0.000000\n2     0.00010 -0.001771  0.000000 -0.000710 -0.001771  1.000507  0.000000\n3     0.00015 -0.001771  0.000000 -0.000710 -0.001771  1.000507  0.000000\n4     0.00020 -0.001771  0.000000 -0.000710 -0.001771  1.000507  0.000000\n...       ...       ...       ...       ...       ...       ...       ...\n7995  0.39975  0.488091  1.056364  0.578104  0.502388  0.946643  1.070208\n7996  0.39980  0.488098  1.056365  0.578137  0.502388  0.946643  1.070199\n7997  0.39985  0.488106  1.056365  0.578170  0.502388  0.946642  1.070209\n7998  0.39990  0.488113  1.056365  0.578203  0.502388  0.946642  1.070209\n7999  0.39995  0.488120  1.056365  0.578236  0.502388  0.946642  1.070209\n\n[8000 rows x 7 columns]",
      "text/html": "<div>\n<style scoped>\n    .dataframe tbody tr th:only-of-type {\n        vertical-align: middle;\n    }\n\n    .dataframe tbody tr th {\n        vertical-align: top;\n    }\n\n    .dataframe thead th {\n        text-align: right;\n    }\n</style>\n<table border=\"1\" class=\"dataframe\">\n  <thead>\n    <tr style=\"text-align: right;\">\n      <th></th>\n      <th>Time</th>\n      <th>Pe</th>\n      <th>Tm</th>\n      <th>delta</th>\n      <th>Pt</th>\n      <th>w</th>\n      <th>Te</th>\n    </tr>\n  </thead>\n  <tbody>\n    <tr>\n      <th>0</th>\n      <td>0.00000</td>\n      <td>-0.001771</td>\n      <td>0.000000</td>\n      <td>-0.000710</td>\n      <td>-0.001771</td>\n      <td>1.000507</td>\n      <td>0.000000</td>\n    </tr>\n    <tr>\n      <th>1</th>\n      <td>0.00005</td>\n      <td>-0.001771</td>\n      <td>0.000000</td>\n      <td>-0.000710</td>\n      <td>-0.001771</td>\n      <td>1.000507</td>\n      <td>0.000000</td>\n    </tr>\n    <tr>\n      <th>2</th>\n      <td>0.00010</td>\n      <td>-0.001771</td>\n      <td>0.000000</td>\n      <td>-0.000710</td>\n      <td>-0.001771</td>\n      <td>1.000507</td>\n      <td>0.000000</td>\n    </tr>\n    <tr>\n      <th>3</th>\n      <td>0.00015</td>\n      <td>-0.001771</td>\n      <td>0.000000</td>\n      <td>-0.000710</td>\n      <td>-0.001771</td>\n      <td>1.000507</td>\n      <td>0.000000</td>\n    </tr>\n    <tr>\n      <th>4</th>\n      <td>0.00020</td>\n      <td>-0.001771</td>\n      <td>0.000000</td>\n      <td>-0.000710</td>\n      <td>-0.001771</td>\n      <td>1.000507</td>\n      <td>0.000000</td>\n    </tr>\n    <tr>\n      <th>...</th>\n      <td>...</td>\n      <td>...</td>\n      <td>...</td>\n      <td>...</td>\n      <td>...</td>\n      <td>...</td>\n      <td>...</td>\n    </tr>\n    <tr>\n      <th>7995</th>\n      <td>0.39975</td>\n      <td>0.488091</td>\n      <td>1.056364</td>\n      <td>0.578104</td>\n      <td>0.502388</td>\n      <td>0.946643</td>\n      <td>1.070208</td>\n    </tr>\n    <tr>\n      <th>7996</th>\n      <td>0.39980</td>\n      <td>0.488098</td>\n      <td>1.056365</td>\n      <td>0.578137</td>\n      <td>0.502388</td>\n      <td>0.946643</td>\n      <td>1.070199</td>\n    </tr>\n    <tr>\n      <th>7997</th>\n      <td>0.39985</td>\n      <td>0.488106</td>\n      <td>1.056365</td>\n      <td>0.578170</td>\n      <td>0.502388</td>\n      <td>0.946642</td>\n      <td>1.070209</td>\n    </tr>\n    <tr>\n      <th>7998</th>\n      <td>0.39990</td>\n      <td>0.488113</td>\n      <td>1.056365</td>\n      <td>0.578203</td>\n      <td>0.502388</td>\n      <td>0.946642</td>\n      <td>1.070209</td>\n    </tr>\n    <tr>\n      <th>7999</th>\n      <td>0.39995</td>\n      <td>0.488120</td>\n      <td>1.056365</td>\n      <td>0.578236</td>\n      <td>0.502388</td>\n      <td>0.946642</td>\n      <td>1.070209</td>\n    </tr>\n  </tbody>\n</table>\n<p>8000 rows × 7 columns</p>\n</div>"
     },
     "execution_count": 17,
     "metadata": {},
     "output_type": "execute_result"
    }
   ],
   "source": [
    "pd_data"
   ],
   "metadata": {
    "collapsed": false,
    "ExecuteTime": {
     "end_time": "2023-09-20T17:46:45.900684600Z",
     "start_time": "2023-09-20T17:46:45.893912Z"
    }
   }
  },
  {
   "cell_type": "code",
   "execution_count": 22,
   "id": "215723b7",
   "metadata": {
    "ExecuteTime": {
     "end_time": "2023-09-20T17:47:32.767343Z",
     "start_time": "2023-09-20T17:47:32.715509400Z"
    }
   },
   "outputs": [],
   "source": [
    "pd_data.to_csv('data/920test1_te.csv')"
   ]
  },
  {
   "cell_type": "code",
   "execution_count": 23,
   "id": "bb1c7342",
   "metadata": {
    "ExecuteTime": {
     "end_time": "2023-09-20T17:47:33.424922Z",
     "start_time": "2023-09-20T17:47:33.314853500Z"
    }
   },
   "outputs": [
    {
     "data": {
      "text/plain": "<Axes: >"
     },
     "execution_count": 23,
     "metadata": {},
     "output_type": "execute_result"
    },
    {
     "data": {
      "text/plain": "<Figure size 640x480 with 1 Axes>",
      "image/png": "[encoded data removed]"
     },
     "metadata": {},
     "output_type": "display_data"
    }
   ],
   "source": [
    "pd_data.Te.plot()"
   ]
  },
  {
   "cell_type": "code",
   "execution_count": 25,
   "outputs": [
    {
     "data": {
      "text/plain": "<Axes: >"
     },
     "execution_count": 25,
     "metadata": {},
     "output_type": "execute_result"
    },
    {
     "data": {
      "text/plain": "<Figure size 640x480 with 1 Axes>",
      "image/png": "[encoded data removed]"
     },
     "metadata": {},
     "output_type": "display_data"
    }
   ],
   "source": [
    "(((pd_data.Tm)[1:-1] - 2*1.5*((pd_data.w[2:].to_numpy() - pd_data.w[:-2].to_numpy())/2/314/(pd_data.Time[1] - pd_data.Time[0])))).plot()"
   ],
   "metadata": {
    "collapsed": false,
    "ExecuteTime": {
     "end_time": "2023-09-21T09:22:27.949890Z",
     "start_time": "2023-09-21T09:22:27.873907700Z"
    }
   }
  },
  {
   "cell_type": "code",
   "execution_count": null,
   "outputs": [],
   "source": [],
   "metadata": {
    "collapsed": false
   }
  },
  {
   "cell_type": "code",
   "execution_count": null,
   "outputs": [],
   "source": [],
   "metadata": {
    "collapsed": false
   }
  },
  {
   "cell_type": "code",
   "execution_count": null,
   "outputs": [],
   "source": [],
   "metadata": {
    "collapsed": false
   }
  },
  {
   "cell_type": "code",
   "execution_count": null,
   "id": "bdd04804",
   "metadata": {},
   "outputs": [],
   "source": [
    "(pd_data.Time[1] - pd_data.Time[0])"
   ]
  },
  {
   "cell_type": "code",
   "execution_count": null,
   "id": "6a5948f9",
   "metadata": {},
   "outputs": [],
   "source": [
    "(pd_data.delta[2:].to_numpy() + pd_data.delta[:-2].to_numpy() - 2* pd_data.delta[1:-1].to_numpy())/2/(pd_data.Time[1] - pd_data.Time[0])"
   ]
  },
  {
   "cell_type": "code",
   "execution_count": null,
   "id": "1bf5b616",
   "metadata": {},
   "outputs": [],
   "source": []
  },
  {
   "cell_type": "code",
   "execution_count": null,
   "id": "1453e7fb",
   "metadata": {},
   "outputs": [],
   "source": [
    "(pd_data.w[2:].to_numpy() - pd_data.w[:-2].to_numpy())/2/(pd_data.Time[1] - pd_data.Time[0])"
   ]
  },
  {
   "cell_type": "code",
   "execution_count": null,
   "id": "8d0bb689",
   "metadata": {},
   "outputs": [],
   "source": []
  },
  {
   "cell_type": "code",
   "execution_count": null,
   "id": "5b4d2d52",
   "metadata": {},
   "outputs": [],
   "source": [
    "result_minus = pd.Series(pd_data.delta[2:].to_numpy() + pd_data.delta[:-2].to_numpy() - 2* pd_data.delta[1:-1].to_numpy())/2/(pd_data.Time[1] - pd_data.Time[0]) -\\\n",
    "(pd_data.w[2:].to_numpy() - pd_data.w[:-2].to_numpy())/2/(pd_data.Time[1] - pd_data.Time[0])"
   ]
  },
  {
   "cell_type": "code",
   "execution_count": null,
   "id": "7d2ba090",
   "metadata": {},
   "outputs": [],
   "source": [
    "result_minus[800:].value_counts()"
   ]
  },
  {
   "cell_type": "code",
   "execution_count": null,
   "id": "c57d2d2b",
   "metadata": {},
   "outputs": [],
   "source": [
    "result_minus[1000:].plot()"
   ]
  },
  {
   "cell_type": "code",
   "execution_count": null,
   "id": "e686abfc",
   "metadata": {},
   "outputs": [],
   "source": []
  },
  {
   "cell_type": "code",
   "execution_count": null,
   "id": "61ab6f80",
   "metadata": {},
   "outputs": [],
   "source": [
    "result = pd.Series((pd_data.delta[2:].to_numpy() + pd_data.delta[:-2].to_numpy() - 2* pd_data.delta[1:-1].to_numpy())/((pd_data.w[2:].to_numpy() - pd_data.w[:-2].to_numpy())/2))"
   ]
  },
  {
   "cell_type": "code",
   "execution_count": null,
   "id": "694e61ff",
   "metadata": {},
   "outputs": [],
   "source": [
    "result.plot()"
   ]
  },
  {
   "cell_type": "code",
   "execution_count": null,
   "id": "cb7b344a",
   "metadata": {},
   "outputs": [],
   "source": [
    "result.describe()"
   ]
  },
  {
   "cell_type": "code",
   "execution_count": null,
   "id": "ec4c8d39",
   "metadata": {},
   "outputs": [],
   "source": [
    "result.value_counts()"
   ]
  },
  {
   "cell_type": "code",
   "execution_count": null,
   "id": "e4e32a3f",
   "metadata": {},
   "outputs": [],
   "source": [
    "result2 = result[~result.isin([np.nan, np.inf, -np.inf])]"
   ]
  },
  {
   "cell_type": "code",
   "execution_count": null,
   "id": "a5f877da",
   "metadata": {},
   "outputs": [],
   "source": [
    "result2.plot()"
   ]
  },
  {
   "cell_type": "code",
   "execution_count": null,
   "id": "bd27a764",
   "metadata": {},
   "outputs": [],
   "source": [
    "result2[800:].plot()"
   ]
  },
  {
   "cell_type": "code",
   "execution_count": null,
   "id": "e91bb775",
   "metadata": {},
   "outputs": [],
   "source": [
    "result2[1000:].describe()"
   ]
  },
  {
   "cell_type": "code",
   "execution_count": null,
   "id": "287c5bd4",
   "metadata": {},
   "outputs": [],
   "source": []
  },
  {
   "cell_type": "code",
   "execution_count": null,
   "id": "20d3e673",
   "metadata": {},
   "outputs": [],
   "source": []
  },
  {
   "cell_type": "code",
   "execution_count": null,
   "id": "5304c744",
   "metadata": {},
   "outputs": [],
   "source": []
  },
  {
   "cell_type": "code",
   "execution_count": null,
   "id": "8e8df199",
   "metadata": {},
   "outputs": [],
   "source": [
    "(pd_data.w[:-1] -  (pd_data.delta[1:]-pd_data.delta[:-1])/(pd_data.Time[1]-pd_data.Time[0])).value_counts()"
   ]
  },
  {
   "cell_type": "code",
   "execution_count": null,
   "id": "eb1cb85b",
   "metadata": {},
   "outputs": [],
   "source": [
    "(pd_data.w[1: ] -  (pd_data.delta[1:]-pd_data.delta[:-1])/(pd_data.Time[1]-pd_data.Time[0])).plot()"
   ]
  },
  {
   "cell_type": "code",
   "execution_count": null,
   "id": "87ee9880",
   "metadata": {},
   "outputs": [],
   "source": [
    "(pd_data.w[1: ] -  (pd_data.delta[1:]-pd_data.delta[:-1])/(pd_data.Time[1]-pd_data.Time[0])).value_counts().head(20)"
   ]
  },
  {
   "cell_type": "code",
   "execution_count": null,
   "id": "231eadc3",
   "metadata": {},
   "outputs": [],
   "source": [
    "(pd_data.w[1: ] -  (pd_data.delta[1:]-pd_data.delta[:-1])/(pd_data.Time[1]-pd_data.Time[0])).describe()"
   ]
  },
  {
   "cell_type": "code",
   "execution_count": null,
   "id": "8ca276d5",
   "metadata": {},
   "outputs": [],
   "source": [
    "(pd_data.Pt-pd_data.Pe)[:300].describe()"
   ]
  },
  {
   "cell_type": "code",
   "execution_count": null,
   "id": "f461a59f",
   "metadata": {
    "scrolled": true
   },
   "outputs": [],
   "source": [
    "((pd_data.Pt-pd_data.Pe)/pd_data.w)[800:] #/ (pd_data.w[800:].to_numpy()-pd_data.w[799:-1].to_numpy())"
   ]
  },
  {
   "cell_type": "code",
   "execution_count": null,
   "id": "dd7e9b2a",
   "metadata": {},
   "outputs": [],
   "source": [
    "(((pd_data.Pt-pd_data.Pe)/pd_data.w)[800:] / (pd_data.w[800:].to_numpy()-pd_data.w[799:-1].to_numpy())).value_counts()"
   ]
  },
  {
   "cell_type": "code",
   "execution_count": null,
   "id": "6490c188",
   "metadata": {},
   "outputs": [],
   "source": [
    "((pd_data.Pt-pd_data.Pe)/pd_data.w).value_counts()"
   ]
  },
  {
   "cell_type": "code",
   "execution_count": null,
   "id": "fbe74597",
   "metadata": {},
   "outputs": [],
   "source": [
    "((pd_data.Pt-pd_data.Pe)/pd_data.w).plot()"
   ]
  },
  {
   "cell_type": "code",
   "execution_count": null,
   "id": "fd84c01f",
   "metadata": {},
   "outputs": [],
   "source": [
    "(pd_data.Pt-pd_data.Pe).plot()"
   ]
  },
  {
   "cell_type": "code",
   "execution_count": null,
   "id": "6024bc45",
   "metadata": {},
   "outputs": [],
   "source": []
  },
  {
   "cell_type": "code",
   "execution_count": null,
   "id": "b3a2f02f",
   "metadata": {},
   "outputs": [],
   "source": [
    "(((pd_data.Pt-pd_data.Pe)/pd_data.w)[800:] / (pd_data.w[800:].to_numpy()-pd_data.w[799:-1].to_numpy())).plot()"
   ]
  },
  {
   "cell_type": "code",
   "execution_count": null,
   "id": "ded71ac4",
   "metadata": {},
   "outputs": [],
   "source": [
    "(((pd_data.Pt-pd_data.Pe)/pd_data.w)[800:] / (pd_data.w[800:].to_numpy()-pd_data.w[799:-1].to_numpy()))"
   ]
  },
  {
   "cell_type": "code",
   "execution_count": null,
   "id": "b062b478",
   "metadata": {},
   "outputs": [],
   "source": [
    "(((pd_data.Pt-pd_data.Pe)/pd_data.w)[800:] / (pd_data.w[800:].to_numpy()-pd_data.w[799:-1].to_numpy())).value_counts()"
   ]
  },
  {
   "cell_type": "code",
   "execution_count": null,
   "id": "6fe96828",
   "metadata": {},
   "outputs": [],
   "source": []
  },
  {
   "cell_type": "code",
   "execution_count": null,
   "id": "fbe07c21",
   "metadata": {},
   "outputs": [],
   "source": [
    "result3 = pd.Series((pd_data.delta[2:].to_numpy() + pd_data.delta[:-2].to_numpy() - 2* pd_data.delta[1:-1].to_numpy())/2/(pd_data.Time[1] - pd_data.Time[0])/(pd_data.Pt-pd_data.Pe)[1:-1].to_numpy())"
   ]
  },
  {
   "cell_type": "code",
   "execution_count": null,
   "id": "292b915f",
   "metadata": {},
   "outputs": [],
   "source": [
    "result_4 = pd.Series((pd_data.Pt-pd_data.Pe)[1:-1].to_numpy() / \\\n",
    "((pd_data.delta[2:].to_numpy() + pd_data.delta[:-2].to_numpy() - 2* pd_data.delta[1:-1].to_numpy())/2/(pd_data.Time[1] - pd_data.Time[0])))"
   ]
  },
  {
   "cell_type": "code",
   "execution_count": null,
   "id": "4d2e8b6a",
   "metadata": {},
   "outputs": [],
   "source": [
    "result_4*=314*1e3"
   ]
  },
  {
   "cell_type": "code",
   "execution_count": null,
   "id": "cb672da4",
   "metadata": {},
   "outputs": [],
   "source": [
    "result_4[abs(result_4)<400000].plot()"
   ]
  },
  {
   "cell_type": "code",
   "execution_count": null,
   "id": "c15017aa",
   "metadata": {},
   "outputs": [],
   "source": [
    "result_4.value_counts()"
   ]
  },
  {
   "cell_type": "code",
   "execution_count": null,
   "id": "6d1d9d5e",
   "metadata": {},
   "outputs": [],
   "source": [
    "result_4.describe()"
   ]
  },
  {
   "cell_type": "code",
   "execution_count": null,
   "id": "8744964e",
   "metadata": {},
   "outputs": [],
   "source": []
  }
 ],
 "metadata": {
  "kernelspec": {
   "display_name": "Python 3 (ipykernel)",
   "language": "python",
   "name": "python3"
  },
  "language_info": {
   "codemirror_mode": {
    "name": "ipython",
    "version": 3
   },
   "file_extension": ".py",
   "mimetype": "text/x-python",
   "name": "python",
   "nbconvert_exporter": "python",
   "pygments_lexer": "ipython3",
   "version": "3.9.12"
  },
  "toc": {
   "base_numbering": 1,
   "nav_menu": {},
   "number_sections": true,
   "sideBar": true,
   "skip_h1_title": false,
   "title_cell": "Table of Contents",
   "title_sidebar": "Contents",
   "toc_cell": false,
   "toc_position": {},
   "toc_section_display": true,
   "toc_window_display": false
  },
  "varInspector": {
   "cols": {
    "lenName": 16,
    "lenType": 16,
    "lenVar": 40
   },
   "kernels_config": {
    "python": {
     "delete_cmd_postfix": "",
     "delete_cmd_prefix": "del ",
     "library": "var_list.py",
     "varRefreshCmd": "print(var_dic_list())"
    },
    "r": {
     "delete_cmd_postfix": ") ",
     "delete_cmd_prefix": "rm(",
     "library": "var_list.r",
     "varRefreshCmd": "cat(var_dic_list()) "
    }
   },
   "types_to_exclude": [
    "module",
    "function",
    "builtin_function_or_method",
    "instance",
    "_Feature"
   ],
   "window_display": false
  }
 },
 "nbformat": 4,
 "nbformat_minor": 5
}
