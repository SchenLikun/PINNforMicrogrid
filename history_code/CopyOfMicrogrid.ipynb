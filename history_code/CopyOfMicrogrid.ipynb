{
 "cells": [
  {
   "cell_type": "code",
   "execution_count": 28,
   "id": "3db7db65",
   "metadata": {
    "ExecuteTime": {
     "end_time": "2023-09-20T17:48:17.399560200Z",
     "start_time": "2023-09-20T17:48:17.386759800Z"
    }
   },
   "outputs": [],
   "source": [
    "import pandas as pd\n",
    "import deepxde as dde\n",
    "import numpy as np\n",
    "import re\n",
    "import matplotlib.pyplot as plt"
   ]
  },
  {
   "cell_type": "code",
   "execution_count": 29,
   "id": "c5d0d028",
   "metadata": {
    "ExecuteTime": {
     "end_time": "2023-09-20T17:48:18.053360900Z",
     "start_time": "2023-09-20T17:48:18.025679800Z"
    }
   },
   "outputs": [],
   "source": [
    "H = dde.Variable(1.0)\n",
    "# D = dde.Variable(1.0)"
   ]
  },
  {
   "cell_type": "code",
   "execution_count": 30,
   "outputs": [
    {
     "data": {
      "text/plain": "\"\\n24th July, 2023 created by Likun Chen, Wuhan University\\nThis is for testing the PINN parameter estimation, object: syn-machine\\nEXT Parameters:\\n    Vi , initial terminal voltage : 1.0 pu\\n    Ta , voltage regulator time constant : 0.4 sec\\n    Kf , rate feedback gain : 0.03\\nSYN Parameters:\\n    H , inertia constant : 1.7 MWs/MVA\\n    D , synchronous mechanical damping : 0.12 pu/pu\\n    Xa , stator leakage reactance : 0.130 pu\\n    Xd , d-axis unsaturated reactance : 1.79 pu\\n    Xd' , d-axis unsaturated transient reactance : 0.169 pu\\n    Xd'' , d-axis unsaturated Sub-Trans reactance : 0.135 pu\\n    Xq , q-axis unsaturated reactance : 1.71 pu\\n    Xq' , q-axis unsaturated transient reactance : 0.228 pu\\n    Xq'' , q-axis unsaturated Sub-Trans reactance : 0.2 pu\\nFor 2-order equation, the state variables are rev (w) and phase angle (delta),\\nparameters waiting estimated are H , D , Eq' = Ed' = const\\n\\nFor Single Sync-Mach to load system:\\n    1st test : without damping coefficient D\\n    d_delta/dt = w - w0                    (1)\\n    2 * H * d_w/dt = P_mach/w - P_ex/w     (2)\\n\\n    2nd test : with damping coefficient D = 0.12\\n    d_delta/dt = w - w0                               (1)\\n    2 * H * d_w/dt = P_mach/w - P_ex/w - D * (w - w0) (2)\\n    time， P_ex, delta, P_mach, dw\\n\""
     },
     "execution_count": 30,
     "metadata": {},
     "output_type": "execute_result"
    }
   ],
   "source": [
    "'''\n",
    "24th July, 2023 created by Likun Chen, Wuhan University\n",
    "This is for testing the PINN parameter estimation, object: syn-machine\n",
    "EXT Parameters:\n",
    "    Vi , initial terminal voltage : 1.0 pu\n",
    "    Ta , voltage regulator time constant : 0.4 sec\n",
    "    Kf , rate feedback gain : 0.03\n",
    "SYN Parameters:\n",
    "    H , inertia constant : 1.7 MWs/MVA\n",
    "    D , synchronous mechanical damping : 0.12 pu/pu\n",
    "    Xa , stator leakage reactance : 0.130 pu\n",
    "    Xd , d-axis unsaturated reactance : 1.79 pu\n",
    "    Xd' , d-axis unsaturated transient reactance : 0.169 pu\n",
    "    Xd'' , d-axis unsaturated Sub-Trans reactance : 0.135 pu\n",
    "    Xq , q-axis unsaturated reactance : 1.71 pu\n",
    "    Xq' , q-axis unsaturated transient reactance : 0.228 pu\n",
    "    Xq'' , q-axis unsaturated Sub-Trans reactance : 0.2 pu\n",
    "For 2-order equation, the state variables are rev (w) and phase angle (delta),\n",
    "parameters waiting estimated are H , D , Eq' = Ed' = const\n",
    "\n",
    "For Single Sync-Mach to load system:\n",
    "    1st test : without damping coefficient D\n",
    "    d_delta/dt = w - w0                    (1)\n",
    "    2 * H * d_w/dt = P_mach/w - P_ex/w     (2)\n",
    "\n",
    "    2nd test : with damping coefficient D = 0.12\n",
    "    d_delta/dt = w - w0                               (1)\n",
    "    2 * H * d_w/dt = P_mach/w - P_ex/w - D * (w - w0) (2)\n",
    "    time， P_ex, delta, P_mach, dw\n",
    "'''"
   ],
   "metadata": {
    "collapsed": false,
    "ExecuteTime": {
     "end_time": "2023-09-20T17:48:19.005000700Z",
     "start_time": "2023-09-20T17:48:18.960138400Z"
    }
   }
  },
  {
   "cell_type": "code",
   "execution_count": 31,
   "id": "75332442",
   "metadata": {
    "scrolled": true,
    "ExecuteTime": {
     "end_time": "2023-09-20T17:48:31.935287800Z",
     "start_time": "2023-09-20T17:48:31.909449900Z"
    }
   },
   "outputs": [
    {
     "data": {
      "text/plain": "         Time        Pe        Tm     delta        Pt         w        Te\n0     0.00000 -0.001771  0.000000 -0.000710 -0.001771  1.000507  0.000000\n1     0.00005 -0.001771  0.000000 -0.000710 -0.001771  1.000507  0.000000\n2     0.00010 -0.001771  0.000000 -0.000710 -0.001771  1.000507  0.000000\n3     0.00015 -0.001771  0.000000 -0.000710 -0.001771  1.000507  0.000000\n4     0.00020 -0.001771  0.000000 -0.000710 -0.001771  1.000507  0.000000\n...       ...       ...       ...       ...       ...       ...       ...\n7995  0.39975  0.488091  1.056364  0.578104  0.502388  0.946643  1.070208\n7996  0.39980  0.488098  1.056365  0.578137  0.502388  0.946643  1.070199\n7997  0.39985  0.488106  1.056365  0.578170  0.502388  0.946642  1.070209\n7998  0.39990  0.488113  1.056365  0.578203  0.502388  0.946642  1.070209\n7999  0.39995  0.488120  1.056365  0.578236  0.502388  0.946642  1.070209\n\n[8000 rows x 7 columns]",
      "text/html": "<div>\n<style scoped>\n    .dataframe tbody tr th:only-of-type {\n        vertical-align: middle;\n    }\n\n    .dataframe tbody tr th {\n        vertical-align: top;\n    }\n\n    .dataframe thead th {\n        text-align: right;\n    }\n</style>\n<table border=\"1\" class=\"dataframe\">\n  <thead>\n    <tr style=\"text-align: right;\">\n      <th></th>\n      <th>Time</th>\n      <th>Pe</th>\n      <th>Tm</th>\n      <th>delta</th>\n      <th>Pt</th>\n      <th>w</th>\n      <th>Te</th>\n    </tr>\n  </thead>\n  <tbody>\n    <tr>\n      <th>0</th>\n      <td>0.00000</td>\n      <td>-0.001771</td>\n      <td>0.000000</td>\n      <td>-0.000710</td>\n      <td>-0.001771</td>\n      <td>1.000507</td>\n      <td>0.000000</td>\n    </tr>\n    <tr>\n      <th>1</th>\n      <td>0.00005</td>\n      <td>-0.001771</td>\n      <td>0.000000</td>\n      <td>-0.000710</td>\n      <td>-0.001771</td>\n      <td>1.000507</td>\n      <td>0.000000</td>\n    </tr>\n    <tr>\n      <th>2</th>\n      <td>0.00010</td>\n      <td>-0.001771</td>\n      <td>0.000000</td>\n      <td>-0.000710</td>\n      <td>-0.001771</td>\n      <td>1.000507</td>\n      <td>0.000000</td>\n    </tr>\n    <tr>\n      <th>3</th>\n      <td>0.00015</td>\n      <td>-0.001771</td>\n      <td>0.000000</td>\n      <td>-0.000710</td>\n      <td>-0.001771</td>\n      <td>1.000507</td>\n      <td>0.000000</td>\n    </tr>\n    <tr>\n      <th>4</th>\n      <td>0.00020</td>\n      <td>-0.001771</td>\n      <td>0.000000</td>\n      <td>-0.000710</td>\n      <td>-0.001771</td>\n      <td>1.000507</td>\n      <td>0.000000</td>\n    </tr>\n    <tr>\n      <th>...</th>\n      <td>...</td>\n      <td>...</td>\n      <td>...</td>\n      <td>...</td>\n      <td>...</td>\n      <td>...</td>\n      <td>...</td>\n    </tr>\n    <tr>\n      <th>7995</th>\n      <td>0.39975</td>\n      <td>0.488091</td>\n      <td>1.056364</td>\n      <td>0.578104</td>\n      <td>0.502388</td>\n      <td>0.946643</td>\n      <td>1.070208</td>\n    </tr>\n    <tr>\n      <th>7996</th>\n      <td>0.39980</td>\n      <td>0.488098</td>\n      <td>1.056365</td>\n      <td>0.578137</td>\n      <td>0.502388</td>\n      <td>0.946643</td>\n      <td>1.070199</td>\n    </tr>\n    <tr>\n      <th>7997</th>\n      <td>0.39985</td>\n      <td>0.488106</td>\n      <td>1.056365</td>\n      <td>0.578170</td>\n      <td>0.502388</td>\n      <td>0.946642</td>\n      <td>1.070209</td>\n    </tr>\n    <tr>\n      <th>7998</th>\n      <td>0.39990</td>\n      <td>0.488113</td>\n      <td>1.056365</td>\n      <td>0.578203</td>\n      <td>0.502388</td>\n      <td>0.946642</td>\n      <td>1.070209</td>\n    </tr>\n    <tr>\n      <th>7999</th>\n      <td>0.39995</td>\n      <td>0.488120</td>\n      <td>1.056365</td>\n      <td>0.578236</td>\n      <td>0.502388</td>\n      <td>0.946642</td>\n      <td>1.070209</td>\n    </tr>\n  </tbody>\n</table>\n<p>8000 rows × 7 columns</p>\n</div>"
     },
     "execution_count": 31,
     "metadata": {},
     "output_type": "execute_result"
    }
   ],
   "source": [
    "input_data = pd.read_csv('data/920test1_te.csv', index_col=0)\n",
    "input_data"
   ]
  },
  {
   "cell_type": "code",
   "execution_count": 32,
   "id": "718aa794",
   "metadata": {
    "ExecuteTime": {
     "end_time": "2023-09-20T17:48:39.165998200Z",
     "start_time": "2023-09-20T17:48:39.142160500Z"
    }
   },
   "outputs": [],
   "source": [
    "input_data = input_data[800:]"
   ]
  },
  {
   "cell_type": "code",
   "execution_count": 33,
   "id": "20844f2c",
   "metadata": {
    "ExecuteTime": {
     "end_time": "2023-09-20T17:48:39.575094600Z",
     "start_time": "2023-09-20T17:48:39.548522700Z"
    }
   },
   "outputs": [
    {
     "name": "stderr",
     "output_type": "stream",
     "text": [
      "C:\\Users\\chenl\\AppData\\Local\\Temp\\ipykernel_7992\\3353039809.py:1: SettingWithCopyWarning: \n",
      "A value is trying to be set on a copy of a slice from a DataFrame.\n",
      "Try using .loc[row_indexer,col_indexer] = value instead\n",
      "\n",
      "See the caveats in the documentation: https://pandas.pydata.org/pandas-docs/stable/user_guide/indexing.html#returning-a-view-versus-a-copy\n",
      "  input_data.Time -= 0.02\n"
     ]
    }
   ],
   "source": [
    "input_data.Time -= 0.02"
   ]
  },
  {
   "cell_type": "code",
   "execution_count": 34,
   "id": "1a815246",
   "metadata": {
    "ExecuteTime": {
     "end_time": "2023-09-20T17:48:44.017628700Z",
     "start_time": "2023-09-20T17:48:43.988583900Z"
    }
   },
   "outputs": [
    {
     "data": {
      "text/plain": "               Pe        Tm     delta        Pt         w        Te\nTime                                                               \n0.02000 -0.001771  0.000000 -0.000710 -0.001771  1.000507  0.000000\n0.02005 -0.001771  0.000000 -0.000710 -0.001771  1.000507  0.000000\n0.02010 -0.001771  0.000000 -0.000710 -0.001771  1.000507  0.000000\n0.02015 -0.001771  0.000000 -0.000710 -0.001771  1.000507  0.000000\n0.02020 -0.001771  0.000000 -0.000710 -0.001771  1.000507  0.000000\n...           ...       ...       ...       ...       ...       ...\n0.37975  0.488091  1.056364  0.578104  0.502388  0.946643  1.070208\n0.37980  0.488098  1.056365  0.578137  0.502388  0.946643  1.070199\n0.37985  0.488106  1.056365  0.578170  0.502388  0.946642  1.070209\n0.37990  0.488113  1.056365  0.578203  0.502388  0.946642  1.070209\n0.37995  0.488120  1.056365  0.578236  0.502388  0.946642  1.070209\n\n[7200 rows x 6 columns]",
      "text/html": "<div>\n<style scoped>\n    .dataframe tbody tr th:only-of-type {\n        vertical-align: middle;\n    }\n\n    .dataframe tbody tr th {\n        vertical-align: top;\n    }\n\n    .dataframe thead th {\n        text-align: right;\n    }\n</style>\n<table border=\"1\" class=\"dataframe\">\n  <thead>\n    <tr style=\"text-align: right;\">\n      <th></th>\n      <th>Pe</th>\n      <th>Tm</th>\n      <th>delta</th>\n      <th>Pt</th>\n      <th>w</th>\n      <th>Te</th>\n    </tr>\n    <tr>\n      <th>Time</th>\n      <th></th>\n      <th></th>\n      <th></th>\n      <th></th>\n      <th></th>\n      <th></th>\n    </tr>\n  </thead>\n  <tbody>\n    <tr>\n      <th>0.02000</th>\n      <td>-0.001771</td>\n      <td>0.000000</td>\n      <td>-0.000710</td>\n      <td>-0.001771</td>\n      <td>1.000507</td>\n      <td>0.000000</td>\n    </tr>\n    <tr>\n      <th>0.02005</th>\n      <td>-0.001771</td>\n      <td>0.000000</td>\n      <td>-0.000710</td>\n      <td>-0.001771</td>\n      <td>1.000507</td>\n      <td>0.000000</td>\n    </tr>\n    <tr>\n      <th>0.02010</th>\n      <td>-0.001771</td>\n      <td>0.000000</td>\n      <td>-0.000710</td>\n      <td>-0.001771</td>\n      <td>1.000507</td>\n      <td>0.000000</td>\n    </tr>\n    <tr>\n      <th>0.02015</th>\n      <td>-0.001771</td>\n      <td>0.000000</td>\n      <td>-0.000710</td>\n      <td>-0.001771</td>\n      <td>1.000507</td>\n      <td>0.000000</td>\n    </tr>\n    <tr>\n      <th>0.02020</th>\n      <td>-0.001771</td>\n      <td>0.000000</td>\n      <td>-0.000710</td>\n      <td>-0.001771</td>\n      <td>1.000507</td>\n      <td>0.000000</td>\n    </tr>\n    <tr>\n      <th>...</th>\n      <td>...</td>\n      <td>...</td>\n      <td>...</td>\n      <td>...</td>\n      <td>...</td>\n      <td>...</td>\n    </tr>\n    <tr>\n      <th>0.37975</th>\n      <td>0.488091</td>\n      <td>1.056364</td>\n      <td>0.578104</td>\n      <td>0.502388</td>\n      <td>0.946643</td>\n      <td>1.070208</td>\n    </tr>\n    <tr>\n      <th>0.37980</th>\n      <td>0.488098</td>\n      <td>1.056365</td>\n      <td>0.578137</td>\n      <td>0.502388</td>\n      <td>0.946643</td>\n      <td>1.070199</td>\n    </tr>\n    <tr>\n      <th>0.37985</th>\n      <td>0.488106</td>\n      <td>1.056365</td>\n      <td>0.578170</td>\n      <td>0.502388</td>\n      <td>0.946642</td>\n      <td>1.070209</td>\n    </tr>\n    <tr>\n      <th>0.37990</th>\n      <td>0.488113</td>\n      <td>1.056365</td>\n      <td>0.578203</td>\n      <td>0.502388</td>\n      <td>0.946642</td>\n      <td>1.070209</td>\n    </tr>\n    <tr>\n      <th>0.37995</th>\n      <td>0.488120</td>\n      <td>1.056365</td>\n      <td>0.578236</td>\n      <td>0.502388</td>\n      <td>0.946642</td>\n      <td>1.070209</td>\n    </tr>\n  </tbody>\n</table>\n<p>7200 rows × 6 columns</p>\n</div>"
     },
     "execution_count": 34,
     "metadata": {},
     "output_type": "execute_result"
    }
   ],
   "source": [
    "input_data.set_index('Time',inplace=True)\n",
    "input_data"
   ]
  },
  {
   "cell_type": "code",
   "execution_count": 35,
   "id": "d25b23cb",
   "metadata": {
    "ExecuteTime": {
     "end_time": "2023-09-20T17:48:52.127262300Z",
     "start_time": "2023-09-20T17:48:52.103653400Z"
    }
   },
   "outputs": [
    {
     "data": {
      "text/plain": "array([0.02   , 0.02005, 0.0201 , ..., 0.37985, 0.3799 , 0.37995])"
     },
     "execution_count": 35,
     "metadata": {},
     "output_type": "execute_result"
    }
   ],
   "source": [
    "x = input_data.index.to_numpy()\n",
    "x"
   ]
  },
  {
   "cell_type": "code",
   "execution_count": 36,
   "id": "ff31b2ce",
   "metadata": {
    "ExecuteTime": {
     "end_time": "2023-09-20T17:48:53.481512400Z",
     "start_time": "2023-09-20T17:48:53.456910300Z"
    }
   },
   "outputs": [
    {
     "data": {
      "text/plain": "array([[-1.77114809e-03,  0.00000000e+00, -7.09601712e-04,\n        -1.77111252e-03,  1.00050723e+00,  0.00000000e+00],\n       [-1.77114807e-03,  0.00000000e+00, -7.09598383e-04,\n        -1.77111250e-03,  1.00050723e+00,  0.00000000e+00],\n       [-1.77114805e-03,  0.00000000e+00, -7.09609055e-04,\n        -1.77111248e-03,  1.00050723e+00,  0.00000000e+00],\n       ...,\n       [ 4.88105517e-01,  1.05636492e+00,  5.78169930e-01,\n         5.02387957e-01,  9.46642333e-01,  1.07020887e+00],\n       [ 4.88112627e-01,  1.05636518e+00,  5.78203074e-01,\n         5.02387811e-01,  9.46642102e-01,  1.07020913e+00],\n       [ 4.88119734e-01,  1.05636544e+00,  5.78236217e-01,\n         5.02387665e-01,  9.46641872e-01,  1.07020913e+00]])"
     },
     "execution_count": 36,
     "metadata": {},
     "output_type": "execute_result"
    }
   ],
   "source": [
    "y = input_data.to_numpy()\n",
    "y"
   ]
  },
  {
   "cell_type": "code",
   "execution_count": 37,
   "id": "6652a9e0",
   "metadata": {
    "ExecuteTime": {
     "end_time": "2023-09-20T17:48:56.455443600Z",
     "start_time": "2023-09-20T17:48:56.433780100Z"
    }
   },
   "outputs": [],
   "source": [
    "geom = dde.geometry.TimeDomain(0, x[-1])"
   ]
  },
  {
   "cell_type": "code",
   "execution_count": 38,
   "id": "580af80b",
   "metadata": {
    "ExecuteTime": {
     "end_time": "2023-09-20T17:49:19.802214900Z",
     "start_time": "2023-09-20T17:49:19.785204800Z"
    }
   },
   "outputs": [],
   "source": [
    "# H * d2_delta/dt2 (This is dw/dt) + D * d_delta/dt + P_ex - P_mach = 0\n",
    "def Microgrid_system(x, y):\n",
    "    \"\"\"Modified Lorenz system (with exogenous input).\n",
    "    H * d2_delta/dt2 (This is dw/dt) + D * d_delta/dt + P_ex - P_mach = 0\n",
    "    \"\"\"\n",
    "    # time = x\n",
    "    P_ex, T_m, delta, Pt, w, Te = y[:, 0:1], y[:, 1:2], y[:, 2:3], y[:, 3:4], y[:, 4:5], y[:, 5:6]\n",
    "    \n",
    "    # d_delta_dt = dde.grad.jacobian(y, x, i=3)\n",
    "    dw_dt = dde.grad.jacobian(y, x, i=4)\n",
    "    # dw_dt = dde.grad.hessian(y, x, i=1)\n",
    "    return [\n",
    "        2 * H * dw_dt - T_m + Te\n",
    "    ]\n"
   ]
  },
  {
   "cell_type": "code",
   "execution_count": 39,
   "id": "450084ad",
   "metadata": {
    "ExecuteTime": {
     "end_time": "2023-09-20T17:49:20.848429100Z",
     "start_time": "2023-09-20T17:49:20.816910300Z"
    }
   },
   "outputs": [],
   "source": [
    "# class ex_func2():\n",
    "#     def __init__(self, input_data):\n",
    "#         self.input_data = input_data\n",
    "#     def fun(self, t):\n",
    "#         t = t.reshape(-1, )\n",
    "#         return self.input_data.iloc[t]['Subsystem #1|CTLs|Vars|PGEN'].to_numpy().reshape(-1, 1)"
   ]
  },
  {
   "cell_type": "code",
   "execution_count": 40,
   "id": "3d0d718a",
   "metadata": {
    "ExecuteTime": {
     "end_time": "2023-09-20T17:49:22.808208700Z",
     "start_time": "2023-09-20T17:49:22.774174900Z"
    }
   },
   "outputs": [
    {
     "data": {
      "text/plain": "array([[-1.77114809e-03,  0.00000000e+00, -7.09601712e-04,\n        -1.77111252e-03,  1.00050723e+00,  0.00000000e+00],\n       [-1.77114807e-03,  0.00000000e+00, -7.09598383e-04,\n        -1.77111250e-03,  1.00050723e+00,  0.00000000e+00],\n       [-1.77114805e-03,  0.00000000e+00, -7.09609055e-04,\n        -1.77111248e-03,  1.00050723e+00,  0.00000000e+00],\n       ...,\n       [ 4.88105517e-01,  1.05636492e+00,  5.78169930e-01,\n         5.02387957e-01,  9.46642333e-01,  1.07020887e+00],\n       [ 4.88112627e-01,  1.05636518e+00,  5.78203074e-01,\n         5.02387811e-01,  9.46642102e-01,  1.07020913e+00],\n       [ 4.88119734e-01,  1.05636544e+00,  5.78236217e-01,\n         5.02387665e-01,  9.46641872e-01,  1.07020913e+00]])"
     },
     "execution_count": 40,
     "metadata": {},
     "output_type": "execute_result"
    }
   ],
   "source": [
    "observe_t = x.reshape(-1, 1)\n",
    "ob_y = y\n",
    "ob_y"
   ]
  },
  {
   "cell_type": "code",
   "execution_count": 47,
   "outputs": [],
   "source": [
    "observe_y0 = dde.icbc.PointSetBC(observe_t, ob_y[:, 0:1], component=0)\n",
    "observe_y1 = dde.icbc.PointSetBC(observe_t, ob_y[:, 1:2], component=1)\n",
    "observe_y2 = dde.icbc.PointSetBC(observe_t, ob_y[:, 2:3], component=2)\n",
    "observe_y3 = dde.icbc.PointSetBC(observe_t, ob_y[:, 3:4], component=3)\n",
    "observe_y4 = dde.icbc.PointSetBC(observe_t, ob_y[:, 4:5], component=4)\n",
    "observe_y5 = dde.icbc.PointSetBC(observe_t, ob_y[:, 5:6], component=5)"
   ],
   "metadata": {
    "collapsed": false,
    "ExecuteTime": {
     "end_time": "2023-09-20T17:52:32.817082400Z",
     "start_time": "2023-09-20T17:52:32.800358200Z"
    }
   }
  },
  {
   "cell_type": "code",
   "execution_count": null,
   "outputs": [],
   "source": [
    "ic1 = dde.icbc.IC(geom, lambda X: -0.001771, boundary, component=0)\n",
    "ic2 = dde.icbc.IC(geom, lambda X: 0, boundary, component=1)\n",
    "ic3 = dde.icbc.IC(geom, lambda X: 0, boundary, component=1)"
   ],
   "metadata": {
    "collapsed": false
   }
  },
  {
   "cell_type": "code",
   "execution_count": 42,
   "id": "6a9379d0",
   "metadata": {
    "ExecuteTime": {
     "end_time": "2023-09-20T17:49:52.263402600Z",
     "start_time": "2023-09-20T17:49:52.231465Z"
    }
   },
   "outputs": [],
   "source": [
    "data = dde.data.PDE(\n",
    "    geom,\n",
    "    Microgrid_system,\n",
    "    [],\n",
    "    # num_domain=7200,\n",
    "    # num_boundary=0,\n",
    "    anchors=observe_t,\n",
    "#     auxiliary_var_function=ex_func2(input_data).fun,\n",
    ")"
   ]
  },
  {
   "cell_type": "code",
   "execution_count": 42,
   "outputs": [],
   "source": [],
   "metadata": {
    "collapsed": false,
    "ExecuteTime": {
     "end_time": "2023-09-20T17:49:54.163497800Z",
     "start_time": "2023-09-20T17:49:54.161494900Z"
    }
   }
  },
  {
   "cell_type": "code",
   "execution_count": 43,
   "id": "4feeb06b",
   "metadata": {
    "scrolled": true,
    "ExecuteTime": {
     "end_time": "2023-09-20T17:49:56.167434800Z",
     "start_time": "2023-09-20T17:49:55.733801900Z"
    }
   },
   "outputs": [
    {
     "name": "stdout",
     "output_type": "stream",
     "text": [
      "Compiling model...\n",
      "Warning: For the backend tensorflow.compat.v1, `external_trainable_variables` is ignored, and all trainable ``tf.Variable`` objects are automatically collected.\n",
      "Building feed-forward neural network...\n",
      "'build' took 0.185940 s\n",
      "\n"
     ]
    },
    {
     "name": "stderr",
     "output_type": "stream",
     "text": [
      "C:\\env\\Lib\\site-packages\\deepxde\\nn\\tensorflow_compat_v1\\fnn.py:114: UserWarning: `tf.layers.dense` is deprecated and will be removed in a future version. Please use `tf.keras.layers.Dense` instead.\n",
      "  return tf.layers.dense(\n"
     ]
    },
    {
     "name": "stdout",
     "output_type": "stream",
     "text": [
      "'compile' took 0.409251 s\n",
      "\n"
     ]
    }
   ],
   "source": [
    "net = dde.nn.FNN([1] + [40] * 3 + [6], \"tanh\", \"Glorot uniform\")\n",
    "model = dde.Model(data, net)\n",
    "model.compile(\"adam\", lr=0.001, external_trainable_variables=[H])\n",
    "\n"
   ]
  },
  {
   "cell_type": "code",
   "execution_count": 44,
   "id": "e72f1ac8",
   "metadata": {
    "scrolled": true,
    "ExecuteTime": {
     "end_time": "2023-09-20T17:52:15.899181100Z",
     "start_time": "2023-09-20T17:49:57.594074400Z"
    }
   },
   "outputs": [
    {
     "name": "stdout",
     "output_type": "stream",
     "text": [
      "Initializing variables...\n",
      "Training model...\n",
      "\n",
      "Step      Train loss    Test loss     Test metric\n",
      "0         [2.86e-01]    [2.86e-01]    []  \n",
      "1000      [1.64e-06]    [1.64e-06]    []  \n",
      "2000      [1.16e-06]    [1.16e-06]    []  \n",
      "3000      [6.61e-07]    [6.61e-07]    []  \n",
      "4000      [3.65e-07]    [3.65e-07]    []  \n",
      "5000      [2.42e-07]    [2.42e-07]    []  \n",
      "6000      [1.63e-07]    [1.63e-07]    []  \n",
      "7000      [1.18e-07]    [1.18e-07]    []  \n",
      "8000      [7.94e-08]    [7.94e-08]    []  \n",
      "9000      [5.35e-08]    [5.35e-08]    []  \n",
      "10000     [2.78e-07]    [2.78e-07]    []  \n",
      "11000     [2.33e-08]    [2.33e-08]    []  \n",
      "12000     [1.61e-08]    [1.61e-08]    []  \n",
      "13000     [3.69e-05]    [3.69e-05]    []  \n",
      "14000     [6.02e-09]    [6.02e-09]    []  \n",
      "15000     [3.72e-09]    [3.72e-09]    []  \n",
      "\n",
      "Best model at step 15000:\n",
      "  train loss: 3.72e-09\n",
      "  test loss: 3.72e-09\n",
      "  test metric: []\n",
      "\n",
      "'train' took 138.297711 s\n",
      "\n"
     ]
    },
    {
     "data": {
      "text/plain": "(<deepxde.model.LossHistory at 0x18231a85f10>,\n <deepxde.model.TrainState at 0x18231929290>)"
     },
     "execution_count": 44,
     "metadata": {},
     "output_type": "execute_result"
    }
   ],
   "source": [
    "fnamevar = \"variables.dat\"\n",
    "variable = dde.callbacks.VariableValue([H], period=200, filename=fnamevar)\n",
    "model.train(iterations=15000, callbacks=[variable])"
   ]
  },
  {
   "cell_type": "code",
   "execution_count": 45,
   "id": "3f965584",
   "metadata": {
    "ExecuteTime": {
     "end_time": "2023-09-20T17:52:15.910110700Z",
     "start_time": "2023-09-20T17:52:15.899181100Z"
    }
   },
   "outputs": [],
   "source": [
    "lines = open(fnamevar, \"r\").readlines()\n",
    "# read output data in fnamevar (this line is a long story...)\n",
    "Chat = np.array(\n",
    "    [\n",
    "        np.fromstring(\n",
    "            min(re.findall(re.escape(\"[\") + \"(.*?)\" + re.escape(\"]\"), line), key=len),\n",
    "            sep=\",\",\n",
    "        )\n",
    "        for line in lines\n",
    "    ]\n",
    ")"
   ]
  },
  {
   "cell_type": "markdown",
   "source": [
    "l, c = Chat.shape\n",
    "plt.plot(range(l), Chat[:, 0], \"r-\")\n",
    "plt.plot(range(l), Chat[:, 1], \"k-\")\n",
    "\n",
    "plt.plot(range(l), np.ones(Chat[:, 0].shape) * 1.7, \"r--\")\n",
    "plt.plot(range(l), np.ones(Chat[:, 1].shape) * 0.12, \"k--\")\n",
    "\n",
    "plt.legend([\"Hhat\", \"Dhat\",\"True H\", \"True D\"], loc=\"right\")\n",
    "plt.xlabel(\"Epoch\")"
   ],
   "metadata": {
    "collapsed": false
   }
  },
  {
   "cell_type": "code",
   "execution_count": 46,
   "outputs": [
    {
     "data": {
      "text/plain": "Text(0.5, 0, 'Epoch')"
     },
     "execution_count": 46,
     "metadata": {},
     "output_type": "execute_result"
    },
    {
     "data": {
      "text/plain": "<Figure size 640x480 with 1 Axes>",
      "image/png": "[encoded data removed]"
     },
     "metadata": {},
     "output_type": "display_data"
    }
   ],
   "source": [
    "l, c = Chat.shape\n",
    "plt.plot(range(l), Chat[:, 0], \"r-\")\n",
    "plt.plot(range(l), np.ones(Chat[:, 0].shape) * 0.85, \"r--\")\n",
    "plt.xlabel(\"Epoch\")"
   ],
   "metadata": {
    "collapsed": false,
    "ExecuteTime": {
     "end_time": "2023-09-20T17:52:16.098232Z",
     "start_time": "2023-09-20T17:52:15.971110800Z"
    }
   }
  },
  {
   "cell_type": "markdown",
   "source": [
    "yhat = model.predict(observe_t)\n",
    "plt.figure()\n",
    "plt.plot(observe_t, y, \"-\", observe_t, yhat, \"--\")\n",
    "plt.xlabel(\"Time\")\n",
    "plt.legend([\"P_ex\", \"delta\", \"P_mach\", \"dw\", \"hP_ex\", \"hdelta\", \"hP_mach\", \"hdw\"])\n",
    "plt.title(\"Training data\")\n",
    "plt.show()"
   ],
   "metadata": {
    "collapsed": false
   }
  },
  {
   "cell_type": "code",
   "execution_count": 18,
   "outputs": [],
   "source": [],
   "metadata": {
    "collapsed": false,
    "ExecuteTime": {
     "end_time": "2023-09-19T14:27:20.060892200Z",
     "start_time": "2023-09-19T14:27:20.059381800Z"
    }
   }
  }
 ],
 "metadata": {
  "kernelspec": {
   "display_name": "Python 3 (ipykernel)",
   "language": "python",
   "name": "python3"
  },
  "language_info": {
   "codemirror_mode": {
    "name": "ipython",
    "version": 3
   },
   "file_extension": ".py",
   "mimetype": "text/x-python",
   "name": "python",
   "nbconvert_exporter": "python",
   "pygments_lexer": "ipython3",
   "version": "3.9.12"
  },
  "toc": {
   "base_numbering": 1,
   "nav_menu": {},
   "number_sections": true,
   "sideBar": true,
   "skip_h1_title": false,
   "title_cell": "Table of Contents",
   "title_sidebar": "Contents",
   "toc_cell": false,
   "toc_position": {},
   "toc_section_display": true,
   "toc_window_display": false
  },
  "varInspector": {
   "cols": {
    "lenName": 16,
    "lenType": 16,
    "lenVar": 40
   },
   "kernels_config": {
    "python": {
     "delete_cmd_postfix": "",
     "delete_cmd_prefix": "del ",
     "library": "var_list.py",
     "varRefreshCmd": "print(var_dic_list())"
    },
    "r": {
     "delete_cmd_postfix": ") ",
     "delete_cmd_prefix": "rm(",
     "library": "var_list.r",
     "varRefreshCmd": "cat(var_dic_list()) "
    }
   },
   "types_to_exclude": [
    "module",
    "function",
    "builtin_function_or_method",
    "instance",
    "_Feature"
   ],
   "window_display": false
  }
 },
 "nbformat": 4,
 "nbformat_minor": 5
}
