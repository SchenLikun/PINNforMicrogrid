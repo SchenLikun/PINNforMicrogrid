{
 "cells": [
  {
   "cell_type": "code",
   "execution_count": null,
   "id": "3db7db65",
   "metadata": {},
   "outputs": [],
   "source": [
    "import pandas as pd\n",
    "import deepxde as dde\n",
    "import numpy as np\n",
    "import re\n",
    "import matplotlib.pyplot as plt\n",
    "from deepxde.backend import torch"
   ]
  },
  {
   "cell_type": "code",
   "execution_count": null,
   "id": "c5d0d028",
   "metadata": {},
   "outputs": [],
   "source": [
    "Kt = dde.Variable(1.0)\n",
    "Rs = dde.Variable(1.0)\n",
    "Rsh = dde.Variable(1.0)\n",
    "Iso = dde.Variable(1.0)"
   ]
  },
  {
   "cell_type": "code",
   "execution_count": null,
   "id": "bdc5e241-3786-4ec8-8ac8-7c30960dbbb2",
   "metadata": {},
   "outputs": [],
   "source": [
    "Var_list = [Kt, Rs, Rsh, Iso]"
   ]
  },
  {
   "cell_type": "code",
   "execution_count": null,
   "id": "16f1c90d",
   "metadata": {
    "jupyter": {
     "outputs_hidden": false
    }
   },
   "outputs": [],
   "source": [
    "# '''\n",
    "# 24th July, 2023 created by Likun Chen, Wuhan University\n",
    "# This is for testing the PINN parameter estimation, object: syn-machine\n",
    "# EXT Parameters:\n",
    "#     Vi , initial terminal voltage : 1.0 pu\n",
    "#     Ta , voltage regulator time constant : 0.4 sec\n",
    "#     Kf , rate feedback gain : 0.03\n",
    "# SYN Parameters:\n",
    "#     H , inertia constant : 1.7 MWs/MVA\n",
    "#     D , synchronous mechanical damping : 0.12 pu/pu\n",
    "#     Xa , stator leakage reactance : 0.130 pu\n",
    "#     Xd , d-axis unsaturated reactance : 1.79 pu\n",
    "#     Xd' , d-axis unsaturated transient reactance : 0.169 pu\n",
    "#     Xd'' , d-axis unsaturated Sub-Trans reactance : 0.135 pu\n",
    "#     Xq , q-axis unsaturated reactance : 1.71 pu\n",
    "#     Xq' , q-axis unsaturated transient reactance : 0.228 pu\n",
    "#     Xq'' , q-axis unsaturated Sub-Trans reactance : 0.2 pu\n",
    "# For 2-order equation, the state variables are rev (w) and phase angle (delta), \n",
    "# parameters waiting estimated are H , D , Eq' = Ed' = const\n",
    "#     H * d2_delta/dt2 (This is dw/dt) + D * d_delta/dt + P_ex - P_mach = 0\n",
    "#     P_ex is external power balance and P_mach is the mechanical power\n",
    "#     time， P_ex, delta, P_mach, dw\n",
    "# '''"
   ]
  },
  {
   "cell_type": "code",
   "execution_count": null,
   "id": "75332442",
   "metadata": {
    "scrolled": true
   },
   "outputs": [],
   "source": [
    "input_data = pd.read_csv('data/1011PVtest.csv')\n",
    "input_data"
   ]
  },
  {
   "cell_type": "code",
   "execution_count": null,
   "id": "ed10edc0-5631-4403-8766-1332cb257695",
   "metadata": {},
   "outputs": [],
   "source": [
    "step_time = input_data.Time[1] - input_data.Time[0]\n",
    "st = 0.4 # start time (10% proportion)\n",
    "et = 0.6 # end time\n",
    "input_data.Time -= step_time * int(input_data.shape[0] * st)\n",
    "input_data = input_data[int(input_data.shape[0]*st): int(input_data.shape[0]*et)]"
   ]
  },
  {
   "cell_type": "code",
   "execution_count": null,
   "id": "58d4c381-5053-41fc-90b9-a688eba7fad9",
   "metadata": {},
   "outputs": [],
   "source": [
    "input_data.columns = ['Time', 'V', 'I', 'Is']\n",
    "input_data.drop(columns='Is', inplace=True)\n",
    "input_data.set_index('Time', inplace=True)\n",
    "input_data"
   ]
  },
  {
   "cell_type": "code",
   "execution_count": null,
   "id": "4138a02a-5779-4393-afc6-3d1116168948",
   "metadata": {},
   "outputs": [],
   "source": [
    "weight_list = (1 / input_data.describe().loc['mean']).tolist()\n",
    "weight_list"
   ]
  },
  {
   "cell_type": "code",
   "execution_count": null,
   "id": "404bafdc-6240-4ddd-8ab9-56a81cf4d806",
   "metadata": {},
   "outputs": [],
   "source": [
    "input_data.plot()"
   ]
  },
  {
   "cell_type": "code",
   "execution_count": null,
   "id": "d25b23cb",
   "metadata": {},
   "outputs": [],
   "source": [
    "x = input_data.index.to_numpy()\n",
    "x"
   ]
  },
  {
   "cell_type": "code",
   "execution_count": null,
   "id": "87c9872e",
   "metadata": {},
   "outputs": [],
   "source": [
    "geom = dde.geometry.TimeDomain(0, x[-1])"
   ]
  },
  {
   "cell_type": "code",
   "execution_count": null,
   "id": "f6cf8e8d",
   "metadata": {},
   "outputs": [],
   "source": [
    "# def boundary(_, on_initial):\n",
    "#     return on_initial"
   ]
  },
  {
   "cell_type": "code",
   "execution_count": null,
   "id": "fc05fefc",
   "metadata": {},
   "outputs": [],
   "source": [
    "# x0 = input_data.iloc[0].tolist()"
   ]
  },
  {
   "cell_type": "code",
   "execution_count": null,
   "id": "f2f426af",
   "metadata": {},
   "outputs": [],
   "source": [
    "# # Initial conditions\n",
    "# ic1 = dde.icbc.IC(geom, lambda X: x0[0], boundary, component=0)\n",
    "# ic2 = dde.icbc.IC(geom, lambda X: x0[1], boundary, component=1)\n",
    "# ic3 = dde.icbc.IC(geom, lambda X: x0[2], boundary, component=2)"
   ]
  },
  {
   "cell_type": "code",
   "execution_count": null,
   "id": "ff31b2ce",
   "metadata": {},
   "outputs": [],
   "source": [
    "y = input_data.to_numpy()\n",
    "y.shape"
   ]
  },
  {
   "cell_type": "code",
   "execution_count": null,
   "id": "3d0d718a",
   "metadata": {},
   "outputs": [],
   "source": [
    "observe_t = x.reshape(-1, 1)"
   ]
  },
  {
   "cell_type": "code",
   "execution_count": null,
   "id": "788868f6",
   "metadata": {},
   "outputs": [],
   "source": [
    "# Get the training data\n",
    "observe_y0 = dde.icbc.PointSetBC(observe_t, y[:, 0:1], component=0)\n",
    "observe_y1 = dde.icbc.PointSetBC(observe_t, y[:, 1:2], component=1)\n",
    "# observe_y2 = dde.icbc.PointSetBC(observe_t, y[:, 2:3], component=2)"
   ]
  },
  {
   "cell_type": "code",
   "execution_count": null,
   "id": "580af80b",
   "metadata": {},
   "outputs": [],
   "source": [
    "# Kt = dde.Variable(0.0)\n",
    "# Rs = dde.Variable(0.0)\n",
    "# Rsh = dde.Variable(0.0)\n",
    "def Microgrid_system(x, y):\n",
    "    \"\"\"Modified Lorenz system (with exogenous input).\n",
    "    H * d2_delta/dt2 (This is dw/dt) + D * d_delta/dt + P_ex - P_mach = 0\n",
    "    \"\"\"\n",
    "    V, I = y[:, 0:1], y[:, 1:2]\n",
    "    \n",
    "    \n",
    "    dV_dt = dde.grad.jacobian(y, x, i=0)\n",
    "    dI_dt = dde.grad.jacobian(y, x, i=1)\n",
    "\n",
    "    left = 1 + Iso*Rs/Kt*torch.exp((V+I*Rs)/Kt)  + Rs/Rsh\n",
    "    right = - dV_dt / dI_dt * (Iso/Kt*torch.exp((Rs*I+V)/Kt) + 1/Rsh)\n",
    "    \n",
    "    return [\n",
    "        left - right\n",
    "    ]\n"
   ]
  },
  {
   "cell_type": "code",
   "execution_count": null,
   "id": "6a9379d0",
   "metadata": {},
   "outputs": [],
   "source": [
    "data = dde.data.PDE(\n",
    "    geom,\n",
    "    Microgrid_system,\n",
    "    [observe_y0, observe_y1],\n",
    "    anchors=observe_t,\n",
    ")"
   ]
  },
  {
   "cell_type": "code",
   "execution_count": null,
   "id": "17e9eee7-4db3-43e1-8664-e39cab056b9c",
   "metadata": {},
   "outputs": [],
   "source": [
    "net = dde.nn.FNN([2] + [128] * 3 + [2], \"swish\", \"Glorot normal\")"
   ]
  },
  {
   "cell_type": "code",
   "execution_count": null,
   "id": "80db6378-b15e-4172-a4ae-3201da28a72f",
   "metadata": {},
   "outputs": [],
   "source": [
    "data_y = y\n",
    "data_t = x"
   ]
  },
  {
   "cell_type": "code",
   "execution_count": null,
   "id": "0169f328-9bc1-4540-b55e-18a0b6e775ed",
   "metadata": {},
   "outputs": [],
   "source": [
    "y.shape"
   ]
  },
  {
   "cell_type": "code",
   "execution_count": null,
   "id": "50ee58bd-fd9b-480a-8050-f4023323888e",
   "metadata": {},
   "outputs": [],
   "source": [
    "def feature_transform(t):\n",
    "    t = 0.01 * t\n",
    "    return torch.concat(\n",
    "        (torch.sin(t), torch.sin(2 * t)),\n",
    "        axis=1,\n",
    "    )\n",
    "\n",
    "net.apply_feature_transform(feature_transform)\n",
    "\n",
    "def output_transform(t, y):\n",
    "    idx = data_y.shape[0]-1\n",
    "    k = (data_y[idx] - data_y[0]) / (data_t[idx] - data_t[0])\n",
    "    b = (data_t[idx] * data_y[0] - data_t[0] * data_y[idx]) / (\n",
    "        data_t[idx] - data_t[0]\n",
    "    )\n",
    "    linear = torch.as_tensor(k) * t + torch.as_tensor(b)\n",
    "    factor = torch.tanh(t) * torch.tanh(idx - t)\n",
    "    return linear + factor * torch.Tensor([1., 1.]) * y\n",
    "\n",
    "net.apply_output_transform(output_transform)"
   ]
  },
  {
   "cell_type": "code",
   "execution_count": null,
   "id": "4feeb06b",
   "metadata": {
    "scrolled": true
   },
   "outputs": [],
   "source": [
    "\n",
    "model = dde.Model(data, net)\n",
    "model.compile(\"adam\", lr=0.001, loss_weights=weight_list + [1e-2], external_trainable_variables=Var_list)\n",
    "\n"
   ]
  },
  {
   "cell_type": "code",
   "execution_count": null,
   "id": "e72f1ac8",
   "metadata": {
    "scrolled": true
   },
   "outputs": [],
   "source": [
    "fnamevar = \"variables_testclk1.dat\"\n",
    "variable = dde.callbacks.VariableValue(Var_list, period=1000, filename=fnamevar)\n",
    "model.train(iterations=100000, callbacks=[variable])"
   ]
  },
  {
   "cell_type": "code",
   "execution_count": null,
   "id": "3f965584",
   "metadata": {},
   "outputs": [],
   "source": [
    "lines = open(fnamevar, \"r\").readlines()\n",
    "# read output data in fnamevar (this line is a long story...)\n",
    "Chat = np.array(\n",
    "    [\n",
    "        np.fromstring(\n",
    "            min(re.findall(re.escape(\"[\") + \"(.*?)\" + re.escape(\"]\"), line), key=len),\n",
    "            sep=\",\",\n",
    "        )\n",
    "        for line in lines\n",
    "    ]\n",
    ")"
   ]
  },
  {
   "cell_type": "code",
   "execution_count": null,
   "id": "aebe41ed-20c4-4088-b235-e5243cc47cdc",
   "metadata": {},
   "outputs": [],
   "source": [
    "Chat[-10:, :]"
   ]
  },
  {
   "cell_type": "code",
   "execution_count": null,
   "id": "7eb6048a",
   "metadata": {},
   "outputs": [],
   "source": [
    "l, c = Chat.shape\n",
    "plt.plot(range(l), Chat[:, 0], \"r-\")\n",
    "plt.plot(range(l), Chat[:, 1], \"b-\")\n",
    "plt.plot(range(l), Chat[:, 2], \"y-\")\n",
    "plt.plot(range(l), Chat[:, 3], \"g-\")\n",
    "# plt.plot(range(l), np.ones(Chat[:, 0].shape) * 1.5, \"r--\")\n",
    "# plt.plot(range(l), np.ones(Chat[:, 1].shape) * 0.15, \"b--\")\n",
    "plt.legend([\"H\",\"D\",\"True H\",\"True D\"], loc=\"right\")\n",
    "plt.xlabel(\"Epoch\")"
   ]
  },
  {
   "cell_type": "code",
   "execution_count": null,
   "id": "95ffdf6d",
   "metadata": {
    "scrolled": true
   },
   "outputs": [],
   "source": [
    "Chat[-10:, 0:2]"
   ]
  },
  {
   "cell_type": "code",
   "execution_count": null,
   "id": "82f774b8",
   "metadata": {},
   "outputs": [],
   "source": [
    "yhat = model.predict(observe_t)\n",
    "plt.figure()\n",
    "plt.plot(observe_t, y, \"-\", observe_t, yhat, \"--\")\n",
    "plt.xlabel(\"Time\")\n",
    "# plt.legend([\"x\", \"y\", \"z\", \"xh\", \"yh\", \"zh\"])\n",
    "# plt.title(\"Training data\")\n",
    "plt.show()"
   ]
  },
  {
   "cell_type": "code",
   "execution_count": null,
   "id": "b5436456",
   "metadata": {},
   "outputs": [],
   "source": []
  },
  {
   "cell_type": "code",
   "execution_count": null,
   "id": "5ecdb62e",
   "metadata": {
    "jupyter": {
     "outputs_hidden": false
    }
   },
   "outputs": [],
   "source": [
    "input_data = pd.read_csv('data/1011PVtest.csv')\n",
    "input_data.columns = ['Time', 'V', 'I', 'Iso']\n",
    "input_data"
   ]
  },
  {
   "cell_type": "code",
   "execution_count": null,
   "id": "000be1d6-353a-4cc4-a32f-110a8277718b",
   "metadata": {},
   "outputs": [],
   "source": [
    "Kt = dde.Variable(0.0)\n",
    "Rs = dde.Variable(0.0)\n",
    "Rsh = dde.Variable(0.0)"
   ]
  },
  {
   "cell_type": "code",
   "execution_count": null,
   "id": "bf49bea8-a715-4c10-9318-02b3d804469f",
   "metadata": {},
   "outputs": [],
   "source": [
    "Iso = input_data.Iso.to_numpy()[0]\n",
    "Iso"
   ]
  },
  {
   "cell_type": "code",
   "execution_count": null,
   "id": "c68fff9f-69fd-4215-85d2-52bae9393428",
   "metadata": {},
   "outputs": [],
   "source": [
    "1 +  Iso * "
   ]
  },
  {
   "cell_type": "code",
   "execution_count": null,
   "id": "897d78ce-aadb-4322-a9ee-aab0e5a025c3",
   "metadata": {},
   "outputs": [],
   "source": []
  }
 ],
 "metadata": {
  "kernelspec": {
   "display_name": "Python 3 (ipykernel)",
   "language": "python",
   "name": "python3"
  },
  "language_info": {
   "codemirror_mode": {
    "name": "ipython",
    "version": 3
   },
   "file_extension": ".py",
   "mimetype": "text/x-python",
   "name": "python",
   "nbconvert_exporter": "python",
   "pygments_lexer": "ipython3",
   "version": "3.9.12"
  },
  "toc": {
   "base_numbering": 1,
   "nav_menu": {},
   "number_sections": true,
   "sideBar": true,
   "skip_h1_title": false,
   "title_cell": "Table of Contents",
   "title_sidebar": "Contents",
   "toc_cell": false,
   "toc_position": {},
   "toc_section_display": true,
   "toc_window_display": false
  },
  "varInspector": {
   "cols": {
    "lenName": 16,
    "lenType": 16,
    "lenVar": 40
   },
   "kernels_config": {
    "python": {
     "delete_cmd_postfix": "",
     "delete_cmd_prefix": "del ",
     "library": "var_list.py",
     "varRefreshCmd": "print(var_dic_list())"
    },
    "r": {
     "delete_cmd_postfix": ") ",
     "delete_cmd_prefix": "rm(",
     "library": "var_list.r",
     "varRefreshCmd": "cat(var_dic_list()) "
    }
   },
   "types_to_exclude": [
    "module",
    "function",
    "builtin_function_or_method",
    "instance",
    "_Feature"
   ],
   "window_display": false
  }
 },
 "nbformat": 4,
 "nbformat_minor": 5
}
